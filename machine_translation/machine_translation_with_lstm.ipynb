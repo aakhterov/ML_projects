{
  "nbformat": 4,
  "nbformat_minor": 0,
  "metadata": {
    "colab": {
      "provenance": [],
      "toc_visible": true,
      "authorship_tag": "ABX9TyM03OszwxFqgpiICuJVmBUG",
      "include_colab_link": true
    },
    "kernelspec": {
      "name": "python3",
      "display_name": "Python 3"
    },
    "language_info": {
      "name": "python"
    }
  },
  "cells": [
    {
      "cell_type": "markdown",
      "metadata": {
        "id": "view-in-github",
        "colab_type": "text"
      },
      "source": [
        "<a href=\"https://colab.research.google.com/github/aakhterov/ML_projects/blob/master/machine_translation/machine_translation_with_lstm.ipynb\" target=\"_parent\"><img src=\"https://colab.research.google.com/assets/colab-badge.svg\" alt=\"Open In Colab\"/></a>"
      ]
    },
    {
      "cell_type": "markdown",
      "source": [
        "# 0. Description\n",
        "\n",
        "We're going to build an NN model to translate from Russian to English. This notebook is committed to the implementation of the simple encoder-decoder network with LSTM elements.\n",
        "\n",
        "We will use the following terms:\n",
        "- source language - the language from which the model translates\n",
        "- target language - the language to which the model translates\n",
        "- token = word\n",
        "\n",
        "\n",
        "Dataset: https://www.kaggle.com/datasets/hijest/englishrussian-dictionary-for-machine-translate/\n",
        "\n",
        "References:\n",
        "- https://github.com/Hvass-Labs/TensorFlow-Tutorials/blob/master/21_Machine_Translation.ipynb\n",
        "- https://www.youtube.com/watch?v=vI2Y3I-JI2Q\n",
        "- https://medium.com/analytics-vidhya/encoder-decoder-seq2seq-models-clearly-explained-c34186fbf49b\n",
        "\n"
      ],
      "metadata": {
        "id": "m-9HBe6We5LC"
      }
    },
    {
      "cell_type": "code",
      "execution_count": 1,
      "metadata": {
        "colab": {
          "base_uri": "https://localhost:8080/"
        },
        "id": "JrOij2Lsj3yA",
        "outputId": "35be90e4-5ff5-415b-8621-885f57e7d0b4"
      },
      "outputs": [
        {
          "output_type": "stream",
          "name": "stdout",
          "text": [
            "Mounted at /content/drive\n"
          ]
        }
      ],
      "source": [
        "from typing import List\n",
        "import numpy as np\n",
        "import pandas as pd\n",
        "import tensorflow as tf\n",
        "import seaborn as sns\n",
        "import matplotlib.pyplot as plt\n",
        "from string import punctuation\n",
        "from tensorflow.keras.layers import Embedding, LSTM, Dense, Input\n",
        "from tensorflow.keras.models import Model\n",
        "from tensorflow.keras.losses import SparseCategoricalCrossentropy\n",
        "from tensorflow.keras.utils import pad_sequences\n",
        "from sklearn.model_selection import train_test_split\n",
        "\n",
        "from google.colab import drive\n",
        "drive.mount('/content/drive')\n",
        "base_path = '/content/drive/MyDrive/Colab Notebooks/'"
      ]
    },
    {
      "cell_type": "markdown",
      "source": [
        "# 1. Vectorization"
      ],
      "metadata": {
        "id": "2IEg-hGLJfDv"
      }
    },
    {
      "cell_type": "code",
      "source": [
        "UNKNOWN_TOKEN = '[UNK]' # Out of vocabulary token\n",
        "START_TOKEN = '[START]' # The token that denotes the beginning of the target language phrase\n",
        "END_TOKEN = '[END]' # The token that denotes the end of the target language phrase"
      ],
      "metadata": {
        "id": "_RSzJxTxSmLY"
      },
      "execution_count": 2,
      "outputs": []
    },
    {
      "cell_type": "code",
      "source": [
        "class Vectorization:\n",
        "  '''\n",
        "    Vectorization text class.\n",
        "    Main goals:\n",
        "     - make a vocabulary\n",
        "     - convert the list of strings to the list of integer tokens\n",
        "     - convert the list of integer tokens to the list of strings\n",
        "  '''\n",
        "\n",
        "  def __init__(self,\n",
        "               max_tokens,\n",
        "               max_length=None,\n",
        "               unknown_token=UNKNOWN_TOKEN,\n",
        "               start_token=START_TOKEN,\n",
        "               end_token=END_TOKEN\n",
        "               ):\n",
        "    '''\n",
        "      :param max_tokens: length of the vocabulary\n",
        "      :param max_length: max length of the phrases\n",
        "      :param unknown_token: out of vocabulary token\n",
        "      :param start_token: token that denotes the beginning of the phrase\n",
        "      :param end_token: token that denotes the end of the phrase\n",
        "    '''\n",
        "    self.max_tokens = max_tokens\n",
        "    self.max_length = max_length\n",
        "    self.unknown_token = unknown_token\n",
        "    self.start_token = start_token\n",
        "    self.end_token=end_token\n",
        "    # add to the vocabulary:\n",
        "    #  (1) padding token (we're going to pad using 0, so padding token index is 0)\n",
        "    #  (2) out of vocabulary token\n",
        "    #  (3) start token\n",
        "    #  (4) end token\n",
        "    self.vocabulary = ['', self.unknown_token, self.start_token, self.end_token]\n",
        "\n",
        "  def __preprocessing(self, input: str) -> str:\n",
        "    '''\n",
        "      Preprocess of the string (convert to lowcase and remove punctuation).\n",
        "      ex.: I'm going! -> i m going\n",
        "      :param input - input string\n",
        "      :return preprocessed string\n",
        "    '''\n",
        "    output = ''.join(map(lambda ch: ch if ch not in punctuation else ' ', input.lower())).strip()\n",
        "    return output\n",
        "\n",
        "  def token_to_text(self, tokens: List) -> str:\n",
        "    '''\n",
        "      Convert the list of the integer tokens to the string\n",
        "      :param tokens: list of the integer tokens\n",
        "      :return string contains words that correspond to the integer tokens\n",
        "    '''\n",
        "    words = [self.vocabulary[token] for token in tokens]\n",
        "    return \" \".join(words)\n",
        "\n",
        "  def fit(self, X: List):\n",
        "    '''\n",
        "      Make the vocabulary and calculate the max length of the phrase\n",
        "      :param X: corpus - list of the strings\n",
        "      :return the instance of the current class\n",
        "    '''\n",
        "    lens = []\n",
        "    for x in X:\n",
        "      # Make preprocessing and get the list of the words.\n",
        "      # Ex. I'm going! -> ['i', 'm', 'going']\n",
        "      words = self.__preprocessing(x).split()\n",
        "\n",
        "      # Collect phrases lengths\n",
        "      lens.append(len(words))\n",
        "\n",
        "      # Make the vocabulary\n",
        "      for word in words:\n",
        "        token = word.strip()\n",
        "        # Add the word to the vocabulary if it usn't \"full\"\n",
        "        if token not in self.vocabulary and self.max_tokens is not None and len(self.vocabulary)<self.max_tokens:\n",
        "          self.vocabulary.append(token)\n",
        "\n",
        "    # Calculate the max length of the phrases if it isn't set in the __init__\n",
        "    # max_length = Average length + two standard devations\n",
        "    lens = np.array(lens)\n",
        "    if self.max_length is None:\n",
        "      self.max_length = int(np.mean(lens) + 2 * np.std(lens))\n",
        "    return self\n",
        "\n",
        "  def predict(self,\n",
        "              X: List[str],\n",
        "              is_padding=True,\n",
        "              is_add_start_token=False,\n",
        "              is_add_end_token=False\n",
        "              ) -> List[List]:\n",
        "    '''\n",
        "      :param X - corpus - list of the strings\n",
        "      :param is_padding - whether to pad the list of tokens to the max. length with 0s\n",
        "      :param is_add_start_token - whether to add the start_token to the list of tokens\n",
        "      :param is_add_end_token - whether to add the end_token to the list of tokens\n",
        "      :return list of the lists of tokens\n",
        "    '''\n",
        "    output = []\n",
        "    for x in X:\n",
        "      # If nedded add the index of the start_token to the beginning of the list of tokens\n",
        "      vector = [self.vocabulary.index(self.start_token)] if is_add_start_token else []\n",
        "\n",
        "      # Make preprocessing and get the list of the words.\n",
        "      words = self.__preprocessing(x).split()\n",
        "\n",
        "      # If the current word is in the vocabulary add its index to the list else add the index of the unknown_token\n",
        "      for word in words:\n",
        "        token = word.strip()\n",
        "        vector.append(self.vocabulary.index(token) if token in self.vocabulary else self.vocabulary.index(self.unknown_token))\n",
        "\n",
        "      # Truncate the vector to the max. length\n",
        "      vector = vector[:self.max_length-1]\n",
        "\n",
        "      # If needed add the index of the end_token\n",
        "      if is_add_end_token:\n",
        "        vector.append(self.vocabulary.index(self.end_token))\n",
        "\n",
        "      output.append(vector)\n",
        "\n",
        "    # If needed pad the vector to the max. length with 0s\n",
        "    return pad_sequences(output,\n",
        "                         maxlen=self.max_length,\n",
        "                         padding='post',\n",
        "                         truncating='post') if is_padding else output"
      ],
      "metadata": {
        "id": "OwlrS_c8K6pU"
      },
      "execution_count": 3,
      "outputs": []
    },
    {
      "cell_type": "code",
      "source": [
        "# Read the first 100_000 samples\n",
        "input_phrases, output_phrases = [], []\n",
        "with open('/content/drive/MyDrive/Colab Notebooks/Data/rus.txt') as f:\n",
        "  for line in f.readlines()[:100_000]:\n",
        "    x, y = line.split('CC-BY')[0].strip().split('\\t')\n",
        "    input_phrases.append(x)\n",
        "    output_phrases.append(y)"
      ],
      "metadata": {
        "id": "VvaCDzcFuIe1"
      },
      "execution_count": 4,
      "outputs": []
    },
    {
      "cell_type": "code",
      "source": [
        "input_vocab = 10_000 # size of the source language vocaulary\n",
        "output_vocab = 10_000 # size of the target language vocaulary"
      ],
      "metadata": {
        "id": "d-LhZGvyvrkS"
      },
      "execution_count": 5,
      "outputs": []
    },
    {
      "cell_type": "code",
      "source": [
        "# Make vectorization of the source language phrases\n",
        "encoder_vec = Vectorization(max_tokens=input_vocab)\n",
        "encoder_vec.fit(input_phrases)\n",
        "X_encoder = encoder_vec.predict(input_phrases)\n",
        "\n",
        "# Make vectorization of the target language phrases\n",
        "decoder_vec = Vectorization(max_tokens=output_vocab)\n",
        "decoder_vec.fit(output_phrases)\n",
        "# For the reason of the sequence model training we need decoder input contains the start_token and\n",
        "# the decoder output which is without the start_token\n",
        "X_decoder = decoder_vec.predict(output_phrases, is_add_start_token=True, is_add_end_token=True)\n",
        "Y_decoder = decoder_vec.predict(output_phrases, is_add_end_token=True)"
      ],
      "metadata": {
        "id": "chd-W_mXVgqE"
      },
      "execution_count": 6,
      "outputs": []
    },
    {
      "cell_type": "code",
      "source": [
        "idx = 1\n",
        "print(f\"Index: {idx}\")\n",
        "print(\"======= Encoder =======\")\n",
        "print(f\"Input phrase: {input_phrases[idx]}\")\n",
        "print(f\"Vector: {X_encoder[idx]}\")\n",
        "print(\"======= Decoder =======\")\n",
        "print(f\"Input phrase: {output_phrases[idx]}\")\n",
        "print(f\"Vector: {X_decoder[idx]}\")\n",
        "print(f\"Output phrase: {output_phrases[idx]}\")\n",
        "print(f\"Vector: {Y_decoder[idx]}\")\n",
        "print(\"==============\")\n",
        "print(f\"Start phrase token index: {decoder_vec.vocabulary.index(START_TOKEN)}\")\n",
        "print(f\"End phrase token index: {decoder_vec.vocabulary.index(END_TOKEN)}\")"
      ],
      "metadata": {
        "colab": {
          "base_uri": "https://localhost:8080/"
        },
        "id": "OHSeTSRGQhmS",
        "outputId": "10e9b4ec-cb54-4d78-f59f-e5a5a52f4acc"
      },
      "execution_count": 7,
      "outputs": [
        {
          "output_type": "stream",
          "name": "stdout",
          "text": [
            "Index: 1\n",
            "======= Encoder =======\n",
            "Input phrase: Go.\n",
            "Vector: [4 0 0 0 0]\n",
            "======= Decoder =======\n",
            "Input phrase: Иди.\n",
            "Vector: [2 5 3 0 0]\n",
            "Output phrase: Иди.\n",
            "Vector: [5 3 0 0 0]\n",
            "==============\n",
            "Start phrase token index: 2\n",
            "End phrase token index: 3\n"
          ]
        }
      ]
    },
    {
      "cell_type": "markdown",
      "source": [
        "# 2. Construct encoder-decoder NNs"
      ],
      "metadata": {
        "id": "77Qm_uDxJonO"
      }
    },
    {
      "cell_type": "code",
      "source": [
        "embedding_dim = 64\n",
        "lstm_units = 128"
      ],
      "metadata": {
        "id": "R7HQ2-Sqlpye"
      },
      "execution_count": 8,
      "outputs": []
    },
    {
      "cell_type": "code",
      "source": [
        "# ===== Encoder =====\n",
        "# Encoder input\n",
        "encoder_input = Input(shape=(None, ),\n",
        "                      name='encoder_input')\n",
        "# Encoder embedding\n",
        "encoder_emedding = Embedding(input_dim=input_vocab,\n",
        "                             output_dim=embedding_dim,\n",
        "                             mask_zero=True,\n",
        "                             name='encoder_embedding')\n",
        "# Encoder LSTM cell that returns output and states (hidden state - h and cell state - c)\n",
        "encoder_lstm = LSTM(units=lstm_units,\n",
        "                    return_state=True,\n",
        "                    name='encoder_lstm')\n",
        "\n",
        "# ===== Decoder =====\n",
        "# Decoder input\n",
        "decoder_input = Input(shape=(None, ),\n",
        "                      name='decoder_input')\n",
        "# Decoder initial hidden state input\n",
        "decoder_initial_h_state = Input(shape=(None, ),\n",
        "                                name='decoder_initial_h_state')\n",
        "# Decoder initial cell state input\n",
        "decoder_initial_c_state = Input(shape=(None, ),\n",
        "                                name='decoder_initial_c_state')\n",
        "# Decoder embedding\n",
        "decoder_emedding = Embedding(input_dim=output_vocab,\n",
        "                             output_dim=embedding_dim,\n",
        "                             mask_zero=True,\n",
        "                             name='decoder_embedding')\n",
        "# Decoder LSTM cell that returns output on each timesteps and states (hidden state - h and cell state - c)\n",
        "decoder_lstm= LSTM(units=lstm_units,\n",
        "                   return_sequences=True,\n",
        "                   return_state=True,\n",
        "                   name='decoder_lstm')\n",
        "# Dense layer with softmax activation function\n",
        "decoder_dense = Dense(units=output_vocab,\n",
        "                      activation='softmax',\n",
        "                      name='decoder_output')"
      ],
      "metadata": {
        "id": "IAvOW5QU3p-U"
      },
      "execution_count": 9,
      "outputs": []
    },
    {
      "cell_type": "code",
      "source": [
        "def encoder_net(encoder_input):\n",
        "  '''\n",
        "    Connect the encoder's layers\n",
        "    :param encoder_input - encoder input\n",
        "    :return hidden and cell states of LSTM\n",
        "  '''\n",
        "  out = encoder_emedding(encoder_input)\n",
        "  _, h, c = encoder_lstm(out)\n",
        "  return h, c\n",
        "\n",
        "def decoder_net(decoder_input, decoder_initial_state):\n",
        "  '''\n",
        "    Connect the decoder's layers\n",
        "    :param decoder_input - decoder input\n",
        "    :param decoder_initial_state - initial decoder state\n",
        "    :return output of the dense layer\n",
        "  '''\n",
        "  out = decoder_emedding(decoder_input)\n",
        "  out, _, _ = decoder_lstm(out, initial_state=decoder_initial_state)\n",
        "  out = decoder_dense(out)\n",
        "  return out"
      ],
      "metadata": {
        "id": "Fx8aXltXUEwG"
      },
      "execution_count": 10,
      "outputs": []
    },
    {
      "cell_type": "code",
      "source": [
        "# Create encoder and deocder instances which we will use for training. Encoder state on the last timestep is the initial decoder state.\n",
        "# We will train using a technique called “Teacher Forcing”  in which we feed the true output/token\n",
        "# (and not the predicted output/token) from the previous time-step as input to the current time-step.\n",
        "encoder_state = encoder_net(encoder_input=encoder_input)\n",
        "\n",
        "decoder_connected_to_encoder_output = decoder_net(decoder_input=decoder_input,\n",
        "                                                  decoder_initial_state=encoder_state)"
      ],
      "metadata": {
        "id": "1-raJJ0GX_cx"
      },
      "execution_count": 11,
      "outputs": []
    },
    {
      "cell_type": "code",
      "source": [
        "# Create the model\n",
        "model_train = Model(inputs=[encoder_input, decoder_input], outputs=decoder_connected_to_encoder_output)\n",
        "model_train.summary()"
      ],
      "metadata": {
        "colab": {
          "base_uri": "https://localhost:8080/"
        },
        "id": "x91F1g68dFrX",
        "outputId": "47c7f07a-2baa-4de7-8442-cafd3450db87"
      },
      "execution_count": 12,
      "outputs": [
        {
          "output_type": "stream",
          "name": "stdout",
          "text": [
            "Model: \"model\"\n",
            "__________________________________________________________________________________________________\n",
            " Layer (type)                Output Shape                 Param #   Connected to                  \n",
            "==================================================================================================\n",
            " encoder_input (InputLayer)  [(None, None)]               0         []                            \n",
            "                                                                                                  \n",
            " decoder_input (InputLayer)  [(None, None)]               0         []                            \n",
            "                                                                                                  \n",
            " encoder_embedding (Embeddi  (None, None, 64)             640000    ['encoder_input[0][0]']       \n",
            " ng)                                                                                              \n",
            "                                                                                                  \n",
            " decoder_embedding (Embeddi  (None, None, 64)             640000    ['decoder_input[0][0]']       \n",
            " ng)                                                                                              \n",
            "                                                                                                  \n",
            " encoder_lstm (LSTM)         [(None, 128),                98816     ['encoder_embedding[0][0]']   \n",
            "                              (None, 128),                                                        \n",
            "                              (None, 128)]                                                        \n",
            "                                                                                                  \n",
            " decoder_lstm (LSTM)         [(None, None, 128),          98816     ['decoder_embedding[0][0]',   \n",
            "                              (None, 128),                           'encoder_lstm[0][1]',        \n",
            "                              (None, 128)]                           'encoder_lstm[0][2]']        \n",
            "                                                                                                  \n",
            " decoder_output (Dense)      (None, None, 10000)          1290000   ['decoder_lstm[0][0]']        \n",
            "                                                                                                  \n",
            "==================================================================================================\n",
            "Total params: 2767632 (10.56 MB)\n",
            "Trainable params: 2767632 (10.56 MB)\n",
            "Non-trainable params: 0 (0.00 Byte)\n",
            "__________________________________________________________________________________________________\n"
          ]
        }
      ]
    },
    {
      "cell_type": "code",
      "source": [
        "model_train.compile(\n",
        "    loss=SparseCategoricalCrossentropy(),\n",
        "    optimizer=\"adam\",\n",
        "    metrics=[\"accuracy\"],\n",
        ")"
      ],
      "metadata": {
        "id": "hUcHWWeveNoZ"
      },
      "execution_count": 13,
      "outputs": []
    },
    {
      "cell_type": "code",
      "source": [
        "# Compose inputs and ground truth\n",
        "x_data = {\n",
        "    'encoder_input': X_encoder,\n",
        "    'decoder_input': X_decoder\n",
        "}\n",
        "\n",
        "y_data = {\n",
        "    'decoder_output': Y_decoder\n",
        "}"
      ],
      "metadata": {
        "id": "hmVbacDce0DT"
      },
      "execution_count": 14,
      "outputs": []
    },
    {
      "cell_type": "code",
      "source": [
        "# model_train.load_weights(base_path + 'Data/machine_translation_encoder_decoder_weights.h5')"
      ],
      "metadata": {
        "id": "uCwY_teGJbo3"
      },
      "execution_count": 14,
      "outputs": []
    },
    {
      "cell_type": "markdown",
      "source": [
        "# 3. Train the model"
      ],
      "metadata": {
        "id": "YMNQaU6ASxPh"
      }
    },
    {
      "cell_type": "code",
      "source": [
        "history = model_train.fit(\n",
        "    x = x_data,\n",
        "    y = y_data,\n",
        "    validation_split = 0.2,\n",
        "    batch_size=64,\n",
        "    epochs=15\n",
        ")"
      ],
      "metadata": {
        "colab": {
          "base_uri": "https://localhost:8080/"
        },
        "id": "7vIXHvX7g391",
        "outputId": "ac4264eb-a065-46ec-b8af-1a674d59dfdb"
      },
      "execution_count": 15,
      "outputs": [
        {
          "output_type": "stream",
          "name": "stdout",
          "text": [
            "Epoch 1/15\n",
            "1250/1250 [==============================] - 266s 207ms/step - loss: 4.1060 - accuracy: 0.3935 - val_loss: 3.5824 - val_accuracy: 0.4416\n",
            "Epoch 2/15\n",
            "1250/1250 [==============================] - 248s 199ms/step - loss: 3.0665 - accuracy: 0.5257 - val_loss: 3.1123 - val_accuracy: 0.4957\n",
            "Epoch 3/15\n",
            "1250/1250 [==============================] - 261s 209ms/step - loss: 2.5875 - accuracy: 0.5687 - val_loss: 2.8509 - val_accuracy: 0.5213\n",
            "Epoch 4/15\n",
            "1250/1250 [==============================] - 263s 211ms/step - loss: 2.2308 - accuracy: 0.6018 - val_loss: 2.6420 - val_accuracy: 0.5459\n",
            "Epoch 5/15\n",
            "1250/1250 [==============================] - 247s 198ms/step - loss: 1.9488 - accuracy: 0.6300 - val_loss: 2.4838 - val_accuracy: 0.5650\n",
            "Epoch 6/15\n",
            "1250/1250 [==============================] - 262s 210ms/step - loss: 1.7143 - accuracy: 0.6563 - val_loss: 2.4010 - val_accuracy: 0.5708\n",
            "Epoch 7/15\n",
            "1250/1250 [==============================] - 260s 208ms/step - loss: 1.5181 - accuracy: 0.6806 - val_loss: 2.3218 - val_accuracy: 0.5805\n",
            "Epoch 8/15\n",
            "1250/1250 [==============================] - 246s 197ms/step - loss: 1.3547 - accuracy: 0.7028 - val_loss: 2.2633 - val_accuracy: 0.5859\n",
            "Epoch 9/15\n",
            "1250/1250 [==============================] - 260s 208ms/step - loss: 1.2179 - accuracy: 0.7225 - val_loss: 2.2386 - val_accuracy: 0.5913\n",
            "Epoch 10/15\n",
            "1250/1250 [==============================] - 271s 217ms/step - loss: 1.1035 - accuracy: 0.7401 - val_loss: 2.1928 - val_accuracy: 0.5980\n",
            "Epoch 11/15\n",
            "1250/1250 [==============================] - 261s 209ms/step - loss: 1.0083 - accuracy: 0.7551 - val_loss: 2.2156 - val_accuracy: 0.5958\n",
            "Epoch 12/15\n",
            "1250/1250 [==============================] - 246s 197ms/step - loss: 0.9288 - accuracy: 0.7679 - val_loss: 2.1623 - val_accuracy: 0.6084\n",
            "Epoch 13/15\n",
            "1250/1250 [==============================] - 260s 208ms/step - loss: 0.8612 - accuracy: 0.7791 - val_loss: 2.1656 - val_accuracy: 0.6109\n",
            "Epoch 14/15\n",
            "1250/1250 [==============================] - 241s 193ms/step - loss: 0.8045 - accuracy: 0.7883 - val_loss: 2.1725 - val_accuracy: 0.6118\n",
            "Epoch 15/15\n",
            "1250/1250 [==============================] - 257s 206ms/step - loss: 0.7559 - accuracy: 0.7967 - val_loss: 2.1695 - val_accuracy: 0.6148\n"
          ]
        }
      ]
    },
    {
      "cell_type": "code",
      "source": [
        "# Make a dataframe from the training history data\n",
        "df = pd.DataFrame(data = history.history)"
      ],
      "metadata": {
        "id": "XW4v3YhAoH5q"
      },
      "execution_count": 16,
      "outputs": []
    },
    {
      "cell_type": "code",
      "source": [
        "# Plot the learning curves (the loss function and the accuracy metric)\n",
        "# which calculated on the training and validation datasets\n",
        "_, axs = plt.subplots(1, 2, figsize=(10, 5))\n",
        "sns.lineplot(data=df[['loss', 'val_loss']], ax=axs[0])\n",
        "sns.lineplot(data=df[['accuracy', 'val_accuracy']], ax=axs[1])\n",
        "axs[0].set_title('Loss function')\n",
        "axs[1].set_title('Accuracy')\n",
        "plt.show()"
      ],
      "metadata": {
        "colab": {
          "base_uri": "https://localhost:8080/",
          "height": 468
        },
        "id": "ZTKdP1Mrnd6Z",
        "outputId": "f2a83a8f-b296-4a19-b003-4b851955ad0e"
      },
      "execution_count": 17,
      "outputs": [
        {
          "output_type": "display_data",
          "data": {
            "text/plain": [
              "<Figure size 1000x500 with 2 Axes>"
            ],
            "image/png": "[encoded data removed]"
          },
          "metadata": {}
        }
      ]
    },
    {
      "cell_type": "code",
      "source": [
        "# We can clearly see the overfitting process. To avoid overfitting we can do the next:\n",
        "#  - Simplify the model (reduce the parameters number, add regularization layers)\n",
        "#  - Increase amount of data"
      ],
      "metadata": {
        "id": "6nQqJ-ruApOW"
      },
      "execution_count": null,
      "outputs": []
    },
    {
      "cell_type": "code",
      "source": [
        "# Save weights\n",
        "model_train.save_weights(base_path + 'Data/machine_translation_encoder_decoder_model_train_weights.h5')"
      ],
      "metadata": {
        "id": "hFchWp3nIPwK"
      },
      "execution_count": 18,
      "outputs": []
    },
    {
      "cell_type": "markdown",
      "source": [
        "# 4. Construct encoder and decoder for prediction"
      ],
      "metadata": {
        "id": "Ars8J3_6S9y7"
      }
    },
    {
      "cell_type": "code",
      "source": [
        "# Since the prediction process differs from the train we need to create two separate models: encoder and decoder\n",
        "# Firstly, create the encoder model\n",
        "model_encoder_prediction = Model(inputs=encoder_input, outputs=encoder_state)\n",
        "model_encoder_prediction.summary()"
      ],
      "metadata": {
        "colab": {
          "base_uri": "https://localhost:8080/"
        },
        "id": "xq8Cyz-YeGYN",
        "outputId": "421e3d5c-eb03-4370-d8f3-caef8d018b9e"
      },
      "execution_count": 20,
      "outputs": [
        {
          "output_type": "stream",
          "name": "stdout",
          "text": [
            "Model: \"model_1\"\n",
            "_________________________________________________________________\n",
            " Layer (type)                Output Shape              Param #   \n",
            "=================================================================\n",
            " encoder_input (InputLayer)  [(None, None)]            0         \n",
            "                                                                 \n",
            " encoder_embedding (Embeddi  (None, None, 64)          640000    \n",
            " ng)                                                             \n",
            "                                                                 \n",
            " encoder_lstm (LSTM)         [(None, 128),             98816     \n",
            "                              (None, 128),                       \n",
            "                              (None, 128)]                       \n",
            "                                                                 \n",
            "=================================================================\n",
            "Total params: 738816 (2.82 MB)\n",
            "Trainable params: 738816 (2.82 MB)\n",
            "Non-trainable params: 0 (0.00 Byte)\n",
            "_________________________________________________________________\n"
          ]
        }
      ]
    },
    {
      "cell_type": "code",
      "source": [
        "# model_encoder_prediction.load_weights(base_path + 'Data/machine_translation_encoder_model_prediction_weights.h5')"
      ],
      "metadata": {
        "id": "Tl2r7oNPaaDN"
      },
      "execution_count": 26,
      "outputs": []
    },
    {
      "cell_type": "code",
      "source": [
        "# Save weights\n",
        "model_encoder_prediction.save_weights(base_path + 'Data/machine_translation_encoder_model_prediction_weights.h5')"
      ],
      "metadata": {
        "id": "A1CUBwUxmRJC"
      },
      "execution_count": 21,
      "outputs": []
    },
    {
      "cell_type": "code",
      "source": [
        "# Secondly, connect decoder layers ...\n",
        "decoder_output = decoder_net(decoder_input=decoder_input,\n",
        "                             decoder_initial_state=[decoder_initial_h_state, decoder_initial_c_state])"
      ],
      "metadata": {
        "id": "iHJ4kLh8ew9k"
      },
      "execution_count": 19,
      "outputs": []
    },
    {
      "cell_type": "code",
      "source": [
        "# and create the decoder model (this decoder model isn't connected with the encoder model states)\n",
        "model_decoder_prediction = Model(inputs=[decoder_input, decoder_initial_h_state, decoder_initial_c_state],\n",
        "                                 outputs=decoder_output)\n",
        "model_decoder_prediction.summary()"
      ],
      "metadata": {
        "colab": {
          "base_uri": "https://localhost:8080/"
        },
        "id": "ok6xj9I0eGfx",
        "outputId": "95787408-a347-4449-e02d-4f680011f3de"
      },
      "execution_count": 22,
      "outputs": [
        {
          "output_type": "stream",
          "name": "stdout",
          "text": [
            "Model: \"model_2\"\n",
            "__________________________________________________________________________________________________\n",
            " Layer (type)                Output Shape                 Param #   Connected to                  \n",
            "==================================================================================================\n",
            " decoder_input (InputLayer)  [(None, None)]               0         []                            \n",
            "                                                                                                  \n",
            " decoder_embedding (Embeddi  (None, None, 64)             640000    ['decoder_input[0][0]']       \n",
            " ng)                                                                                              \n",
            "                                                                                                  \n",
            " decoder_initial_h_state (I  [(None, None)]               0         []                            \n",
            " nputLayer)                                                                                       \n",
            "                                                                                                  \n",
            " decoder_initial_c_state (I  [(None, None)]               0         []                            \n",
            " nputLayer)                                                                                       \n",
            "                                                                                                  \n",
            " decoder_lstm (LSTM)         multiple                     98816     ['decoder_embedding[1][0]',   \n",
            "                                                                     'decoder_initial_h_state[0][0\n",
            "                                                                    ]',                           \n",
            "                                                                     'decoder_initial_c_state[0][0\n",
            "                                                                    ]']                           \n",
            "                                                                                                  \n",
            " decoder_output (Dense)      (None, None, 10000)          1290000   ['decoder_lstm[1][0]']        \n",
            "                                                                                                  \n",
            "==================================================================================================\n",
            "Total params: 2028816 (7.74 MB)\n",
            "Trainable params: 2028816 (7.74 MB)\n",
            "Non-trainable params: 0 (0.00 Byte)\n",
            "__________________________________________________________________________________________________\n"
          ]
        }
      ]
    },
    {
      "cell_type": "code",
      "source": [
        "# model_decoder_prediction.load_weights(base_path + 'Data/machine_translation_decoder_model_prediction_weights.h5')"
      ],
      "metadata": {
        "id": "IzAMn83xm8B9"
      },
      "execution_count": null,
      "outputs": []
    },
    {
      "cell_type": "code",
      "source": [
        "# Save weights\n",
        "model_decoder_prediction.save_weights(base_path + 'Data/machine_translation_decoder_model_prediction_weights.h5')"
      ],
      "metadata": {
        "id": "xlY8y4Fvm27N"
      },
      "execution_count": 23,
      "outputs": []
    },
    {
      "cell_type": "markdown",
      "source": [
        "# 5. Make prediction\n",
        "\n"
      ],
      "metadata": {
        "id": "OhdjXExITUBE"
      }
    },
    {
      "cell_type": "code",
      "source": [
        "def predict(text: str) -> str:\n",
        "  '''\n",
        "    Make prediction\n",
        "    :param text - string in source language\n",
        "    :retrun string in target language\n",
        "  '''\n",
        "  # Make vectorization of the input string (make padded list of integer tokens)\n",
        "  tokens = encoder_vec.predict([text])\n",
        "\n",
        "  # Calculate the final hidden and cell states of the encoder LSTM cell by making the encoder model prediction\n",
        "  encoder_state = model_encoder_prediction.predict(tokens)\n",
        "\n",
        "  # Get max. length of the output phrase\n",
        "  max_length = decoder_vec.max_length\n",
        "\n",
        "  # Make a zeros template for the decoder input list of token\n",
        "  decoder_input = np.zeros((1, max_length), dtype=np.int16)\n",
        "\n",
        "  # Set the current token equal to the index of the start_token\n",
        "  current_token = decoder_vec.vocabulary.index(START_TOKEN)\n",
        "\n",
        "  # Set the token counter equal to 0\n",
        "  count_tokens = 0\n",
        "\n",
        "  # Set the output list of the words equal to the empty list\n",
        "  output = []\n",
        "\n",
        "  # Make prediction by the decoder LSTM cell until ether we get the end_token or achieve the maximum tokens count\n",
        "  while current_token != decoder_vec.vocabulary.index(END_TOKEN) and count_tokens < max_length:\n",
        "\n",
        "    # Add the current token to the decoder input\n",
        "    decoder_input[0, count_tokens] = current_token\n",
        "\n",
        "    # Compose the decoder inputs (input and the states from the encoder as initial states)\n",
        "    x_data = {\n",
        "        'decoder_input': decoder_input,\n",
        "        'decoder_initial_h_state': encoder_state[0],\n",
        "        'decoder_initial_c_state': encoder_state[1]\n",
        "    }\n",
        "\n",
        "    # Make decoder prediction and get the tokens sequence\n",
        "    decoder_output = model_decoder_prediction.predict(x_data)\n",
        "\n",
        "    # Get the last decoder output, find the maximum element (the element with the highest probability), and get its index\n",
        "    current_token = np.argmax(decoder_output[0, count_tokens, :])\n",
        "\n",
        "    # Increase token count\n",
        "    count_tokens += 1\n",
        "\n",
        "    # Get the word corresponds to the current index\n",
        "    word = decoder_vec.vocabulary[current_token]\n",
        "\n",
        "    output.append(word)\n",
        "\n",
        "  # Join the list of words excluding the last token, since the last token is the end token.\n",
        "  return ' '.join(output[:-1])"
      ],
      "metadata": {
        "id": "eLUJbt6NeNt3"
      },
      "execution_count": 32,
      "outputs": []
    },
    {
      "cell_type": "code",
      "source": [
        "predict(\"i am going\")"
      ],
      "metadata": {
        "colab": {
          "base_uri": "https://localhost:8080/",
          "height": 109
        },
        "id": "vhWpXZTRklh4",
        "outputId": "7db9300c-fe8c-4d5b-aa20-ec5787d51f73"
      },
      "execution_count": 33,
      "outputs": [
        {
          "output_type": "stream",
          "name": "stdout",
          "text": [
            "1/1 [==============================] - 0s 23ms/step\n",
            "1/1 [==============================] - 0s 27ms/step\n",
            "1/1 [==============================] - 0s 28ms/step\n",
            "1/1 [==============================] - 0s 29ms/step\n"
          ]
        },
        {
          "output_type": "execute_result",
          "data": {
            "text/plain": [
              "'я иду'"
            ],
            "application/vnd.google.colaboratory.intrinsic+json": {
              "type": "string"
            }
          },
          "metadata": {},
          "execution_count": 33
        }
      ]
    },
    {
      "cell_type": "code",
      "source": [],
      "metadata": {
        "id": "jEIEkS5Fkllv"
      },
      "execution_count": null,
      "outputs": []
    },
    {
      "cell_type": "code",
      "source": [],
      "metadata": {
        "id": "cxMVzNhUeGi-"
      },
      "execution_count": null,
      "outputs": []
    }
  ]
}