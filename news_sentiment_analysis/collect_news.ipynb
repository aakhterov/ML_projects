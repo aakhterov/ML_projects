{
  "nbformat": 4,
  "nbformat_minor": 0,
  "metadata": {
    "colab": {
      "provenance": [],
      "collapsed_sections": [
        "gD50vjqAaHti",
        "nHrcsfDaaR39",
        "LrAp2V7ajF2O",
        "sadHDEH7XYDS",
        "cYQUOzia6p8Y",
        "IUtkYOznPXDO",
        "7Mh4hM83AAAb",
        "N51zrRDtoAV0"
      ],
      "authorship_tag": "ABX9TyOiRL6LJrJPqc3NU5N1cLMl",
      "include_colab_link": true
    },
    "kernelspec": {
      "name": "python3",
      "display_name": "Python 3"
    },
    "language_info": {
      "name": "python"
    },
    "widgets": {
      "application/vnd.jupyter.widget-state+json": {
        "523708d210734770a044dac0fb1f7dae": {
          "model_module": "@jupyter-widgets/controls",
          "model_name": "HBoxModel",
          "model_module_version": "1.5.0",
          "state": {
            "_dom_classes": [],
            "_model_module": "@jupyter-widgets/controls",
            "_model_module_version": "1.5.0",
            "_model_name": "HBoxModel",
            "_view_count": null,
            "_view_module": "@jupyter-widgets/controls",
            "_view_module_version": "1.5.0",
            "_view_name": "HBoxView",
            "box_style": "",
            "children": [
              "IPY_MODEL_55157682f3d84872aca2294de5d532ba",
              "IPY_MODEL_7d7fe7f1b4344a7684b321c65444ab8d",
              "IPY_MODEL_3927cd83a51a40d79b4752cfa24a07ef"
            ],
            "layout": "IPY_MODEL_cb15bd0ea192452ebddd65962aa4f51b"
          }
        },
        "55157682f3d84872aca2294de5d532ba": {
          "model_module": "@jupyter-widgets/controls",
          "model_name": "HTMLModel",
          "model_module_version": "1.5.0",
          "state": {
            "_dom_classes": [],
            "_model_module": "@jupyter-widgets/controls",
            "_model_module_version": "1.5.0",
            "_model_name": "HTMLModel",
            "_view_count": null,
            "_view_module": "@jupyter-widgets/controls",
            "_view_module_version": "1.5.0",
            "_view_name": "HTMLView",
            "description": "",
            "description_tooltip": null,
            "layout": "IPY_MODEL_26139de35ac34e2581829a87f8c73ee0",
            "placeholder": "​",
            "style": "IPY_MODEL_5cf8711e256a4c6e969a5e7b7425e67d",
            "value": "Saving the dataset (1/1 shards): 100%"
          }
        },
        "7d7fe7f1b4344a7684b321c65444ab8d": {
          "model_module": "@jupyter-widgets/controls",
          "model_name": "FloatProgressModel",
          "model_module_version": "1.5.0",
          "state": {
            "_dom_classes": [],
            "_model_module": "@jupyter-widgets/controls",
            "_model_module_version": "1.5.0",
            "_model_name": "FloatProgressModel",
            "_view_count": null,
            "_view_module": "@jupyter-widgets/controls",
            "_view_module_version": "1.5.0",
            "_view_name": "ProgressView",
            "bar_style": "success",
            "description": "",
            "description_tooltip": null,
            "layout": "IPY_MODEL_f6b0a809329841a5b7a4514e94c2c855",
            "max": 13395,
            "min": 0,
            "orientation": "horizontal",
            "style": "IPY_MODEL_d31b151ea2694a9b8059c6d5968db35e",
            "value": 13395
          }
        },
        "3927cd83a51a40d79b4752cfa24a07ef": {
          "model_module": "@jupyter-widgets/controls",
          "model_name": "HTMLModel",
          "model_module_version": "1.5.0",
          "state": {
            "_dom_classes": [],
            "_model_module": "@jupyter-widgets/controls",
            "_model_module_version": "1.5.0",
            "_model_name": "HTMLModel",
            "_view_count": null,
            "_view_module": "@jupyter-widgets/controls",
            "_view_module_version": "1.5.0",
            "_view_name": "HTMLView",
            "description": "",
            "description_tooltip": null,
            "layout": "IPY_MODEL_9ff53f1d72a64949bc64c10c67922f52",
            "placeholder": "​",
            "style": "IPY_MODEL_0c34fde52cb9445ea2e60ed2b8bbd3b5",
            "value": " 13395/13395 [00:01&lt;00:00, 11247.37 examples/s]"
          }
        },
        "cb15bd0ea192452ebddd65962aa4f51b": {
          "model_module": "@jupyter-widgets/base",
          "model_name": "LayoutModel",
          "model_module_version": "1.2.0",
          "state": {
            "_model_module": "@jupyter-widgets/base",
            "_model_module_version": "1.2.0",
            "_model_name": "LayoutModel",
            "_view_count": null,
            "_view_module": "@jupyter-widgets/base",
            "_view_module_version": "1.2.0",
            "_view_name": "LayoutView",
            "align_content": null,
            "align_items": null,
            "align_self": null,
            "border": null,
            "bottom": null,
            "display": null,
            "flex": null,
            "flex_flow": null,
            "grid_area": null,
            "grid_auto_columns": null,
            "grid_auto_flow": null,
            "grid_auto_rows": null,
            "grid_column": null,
            "grid_gap": null,
            "grid_row": null,
            "grid_template_areas": null,
            "grid_template_columns": null,
            "grid_template_rows": null,
            "height": null,
            "justify_content": null,
            "justify_items": null,
            "left": null,
            "margin": null,
            "max_height": null,
            "max_width": null,
            "min_height": null,
            "min_width": null,
            "object_fit": null,
            "object_position": null,
            "order": null,
            "overflow": null,
            "overflow_x": null,
            "overflow_y": null,
            "padding": null,
            "right": null,
            "top": null,
            "visibility": null,
            "width": null
          }
        },
        "26139de35ac34e2581829a87f8c73ee0": {
          "model_module": "@jupyter-widgets/base",
          "model_name": "LayoutModel",
          "model_module_version": "1.2.0",
          "state": {
            "_model_module": "@jupyter-widgets/base",
            "_model_module_version": "1.2.0",
            "_model_name": "LayoutModel",
            "_view_count": null,
            "_view_module": "@jupyter-widgets/base",
            "_view_module_version": "1.2.0",
            "_view_name": "LayoutView",
            "align_content": null,
            "align_items": null,
            "align_self": null,
            "border": null,
            "bottom": null,
            "display": null,
            "flex": null,
            "flex_flow": null,
            "grid_area": null,
            "grid_auto_columns": null,
            "grid_auto_flow": null,
            "grid_auto_rows": null,
            "grid_column": null,
            "grid_gap": null,
            "grid_row": null,
            "grid_template_areas": null,
            "grid_template_columns": null,
            "grid_template_rows": null,
            "height": null,
            "justify_content": null,
            "justify_items": null,
            "left": null,
            "margin": null,
            "max_height": null,
            "max_width": null,
            "min_height": null,
            "min_width": null,
            "object_fit": null,
            "object_position": null,
            "order": null,
            "overflow": null,
            "overflow_x": null,
            "overflow_y": null,
            "padding": null,
            "right": null,
            "top": null,
            "visibility": null,
            "width": null
          }
        },
        "5cf8711e256a4c6e969a5e7b7425e67d": {
          "model_module": "@jupyter-widgets/controls",
          "model_name": "DescriptionStyleModel",
          "model_module_version": "1.5.0",
          "state": {
            "_model_module": "@jupyter-widgets/controls",
            "_model_module_version": "1.5.0",
            "_model_name": "DescriptionStyleModel",
            "_view_count": null,
            "_view_module": "@jupyter-widgets/base",
            "_view_module_version": "1.2.0",
            "_view_name": "StyleView",
            "description_width": ""
          }
        },
        "f6b0a809329841a5b7a4514e94c2c855": {
          "model_module": "@jupyter-widgets/base",
          "model_name": "LayoutModel",
          "model_module_version": "1.2.0",
          "state": {
            "_model_module": "@jupyter-widgets/base",
            "_model_module_version": "1.2.0",
            "_model_name": "LayoutModel",
            "_view_count": null,
            "_view_module": "@jupyter-widgets/base",
            "_view_module_version": "1.2.0",
            "_view_name": "LayoutView",
            "align_content": null,
            "align_items": null,
            "align_self": null,
            "border": null,
            "bottom": null,
            "display": null,
            "flex": null,
            "flex_flow": null,
            "grid_area": null,
            "grid_auto_columns": null,
            "grid_auto_flow": null,
            "grid_auto_rows": null,
            "grid_column": null,
            "grid_gap": null,
            "grid_row": null,
            "grid_template_areas": null,
            "grid_template_columns": null,
            "grid_template_rows": null,
            "height": null,
            "justify_content": null,
            "justify_items": null,
            "left": null,
            "margin": null,
            "max_height": null,
            "max_width": null,
            "min_height": null,
            "min_width": null,
            "object_fit": null,
            "object_position": null,
            "order": null,
            "overflow": null,
            "overflow_x": null,
            "overflow_y": null,
            "padding": null,
            "right": null,
            "top": null,
            "visibility": null,
            "width": null
          }
        },
        "d31b151ea2694a9b8059c6d5968db35e": {
          "model_module": "@jupyter-widgets/controls",
          "model_name": "ProgressStyleModel",
          "model_module_version": "1.5.0",
          "state": {
            "_model_module": "@jupyter-widgets/controls",
            "_model_module_version": "1.5.0",
            "_model_name": "ProgressStyleModel",
            "_view_count": null,
            "_view_module": "@jupyter-widgets/base",
            "_view_module_version": "1.2.0",
            "_view_name": "StyleView",
            "bar_color": null,
            "description_width": ""
          }
        },
        "9ff53f1d72a64949bc64c10c67922f52": {
          "model_module": "@jupyter-widgets/base",
          "model_name": "LayoutModel",
          "model_module_version": "1.2.0",
          "state": {
            "_model_module": "@jupyter-widgets/base",
            "_model_module_version": "1.2.0",
            "_model_name": "LayoutModel",
            "_view_count": null,
            "_view_module": "@jupyter-widgets/base",
            "_view_module_version": "1.2.0",
            "_view_name": "LayoutView",
            "align_content": null,
            "align_items": null,
            "align_self": null,
            "border": null,
            "bottom": null,
            "display": null,
            "flex": null,
            "flex_flow": null,
            "grid_area": null,
            "grid_auto_columns": null,
            "grid_auto_flow": null,
            "grid_auto_rows": null,
            "grid_column": null,
            "grid_gap": null,
            "grid_row": null,
            "grid_template_areas": null,
            "grid_template_columns": null,
            "grid_template_rows": null,
            "height": null,
            "justify_content": null,
            "justify_items": null,
            "left": null,
            "margin": null,
            "max_height": null,
            "max_width": null,
            "min_height": null,
            "min_width": null,
            "object_fit": null,
            "object_position": null,
            "order": null,
            "overflow": null,
            "overflow_x": null,
            "overflow_y": null,
            "padding": null,
            "right": null,
            "top": null,
            "visibility": null,
            "width": null
          }
        },
        "0c34fde52cb9445ea2e60ed2b8bbd3b5": {
          "model_module": "@jupyter-widgets/controls",
          "model_name": "DescriptionStyleModel",
          "model_module_version": "1.5.0",
          "state": {
            "_model_module": "@jupyter-widgets/controls",
            "_model_module_version": "1.5.0",
            "_model_name": "DescriptionStyleModel",
            "_view_count": null,
            "_view_module": "@jupyter-widgets/base",
            "_view_module_version": "1.2.0",
            "_view_name": "StyleView",
            "description_width": ""
          }
        },
        "ea5fa56f384f4b20bcdf949d36862866": {
          "model_module": "@jupyter-widgets/controls",
          "model_name": "HBoxModel",
          "model_module_version": "1.5.0",
          "state": {
            "_dom_classes": [],
            "_model_module": "@jupyter-widgets/controls",
            "_model_module_version": "1.5.0",
            "_model_name": "HBoxModel",
            "_view_count": null,
            "_view_module": "@jupyter-widgets/controls",
            "_view_module_version": "1.5.0",
            "_view_name": "HBoxView",
            "box_style": "",
            "children": [
              "IPY_MODEL_d729baa974024321932b124d230cd2ef",
              "IPY_MODEL_d641f088bb2c4abc898194670d7aa107",
              "IPY_MODEL_4dae317117af4cf6be414d0a7251efe7"
            ],
            "layout": "IPY_MODEL_24fb7067be7744cab075bab1ea1dffa5"
          }
        },
        "d729baa974024321932b124d230cd2ef": {
          "model_module": "@jupyter-widgets/controls",
          "model_name": "HTMLModel",
          "model_module_version": "1.5.0",
          "state": {
            "_dom_classes": [],
            "_model_module": "@jupyter-widgets/controls",
            "_model_module_version": "1.5.0",
            "_model_name": "HTMLModel",
            "_view_count": null,
            "_view_module": "@jupyter-widgets/controls",
            "_view_module_version": "1.5.0",
            "_view_name": "HTMLView",
            "description": "",
            "description_tooltip": null,
            "layout": "IPY_MODEL_7b73035fc30b4a5d8b55ba3b9e08b73e",
            "placeholder": "​",
            "style": "IPY_MODEL_4a91d94a00194086bda305c24c118fa2",
            "value": "Map: 100%"
          }
        },
        "d641f088bb2c4abc898194670d7aa107": {
          "model_module": "@jupyter-widgets/controls",
          "model_name": "FloatProgressModel",
          "model_module_version": "1.5.0",
          "state": {
            "_dom_classes": [],
            "_model_module": "@jupyter-widgets/controls",
            "_model_module_version": "1.5.0",
            "_model_name": "FloatProgressModel",
            "_view_count": null,
            "_view_module": "@jupyter-widgets/controls",
            "_view_module_version": "1.5.0",
            "_view_name": "ProgressView",
            "bar_style": "success",
            "description": "",
            "description_tooltip": null,
            "layout": "IPY_MODEL_b307734229054421beff1c2a780a56e8",
            "max": 13395,
            "min": 0,
            "orientation": "horizontal",
            "style": "IPY_MODEL_32177b788a5d42f2bca4727ff01eed09",
            "value": 13395
          }
        },
        "4dae317117af4cf6be414d0a7251efe7": {
          "model_module": "@jupyter-widgets/controls",
          "model_name": "HTMLModel",
          "model_module_version": "1.5.0",
          "state": {
            "_dom_classes": [],
            "_model_module": "@jupyter-widgets/controls",
            "_model_module_version": "1.5.0",
            "_model_name": "HTMLModel",
            "_view_count": null,
            "_view_module": "@jupyter-widgets/controls",
            "_view_module_version": "1.5.0",
            "_view_name": "HTMLView",
            "description": "",
            "description_tooltip": null,
            "layout": "IPY_MODEL_9d7cc7a60b2d4aebab00fce5ed4418d8",
            "placeholder": "​",
            "style": "IPY_MODEL_98611dbb02f74b0f8fcabc7cc1f50e13",
            "value": " 13395/13395 [00:02&lt;00:00, 5603.99 examples/s]"
          }
        },
        "24fb7067be7744cab075bab1ea1dffa5": {
          "model_module": "@jupyter-widgets/base",
          "model_name": "LayoutModel",
          "model_module_version": "1.2.0",
          "state": {
            "_model_module": "@jupyter-widgets/base",
            "_model_module_version": "1.2.0",
            "_model_name": "LayoutModel",
            "_view_count": null,
            "_view_module": "@jupyter-widgets/base",
            "_view_module_version": "1.2.0",
            "_view_name": "LayoutView",
            "align_content": null,
            "align_items": null,
            "align_self": null,
            "border": null,
            "bottom": null,
            "display": null,
            "flex": null,
            "flex_flow": null,
            "grid_area": null,
            "grid_auto_columns": null,
            "grid_auto_flow": null,
            "grid_auto_rows": null,
            "grid_column": null,
            "grid_gap": null,
            "grid_row": null,
            "grid_template_areas": null,
            "grid_template_columns": null,
            "grid_template_rows": null,
            "height": null,
            "justify_content": null,
            "justify_items": null,
            "left": null,
            "margin": null,
            "max_height": null,
            "max_width": null,
            "min_height": null,
            "min_width": null,
            "object_fit": null,
            "object_position": null,
            "order": null,
            "overflow": null,
            "overflow_x": null,
            "overflow_y": null,
            "padding": null,
            "right": null,
            "top": null,
            "visibility": null,
            "width": null
          }
        },
        "7b73035fc30b4a5d8b55ba3b9e08b73e": {
          "model_module": "@jupyter-widgets/base",
          "model_name": "LayoutModel",
          "model_module_version": "1.2.0",
          "state": {
            "_model_module": "@jupyter-widgets/base",
            "_model_module_version": "1.2.0",
            "_model_name": "LayoutModel",
            "_view_count": null,
            "_view_module": "@jupyter-widgets/base",
            "_view_module_version": "1.2.0",
            "_view_name": "LayoutView",
            "align_content": null,
            "align_items": null,
            "align_self": null,
            "border": null,
            "bottom": null,
            "display": null,
            "flex": null,
            "flex_flow": null,
            "grid_area": null,
            "grid_auto_columns": null,
            "grid_auto_flow": null,
            "grid_auto_rows": null,
            "grid_column": null,
            "grid_gap": null,
            "grid_row": null,
            "grid_template_areas": null,
            "grid_template_columns": null,
            "grid_template_rows": null,
            "height": null,
            "justify_content": null,
            "justify_items": null,
            "left": null,
            "margin": null,
            "max_height": null,
            "max_width": null,
            "min_height": null,
            "min_width": null,
            "object_fit": null,
            "object_position": null,
            "order": null,
            "overflow": null,
            "overflow_x": null,
            "overflow_y": null,
            "padding": null,
            "right": null,
            "top": null,
            "visibility": null,
            "width": null
          }
        },
        "4a91d94a00194086bda305c24c118fa2": {
          "model_module": "@jupyter-widgets/controls",
          "model_name": "DescriptionStyleModel",
          "model_module_version": "1.5.0",
          "state": {
            "_model_module": "@jupyter-widgets/controls",
            "_model_module_version": "1.5.0",
            "_model_name": "DescriptionStyleModel",
            "_view_count": null,
            "_view_module": "@jupyter-widgets/base",
            "_view_module_version": "1.2.0",
            "_view_name": "StyleView",
            "description_width": ""
          }
        },
        "b307734229054421beff1c2a780a56e8": {
          "model_module": "@jupyter-widgets/base",
          "model_name": "LayoutModel",
          "model_module_version": "1.2.0",
          "state": {
            "_model_module": "@jupyter-widgets/base",
            "_model_module_version": "1.2.0",
            "_model_name": "LayoutModel",
            "_view_count": null,
            "_view_module": "@jupyter-widgets/base",
            "_view_module_version": "1.2.0",
            "_view_name": "LayoutView",
            "align_content": null,
            "align_items": null,
            "align_self": null,
            "border": null,
            "bottom": null,
            "display": null,
            "flex": null,
            "flex_flow": null,
            "grid_area": null,
            "grid_auto_columns": null,
            "grid_auto_flow": null,
            "grid_auto_rows": null,
            "grid_column": null,
            "grid_gap": null,
            "grid_row": null,
            "grid_template_areas": null,
            "grid_template_columns": null,
            "grid_template_rows": null,
            "height": null,
            "justify_content": null,
            "justify_items": null,
            "left": null,
            "margin": null,
            "max_height": null,
            "max_width": null,
            "min_height": null,
            "min_width": null,
            "object_fit": null,
            "object_position": null,
            "order": null,
            "overflow": null,
            "overflow_x": null,
            "overflow_y": null,
            "padding": null,
            "right": null,
            "top": null,
            "visibility": null,
            "width": null
          }
        },
        "32177b788a5d42f2bca4727ff01eed09": {
          "model_module": "@jupyter-widgets/controls",
          "model_name": "ProgressStyleModel",
          "model_module_version": "1.5.0",
          "state": {
            "_model_module": "@jupyter-widgets/controls",
            "_model_module_version": "1.5.0",
            "_model_name": "ProgressStyleModel",
            "_view_count": null,
            "_view_module": "@jupyter-widgets/base",
            "_view_module_version": "1.2.0",
            "_view_name": "StyleView",
            "bar_color": null,
            "description_width": ""
          }
        },
        "9d7cc7a60b2d4aebab00fce5ed4418d8": {
          "model_module": "@jupyter-widgets/base",
          "model_name": "LayoutModel",
          "model_module_version": "1.2.0",
          "state": {
            "_model_module": "@jupyter-widgets/base",
            "_model_module_version": "1.2.0",
            "_model_name": "LayoutModel",
            "_view_count": null,
            "_view_module": "@jupyter-widgets/base",
            "_view_module_version": "1.2.0",
            "_view_name": "LayoutView",
            "align_content": null,
            "align_items": null,
            "align_self": null,
            "border": null,
            "bottom": null,
            "display": null,
            "flex": null,
            "flex_flow": null,
            "grid_area": null,
            "grid_auto_columns": null,
            "grid_auto_flow": null,
            "grid_auto_rows": null,
            "grid_column": null,
            "grid_gap": null,
            "grid_row": null,
            "grid_template_areas": null,
            "grid_template_columns": null,
            "grid_template_rows": null,
            "height": null,
            "justify_content": null,
            "justify_items": null,
            "left": null,
            "margin": null,
            "max_height": null,
            "max_width": null,
            "min_height": null,
            "min_width": null,
            "object_fit": null,
            "object_position": null,
            "order": null,
            "overflow": null,
            "overflow_x": null,
            "overflow_y": null,
            "padding": null,
            "right": null,
            "top": null,
            "visibility": null,
            "width": null
          }
        },
        "98611dbb02f74b0f8fcabc7cc1f50e13": {
          "model_module": "@jupyter-widgets/controls",
          "model_name": "DescriptionStyleModel",
          "model_module_version": "1.5.0",
          "state": {
            "_model_module": "@jupyter-widgets/controls",
            "_model_module_version": "1.5.0",
            "_model_name": "DescriptionStyleModel",
            "_view_count": null,
            "_view_module": "@jupyter-widgets/base",
            "_view_module_version": "1.2.0",
            "_view_name": "StyleView",
            "description_width": ""
          }
        }
      }
    }
  },
  "cells": [
    {
      "cell_type": "markdown",
      "metadata": {
        "id": "view-in-github",
        "colab_type": "text"
      },
      "source": [
        "<a href=\"https://colab.research.google.com/github/aakhterov/ML_projects/blob/master/news_sentiment_analysis/collect_news.ipynb\" target=\"_parent\"><img src=\"https://colab.research.google.com/assets/colab-badge.svg\" alt=\"Open In Colab\"/></a>"
      ]
    },
    {
      "cell_type": "markdown",
      "source": [
        "# Collecting a news dataset\n",
        "\n",
        "The idea is to fine-tune one of the LLM from the Huggingface ecosystem to make a news sentiment analysis regarding the pro- and anti-Israel attitudes (but collected dataset can be used also for other NLP tasks). Here one of the main issue is data labeling. To overcome it we suppose that almost all news from the Palestinian \"news\" agency \"WAFA\" and Quatar agency \"Al Mayadeen\" has anti-Israel position. Most of the Al Jazeera news also tends to be against Israel. In return news by \"The Times of Israel\" is mostly pro-Israel.\n",
        "For example, the following piece of news carries an anti-Israel pattern:\n",
        "\n",
        "> *KHAN YUNIS, Sunday, December 10, 2023 (WAFA) - At least 10 civilians were killed, mostly children, and dozens more were wounded early this morning as Israeli warplanes bombed a residential house in Khan Yunis, south of the Gaza Strip, as the Israeli aggression on the enclave enters its 65th day in a row.\n",
        "(WAFA \"news\" agency)*\n",
        "\n",
        "Opposite the following information from \"The Times of Israel\" is pro-Israel:\n",
        "\n",
        ">*Several thousand people demonstrate against antisemitism in Berlin as Germany grapples with a large increase in anti-Jewish incidents following Hamas’s assault on Israel two months ago.\n",
        "Police estimate that around 3,200 people gathered in the rain in the German capital, while organizers put the figure at 10,000, German news agency dpa reports. Participants in the protest, titled “Never again is now,” march to the Brandenburg Gate.*\n",
        "\n",
        "We've accumulated news from the following sources:\n",
        "\n",
        "1. BBC (live news) - from 2023-11-05 to 2023-11-18. Total: 805\n",
        "2. The Times of Israel (live news) - from 2023-10-07 to 2023-11-18. Total: 6581\n",
        "3. Al Jazeera (live news) - from 2023-11-04 to 2023-11-25. Total: 3297\n",
        "4. Al Mayadeen (articles from the site) - from 2023-10-08 to 2023-11-24. Total: 74\n",
        "5. WAFA \"News\" Agency (articles from the site section \"Occupation\")- from 2023-09-28 to 2023-11-26. Total: 1020\n",
        "6. CNN live news  - from 2023-10-26 to 2023-11-26. Total: 1428\n",
        "\n",
        "As we aim to use the Huggingface ecosystem and its library for the models fine-tuning we used Dataset object from the Huggingface package here.\n",
        "The dataset has the following fields:\n",
        "- \"url\" - link to the piece of news;\n",
        "- \"datetime\" - news date and time (YYYY-mm-ddTHH:MM:SS);\n",
        "- \"author\" - news author if provided else None;\n",
        "- \"title\" - news title;\n",
        "- \"text\" - news text;\n",
        "- \"provider\" - news provider\n",
        "- \"source\" - where news was collected\n",
        "\n",
        "All news is collected using Beautiful Soup library. In the case of the BBC site, the WAFA site and the Al Mayadeen site it was enough to use simple GET requests and in the other cases we used Silenium."
      ],
      "metadata": {
        "id": "MDXRkpYtVGji"
      }
    },
    {
      "cell_type": "code",
      "source": [
        "!pip install datasets nltk"
      ],
      "metadata": {
        "id": "ODeI-OmSL1vG"
      },
      "execution_count": null,
      "outputs": []
    },
    {
      "cell_type": "code",
      "execution_count": 2,
      "metadata": {
        "id": "73z4-XpYhg7p"
      },
      "outputs": [],
      "source": [
        "import requests\n",
        "import re\n",
        "import time\n",
        "import pandas as pd\n",
        "from bs4 import BeautifulSoup\n",
        "from datetime import datetime, timedelta\n",
        "from datasets import Dataset, load_dataset, load_from_disk, concatenate_datasets\n",
        "from tqdm.notebook import tqdm"
      ]
    },
    {
      "cell_type": "code",
      "source": [
        "from google.colab import drive\n",
        "drive.mount('/content/drive')\n",
        "base_path = '/content/drive/MyDrive/Colab Notebooks/'"
      ],
      "metadata": {
        "colab": {
          "base_uri": "https://localhost:8080/"
        },
        "id": "9mQagAbjX2QK",
        "outputId": "630f01b8-1fb3-4330-9842-a5e2c7de1561"
      },
      "execution_count": 3,
      "outputs": [
        {
          "output_type": "stream",
          "name": "stdout",
          "text": [
            "Mounted at /content/drive\n"
          ]
        }
      ]
    },
    {
      "cell_type": "markdown",
      "source": [
        "## 1. Collecting news from the BBC site"
      ],
      "metadata": {
        "id": "gD50vjqAaHti"
      }
    },
    {
      "cell_type": "code",
      "source": [
        "PAUSE_BETWEEN_QUERIES = 1"
      ],
      "metadata": {
        "id": "P-wmbLEGpGlO"
      },
      "execution_count": 54,
      "outputs": []
    },
    {
      "cell_type": "code",
      "source": [
        "current_live_url = 'https://www.bbc.com/news/live/world-middle-east-67446662'"
      ],
      "metadata": {
        "id": "4lunRM_8-ksD"
      },
      "execution_count": null,
      "outputs": []
    },
    {
      "cell_type": "code",
      "source": [
        "# We will collect news to the following Python dictionary\n",
        "data = {\"url\": [], \"datetime\": [], \"author\": [], \"title\": [], \"text\": [], \"provider\": [], \"source\": []}\n",
        "current_date = datetime(2023, 11, 18)\n",
        "\n",
        "# Starting from \"current_live_url\" grab news from this page and try to find the link to the previous day at the bottom of the page.\n",
        "\n",
        "while current_live_url and current_date>=datetime(2023, 10, 7):\n",
        "  print(f\"current_date: {current_date.strftime('%Y-%m-%d')}\")\n",
        "  print(f\"current_live_url: {current_live_url}, total pages: {total_pages}\")\n",
        "\n",
        "  for page in tqdm(range(1, total_pages+1), 'Pages: '):\n",
        "    url = f\"{current_live_url}/page/{page}\"\n",
        "    result = requests.get(url)\n",
        "    body = BeautifulSoup(result.text, 'html.parser')\n",
        "\n",
        "    for article in body.find_all('article'):\n",
        "      title_block = article.find('span', class_=re.compile('header-text'))\n",
        "      title = title_block.string if title_block is not None else title_block\n",
        "\n",
        "      time_block = article.find('time')\n",
        "      time_block = time_block.find('span', class_=re.compile(\"qa-post-auto-meta\"))\n",
        "      if time_block is not None:\n",
        "        datetime_parts = time_block.string.split()\n",
        "        today = datetime.today()\n",
        "        if len(datetime_parts) == 1:\n",
        "          datetime_str = f\"{today.year}-{today.month}-{today.day}T{datetime_parts[0]}:00\"\n",
        "          post_datetime = datetime.strptime(datetime_str, '%Y-%m-%dT%H:%M:%S')\n",
        "        else:\n",
        "          month = datetime.strptime(datetime_parts[2], '%b').month\n",
        "          day = datetime_parts[1]\n",
        "          datetime_str = f\"{today.year}-{month}-{day}T{datetime_parts[0]}:00\"\n",
        "          post_datetime = datetime.strptime(datetime_str, '%Y-%m-%dT%H:%M:%S')\n",
        "\n",
        "        current_date = post_datetime\n",
        "      else:\n",
        "        post_datetime = None\n",
        "\n",
        "      contributor_block = article.find('div', class_=re.compile('contributor-body'))\n",
        "      if contributor_block is not None:\n",
        "        name = contributor_block.find('p', class_=re.compile('contributor-name'))\n",
        "        name = name.string if name else ''\n",
        "        role = contributor_block.find('p', class_=re.compile('contributor-role'))\n",
        "        role = role.string if role else ''\n",
        "        author = f\"{name};{role}\"\n",
        "      else:\n",
        "        author = None\n",
        "\n",
        "      text_block = article.find('div', class_=re.compile('post-body'))\n",
        "      text = []\n",
        "      if text_block is not None:\n",
        "        text = [p_block.text if p_block is not None else '' for p_block in text_block.find_all('p')]\n",
        "\n",
        "      text = '\\n'.join(text)\n",
        "\n",
        "      data['url'].append(url)\n",
        "      data['title'].append(title)\n",
        "      data['datetime'].append(post_datetime.strftime('%Y-%m-%dT%H:%M:%S') if post_datetime else None)\n",
        "      data['author'].append(author if author else '-')\n",
        "      data['text'].append(text)\n",
        "      data['provider'].append('BBC')\n",
        "      data['source'].append('site-live-news')\n",
        "\n",
        "    time.sleep(PAUSE_BETWEEN_QUERIES)\n",
        "\n",
        "  current_live_url = article.find('a', href=re.compile('https://www.bbc.com/news/live/world-middle-east'))\n",
        "  if current_live_url is None:\n",
        "    current_live_url = article.find('a', href=re.compile('https://www.bbc.co.uk/news/live/world-middle-east'))\n",
        "\n",
        "  if current_live_url is not None:\n",
        "    current_live_url = current_live_url.get('href')\n",
        "    result = requests.get(current_live_url)\n",
        "    body = BeautifulSoup(result.text, 'html.parser')\n",
        "    total_pages = int(body.find('span', class_=re.compile('qa-pagination-total-page-number')).string)"
      ],
      "metadata": {
        "id": "jKQ7gvav0scV"
      },
      "execution_count": null,
      "outputs": []
    },
    {
      "cell_type": "code",
      "source": [
        "# Instantiate Dataset object from the dictionary\n",
        "ds_bbc = Dataset.from_dict(data)\n",
        "ds_bbc"
      ],
      "metadata": {
        "id": "sl4TJYkxW8Vr",
        "colab": {
          "base_uri": "https://localhost:8080/"
        },
        "outputId": "8efca3d7-9cd2-49b4-c303-e417c14dc4ab"
      },
      "execution_count": 56,
      "outputs": [
        {
          "output_type": "execute_result",
          "data": {
            "text/plain": [
              "Dataset({\n",
              "    features: ['url', 'datetime', 'author', 'title', 'text', 'provider', 'source'],\n",
              "    num_rows: 805\n",
              "})"
            ]
          },
          "metadata": {},
          "execution_count": 56
        }
      ]
    },
    {
      "cell_type": "code",
      "source": [
        "ds_bbc.save_to_disk(base_path + '/Data/bbc_news_ds')"
      ],
      "metadata": {
        "id": "Jgc0rvAbaFWz"
      },
      "execution_count": null,
      "outputs": []
    },
    {
      "cell_type": "code",
      "source": [
        "# ds_bbc = load_from_disk(base_path + '/Data/bbc_news_ds')"
      ],
      "metadata": {
        "id": "zsSZAQwZ2BiS"
      },
      "execution_count": null,
      "outputs": []
    },
    {
      "cell_type": "markdown",
      "source": [
        "## 2. Collecting live news from the \"THE TIMES OF ISRAEL\" site"
      ],
      "metadata": {
        "id": "nHrcsfDaaR39"
      }
    },
    {
      "cell_type": "markdown",
      "source": [
        "To collect news from the \"THE TIMES OF ISRAEL\" site we used the Selenium library. As it's a bit difficult to use selenium inside Google Colab, we leveraged a simple Python script that can be found in [Github](https://github.com/aakhterov/ML_projects/blob/master/news_sentiment_analysis/main_toi.py). Here we just load the saved dataset."
      ],
      "metadata": {
        "id": "w2MBt4kmfk4M"
      }
    },
    {
      "cell_type": "code",
      "source": [],
      "metadata": {
        "id": "kBpxnBsbkbkL"
      },
      "execution_count": null,
      "outputs": []
    },
    {
      "cell_type": "code",
      "source": [
        "ds_toi = load_from_disk(base_path + '/Data/toi_news_ds')\n",
        "ds_toi"
      ],
      "metadata": {
        "id": "a7evOO2qfkOS",
        "colab": {
          "base_uri": "https://localhost:8080/"
        },
        "outputId": "fdabe3ac-62f3-454d-891a-08a42d6b229f"
      },
      "execution_count": 5,
      "outputs": [
        {
          "output_type": "execute_result",
          "data": {
            "text/plain": [
              "Dataset({\n",
              "    features: ['url', 'datetime', 'author', 'title', 'text', 'provider', 'source'],\n",
              "    num_rows: 6581\n",
              "})"
            ]
          },
          "metadata": {},
          "execution_count": 5
        }
      ]
    },
    {
      "cell_type": "code",
      "source": [
        "ds_toi[:3]"
      ],
      "metadata": {
        "colab": {
          "base_uri": "https://localhost:8080/"
        },
        "id": "Y1MqYKwLC8O5",
        "outputId": "154af4c0-ebc7-482e-ff18-b3022ada1f5d"
      },
      "execution_count": null,
      "outputs": [
        {
          "output_type": "execute_result",
          "data": {
            "text/plain": [
              "{'url': ['https://www.timesofisrael.com/liveblog_entry/us-official-says-there-will-only-be-a-significant-pause-in-gaza-when-hostages-released/',\n",
              "  'https://www.timesofisrael.com/liveblog_entry/survey-shows-substantial-support-for-renewal-of-jewish-settlement-in-gaza-after-war/',\n",
              "  'https://www.timesofisrael.com/liveblog_entry/hamas-claims-that-gaza-death-toll-reaches-12300/'],\n",
              " 'datetime': ['2023-11-18T19:30:14',\n",
              "  '2023-11-18T19:25:21',\n",
              "  '2023-11-18T19:18:28'],\n",
              " 'author': ['AFP', '-', 'AFP'],\n",
              " 'title': ['US official says there will only be a ‘significant pause’ in Gaza when hostages released',\n",
              "  'Survey shows substantial support for renewal of Jewish settlement in Gaza after war',\n",
              "  'Hamas claims that Gaza death toll reaches 12,300'],\n",
              " 'text': ['US President Joe Biden’s main adviser on the Middle East says there will only be a “significant pause” in the Israel-Hamas war if hostages held by Hamas and other terror groups in Gaza are freed.\\n“The surge in humanitarian relief, the surge in fuel, the pause… will come when hostages are released,” Brett McGurk tells a security conference in Bahrain.\\nRelease of a large number of hostages would result in “a significant pause… and a massive surge of humanitarian relief,” he says.\\nMcGurk says Biden discussed the issue last night with the ruler of the Gulf nation of Qatar, which is leading mediation efforts towards a ceasefire and release of the captives.\\nThere are believed to be some 240 hostages kidnapped from Israel and held captive in Gaza. Since October 7, four have been released and one was rescued by the IDF, while the military has recovered the bodies of two hostages in Gaza in the past few days.',\n",
              "  'Channel 12 releases further findings from a survey it carried out on November 15, showing considerable support for the renewal of Jewish settlement in the Gaza Strip after the war. Israel withdrew unilaterally from Gaza to the pre-1967 lines in 2005, removing some 8,000 Jews from their homes in 21 settlements.\\nAsked what should happen with Gaza at the end of the war, 32% of respondents said “Israel should remain permanently and renew Jewish settlement”; 30% said the enclave should be “given over to international trusteeship”; 14% said Israel should “maintain a permanent military presence”; 10% percent said it should be “handed over for rule by the Palestinian Authority”; and 14% said they did not know.\\nThe TV anchors said respondents were also asked to make a direct choice as to whether or not they favored a renewal of Jewish settlement in Gaza, and 44% said they were in favor, while 39% were against. This finding was not shown on screen, however.\\nAsked whether their political stance has changed in the wake of the war, 53% said it had not changed; 36% said they had become more right-wing; 6% said they had become more left-wing; and 5% said they didn’t know.\\nAsked what should happen in terms of Israel’s political leadership after the war, 58% said new elections should be held, 19% said the current coalition should remain in office, 13% said an alternative government headed by a Likud politician other than Benjamin Netanyahu should be formed, and 10% said they didn’t know.\\nFindings from the survey broadcast on Thursday suggested that were elections to be held today, Netanyahu would be heavily defeated, with Benny Gantz’s National Unity party soaring.\\nThe survey was conducted among 502 respondents by pollster Mano Geva and Midgam, and had a 4.4% margin of error.',\n",
              "  'The Hamas-controlled Gaza health ministry claims that the death toll in the strip has reached 12,300 since hostilities started on October 7.\\nThe Hamas government claims that more than 5,000 children are among the dead, alongside 3,300 women, with 30,000 more people wounded. Its health ministry has previously said it can no longer give exact tolls as intense fighting has prevented bodies from being recovered.\\nThe figures released by the Hamas terror group cannot be independently verified and do not distinguish between civilians and terrorists, and also do not differentiate between those killed by Israeli airstrikes and those killed in failed Palestinian rocket launches.'],\n",
              " 'provider': ['the times of israel live',\n",
              "  'the times of israel live',\n",
              "  'the times of israel live'],\n",
              " 'source': ['site', 'site', 'site']}"
            ]
          },
          "metadata": {},
          "execution_count": 45
        }
      ]
    },
    {
      "cell_type": "code",
      "source": [
        "def change_provider_and_source(example):\n",
        "  example['provider'] = 'The Times of Israel'\n",
        "  example['source'] = 'site-live-news'\n",
        "  return example"
      ],
      "metadata": {
        "id": "GF6FtfX5DEGU"
      },
      "execution_count": 6,
      "outputs": []
    },
    {
      "cell_type": "code",
      "source": [
        "ds_toi = ds_toi.map(change_provider_and_source)"
      ],
      "metadata": {
        "id": "jLoqOkBPDEMF"
      },
      "execution_count": 7,
      "outputs": []
    },
    {
      "cell_type": "markdown",
      "source": [
        "## 3. Collect live news from Al Jazeera site"
      ],
      "metadata": {
        "id": "LrAp2V7ajF2O"
      }
    },
    {
      "cell_type": "markdown",
      "source": [
        "Here is the same case as with \"THE TIMES OF ISRAEL\" - we need to use Selenium to grab the news, save the collected dataset (code is [here](https://github.com/aakhterov/ML_projects/blob/master/news_sentiment_analysis/main_aj.py)) and load it here."
      ],
      "metadata": {
        "id": "9FwAI0vH__7Y"
      }
    },
    {
      "cell_type": "code",
      "source": [
        "ds_aj = load_from_disk(base_path + '/Data/aljazeera_news_ds')\n",
        "ds_aj"
      ],
      "metadata": {
        "colab": {
          "base_uri": "https://localhost:8080/"
        },
        "id": "4gRm4ciC__QY",
        "outputId": "bc107cb3-7cf2-4a3f-9550-d1110ffbe5e5"
      },
      "execution_count": 8,
      "outputs": [
        {
          "output_type": "execute_result",
          "data": {
            "text/plain": [
              "Dataset({\n",
              "    features: ['url', 'datetime', 'author', 'title', 'text', 'provider', 'source'],\n",
              "    num_rows: 3317\n",
              "})"
            ]
          },
          "metadata": {},
          "execution_count": 8
        }
      ]
    },
    {
      "cell_type": "code",
      "source": [
        "ds_aj = ds_aj.filter(lambda x: \"This live page is now closed\" not in x[\"text\"])"
      ],
      "metadata": {
        "id": "Wd4zUdPbKRg-"
      },
      "execution_count": 9,
      "outputs": []
    },
    {
      "cell_type": "code",
      "source": [
        "def change_provider_and_source(example):\n",
        "  example['provider'] = 'Al Jazeera'\n",
        "  example['source'] = 'site-live-news'\n",
        "  return example"
      ],
      "metadata": {
        "id": "BchyCs_9KqkR"
      },
      "execution_count": 10,
      "outputs": []
    },
    {
      "cell_type": "code",
      "source": [
        "ds_aj = ds_aj.map(change_provider_and_source)"
      ],
      "metadata": {
        "id": "Ut2nBhQYK0y0"
      },
      "execution_count": 11,
      "outputs": []
    },
    {
      "cell_type": "markdown",
      "source": [
        "## 4. Collect articles from Al Mayadeen site"
      ],
      "metadata": {
        "id": "sadHDEH7XYDS"
      }
    },
    {
      "cell_type": "code",
      "source": [
        "BASE_URL = \"https://english.almayadeen.net\"\n",
        "FIRST_URL = \"https://english.almayadeen.net/coverage/operation-al-aqsa-flood\"\n",
        "PAGE_URL = \"https://english.almayadeen.net/GetMore/coverage/operation-al-aqsa-flood?widgetid=00000000-0000-0000-0000-000000000000&widget=coverage-articles&postid=1753428&ismain=False&order=1\""
      ],
      "metadata": {
        "id": "2ADApbAMlkQ_"
      },
      "execution_count": null,
      "outputs": []
    },
    {
      "cell_type": "code",
      "source": [
        "data = {\"url\": [], \"datetime\": [], \"author\": [], \"title\": [], \"text\": [], \"provider\": [], \"source\": []}\n",
        "\n",
        "res = requests.get(FIRST_URL)\n",
        "first_page_body = BeautifulSoup(res.text, 'html.parser')\n",
        "first_block = first_page_body.find('div', attrs={\"data-widgetkey\": \"coverage-articles\"})\n",
        "\n",
        "# Collect all news link\n",
        "urls = []\n",
        "for div in first_block.find_all('div', class_='content-block'):\n",
        "    urls.append(div.find('a').get('href'))\n",
        "\n",
        "for page in range(1, 101):\n",
        "    print(f\"Page {page}. Length urls: {len(urls)}\")\n",
        "    res = requests.get(f\"{PAGE_URL}&page={page}\")\n",
        "    page_body = BeautifulSoup(res.text, 'html.parser')\n",
        "    divs = page_body.find_all('div', class_='content-block')\n",
        "    if divs:\n",
        "        for div in divs:\n",
        "            urls.append(div.find('a').get('href'))\n",
        "    else:\n",
        "        break\n",
        "\n",
        "print(f\"Total amount of the news: {len(urls)}\")\n",
        "\n",
        "# Grab the news using the collected links\n",
        "for idx, url in enumerate(urls):\n",
        "    print(idx+1, url)\n",
        "    result = requests.get(BASE_URL + url)\n",
        "    body = BeautifulSoup(result.text, 'html.parser')\n",
        "    article_block = body.find('article', class_ = 'post-details')\n",
        "    if article_block:\n",
        "        title = article_block.find('h1').text.strip()\n",
        "\n",
        "        author_block = article_block.find('a', class_='post-author post-author-with-img')\n",
        "        author = author_block.text.strip() if author_block else None\n",
        "\n",
        "        datetime_block = article_block.find('li', class_='media-date')\n",
        "        if datetime_block:\n",
        "            datetime_ = datetime_block.text.strip()\n",
        "            if datetime_.split()[0] == 'Today':\n",
        "                post_datetime = datetime.strptime(datetime.today().strftime(\"%d %b %Y\") + ' ' + datetime_.split()[1], \"%d %b %Y %H:%M\") # 15 Oct 2023 06:36\n",
        "            else:\n",
        "                post_datetime = datetime.strptime(datetime_, \"%d %b %Y %H:%M\") # 15 Oct 2023 06:36\n",
        "        else:\n",
        "            post_datetime = None\n",
        "\n",
        "        text_block = body.find('div', class_='p-content')\n",
        "        text_lst = []\n",
        "        if text_block:\n",
        "            for p in text_block.find_all('p'):\n",
        "                text_lst.append(p.text)\n",
        "        text = '\\n'.join(text_lst)\n",
        "\n",
        "        print('\\t', post_datetime, title)\n",
        "        data['url'].append(BASE_URL + url)\n",
        "        data['title'].append(title)\n",
        "        data['datetime'].append(post_datetime.strftime('%Y-%m-%dT%H:%M:%S') if post_datetime else None)\n",
        "        data['author'].append(author if author else '-')\n",
        "        data['text'].append(text)\n",
        "        data['provider'].append('Al Mayadeen')\n",
        "        data['source'].append('site-articles')"
      ],
      "metadata": {
        "id": "RO1PeFK6lOp7"
      },
      "execution_count": null,
      "outputs": []
    },
    {
      "cell_type": "code",
      "source": [
        "ds = Dataset.from_dict(data)\n",
        "ds.save_to_disk('al_mayadeen_news_ds')"
      ],
      "metadata": {
        "id": "GfIqRpvGlOuK"
      },
      "execution_count": null,
      "outputs": []
    },
    {
      "cell_type": "code",
      "source": [
        "# ds_am = load_from_disk(base_path + '/Data/al_mayadeen_news_ds')\n",
        "# ds_am"
      ],
      "metadata": {
        "id": "YKZZztwQXXXo"
      },
      "execution_count": null,
      "outputs": []
    },
    {
      "cell_type": "markdown",
      "source": [
        "## 5. Collect news from WAFA \"News\" Agency site"
      ],
      "metadata": {
        "id": "cYQUOzia6p8Y"
      }
    },
    {
      "cell_type": "code",
      "source": [
        "BASE_URL = \"https://english.wafa.ps\"\n",
        "NEWS_URL = BASE_URL + \"/Regions/Details/2\""
      ],
      "metadata": {
        "id": "G2KasFfQnJSE"
      },
      "execution_count": null,
      "outputs": []
    },
    {
      "cell_type": "code",
      "source": [
        "data = {\"url\": [], \"datetime\": [], \"author\": [], \"title\": [], \"text\": [], \"provider\": [], \"source\": []}\n",
        "\n",
        "for page in range(51):\n",
        "    print(f\"Page: {page}\")\n",
        "    result = requests.get(NEWS_URL, params={'pageNumber': page})\n",
        "    body = BeautifulSoup(result.text, \"html.parser\")\n",
        "    posts_block = body.find('div', class_=\"post-blockcat-wrapper\")\n",
        "    for div in posts_block.find_all('div', class_=\"content\"):\n",
        "        datetime_block = div.find('span', class_=\"meta-item date\")\n",
        "        post_datetime = datetime.strptime(datetime_block.text, \"%d/%B/%Y %I:%M %p\") # <span class=\"meta-item date\">07/October/2023 02:29 PM</span>\n",
        "\n",
        "        url_block = div.find('h4', class_=\"title\")\n",
        "        post_url = BASE_URL + url_block.find('a').get(\"href\")\n",
        "\n",
        "        print('\\t', post_datetime, post_url)\n",
        "        res = requests.get(post_url)\n",
        "        html = BeautifulSoup(res.text, \"html.parser\")\n",
        "        post_block = html.find('div', class_=\"blog-wrap\")\n",
        "\n",
        "        title_block = post_block.find('h3', class_='title')\n",
        "        title = title_block.text if title_block else None\n",
        "\n",
        "        text_lst = []\n",
        "        for p in post_block.find('div', class_='content').find_all('p'):\n",
        "            if p is not None:\n",
        "                text_lst.append(p.text)\n",
        "        text = '\\n'.join(text_lst)\n",
        "\n",
        "        author = text_lst[-1]\n",
        "\n",
        "        data['url'].append(post_url)\n",
        "        data['title'].append(title)\n",
        "        data['datetime'].append(post_datetime.strftime('%Y-%m-%dT%H:%M:%S') if post_datetime else None)\n",
        "        data['author'].append(author if author else '-')\n",
        "        data['text'].append(text)\n",
        "        data['provider'].append('WAFA News Agency')\n",
        "        data['source'].append('site-occupation')"
      ],
      "metadata": {
        "id": "NwVQ56o0nGKg"
      },
      "execution_count": null,
      "outputs": []
    },
    {
      "cell_type": "code",
      "source": [
        "ds_wafa = Dataset.from_dict(data)\n",
        "ds_wafa.save_to_disk('wafa_news_ds')\n",
        "ds_wafa"
      ],
      "metadata": {
        "id": "iZI6EZ_enGVl"
      },
      "execution_count": null,
      "outputs": []
    },
    {
      "cell_type": "code",
      "source": [
        "# ds_wafa = load_from_disk(base_path + '/Data/wafa_news_ds')\n",
        "# ds_wafa"
      ],
      "metadata": {
        "id": "boY0y_fM6-sa"
      },
      "execution_count": null,
      "outputs": []
    },
    {
      "cell_type": "markdown",
      "source": [
        "## 6. Collect live news from CNN's site\n"
      ],
      "metadata": {
        "id": "IUtkYOznPXDO"
      }
    },
    {
      "cell_type": "markdown",
      "source": [
        "Here is the same case as with \"THE TIMES OF ISRAEL\" - we need to use Selenium to grab the news, save the collected dataset (code is [here](https://github.com/aakhterov/ML_projects/blob/master/news_sentiment_analysis/main_cnn.py)) and load it here."
      ],
      "metadata": {
        "id": "qMWqeKtlk0ps"
      }
    },
    {
      "cell_type": "code",
      "source": [
        "ds_cnn = load_from_disk(base_path + '/Data/cnn_news_ds')\n",
        "ds_cnn"
      ],
      "metadata": {
        "colab": {
          "base_uri": "https://localhost:8080/"
        },
        "id": "goKIy2ilEPGg",
        "outputId": "1892e473-8b8e-47d6-9446-87c37748f405"
      },
      "execution_count": 18,
      "outputs": [
        {
          "output_type": "execute_result",
          "data": {
            "text/plain": [
              "Dataset({\n",
              "    features: ['url', 'datetime', 'author', 'title', 'text', 'provider', 'source'],\n",
              "    num_rows: 1428\n",
              "})"
            ]
          },
          "metadata": {},
          "execution_count": 18
        }
      ]
    },
    {
      "cell_type": "markdown",
      "source": [
        "## 6. Merging the collected datasets"
      ],
      "metadata": {
        "id": "7Mh4hM83AAAb"
      }
    },
    {
      "cell_type": "code",
      "source": [
        "ds = concatenate_datasets([ds_bbc, ds_toi, ds_aj, ds_am, ds_wafa, ds_cnn])"
      ],
      "metadata": {
        "id": "JSAdcvB4LCKH"
      },
      "execution_count": 20,
      "outputs": []
    },
    {
      "cell_type": "code",
      "source": [
        "ds"
      ],
      "metadata": {
        "colab": {
          "base_uri": "https://localhost:8080/"
        },
        "id": "nr-IHCwfLCau",
        "outputId": "03a87882-e374-4633-8fcc-71f8eb333cc0"
      },
      "execution_count": null,
      "outputs": [
        {
          "output_type": "execute_result",
          "data": {
            "text/plain": [
              "Dataset({\n",
              "    features: ['url', 'datetime', 'author', 'title', 'text', 'provider', 'source'],\n",
              "    num_rows: 13395\n",
              "})"
            ]
          },
          "metadata": {},
          "execution_count": 60
        }
      ]
    },
    {
      "cell_type": "code",
      "source": [
        "ds.unique('provider')"
      ],
      "metadata": {
        "colab": {
          "base_uri": "https://localhost:8080/"
        },
        "id": "mwgwRVTuMy8G",
        "outputId": "0b57352e-0f95-4960-bc29-fc7a718f6b52"
      },
      "execution_count": null,
      "outputs": [
        {
          "output_type": "execute_result",
          "data": {
            "text/plain": [
              "['BBC',\n",
              " 'The Times of Israel',\n",
              " 'Al Jazeera',\n",
              " 'Al Mayadeen',\n",
              " 'WAFA News Agency',\n",
              " 'CNN']"
            ]
          },
          "metadata": {},
          "execution_count": 61
        }
      ]
    },
    {
      "cell_type": "code",
      "source": [
        "ds.save_to_disk(base_path + '/Data/news_ds')"
      ],
      "metadata": {
        "id": "EwDO4UmRWftJ",
        "colab": {
          "base_uri": "https://localhost:8080/",
          "height": 49,
          "referenced_widgets": [
            "523708d210734770a044dac0fb1f7dae",
            "55157682f3d84872aca2294de5d532ba",
            "7d7fe7f1b4344a7684b321c65444ab8d",
            "3927cd83a51a40d79b4752cfa24a07ef",
            "cb15bd0ea192452ebddd65962aa4f51b",
            "26139de35ac34e2581829a87f8c73ee0",
            "5cf8711e256a4c6e969a5e7b7425e67d",
            "f6b0a809329841a5b7a4514e94c2c855",
            "d31b151ea2694a9b8059c6d5968db35e",
            "9ff53f1d72a64949bc64c10c67922f52",
            "0c34fde52cb9445ea2e60ed2b8bbd3b5"
          ]
        },
        "outputId": "f1ba0d04-6771-4bfd-f031-da30d5951d2d"
      },
      "execution_count": null,
      "outputs": [
        {
          "output_type": "display_data",
          "data": {
            "text/plain": [
              "Saving the dataset (0/1 shards):   0%|          | 0/13395 [00:00<?, ? examples/s]"
            ],
            "application/vnd.jupyter.widget-view+json": {
              "version_major": 2,
              "version_minor": 0,
              "model_id": "523708d210734770a044dac0fb1f7dae"
            }
          },
          "metadata": {}
        }
      ]
    },
    {
      "cell_type": "markdown",
      "source": [
        "## 7. Calculating the average news length"
      ],
      "metadata": {
        "id": "N51zrRDtoAV0"
      }
    },
    {
      "cell_type": "code",
      "source": [
        "def get_length(example):\n",
        "  example['len'] = len(example['text'].split())\n",
        "  return example"
      ],
      "metadata": {
        "id": "oynF1PqnoWiE"
      },
      "execution_count": null,
      "outputs": []
    },
    {
      "cell_type": "code",
      "source": [
        "ds_w_len = ds.map(get_length)"
      ],
      "metadata": {
        "colab": {
          "base_uri": "https://localhost:8080/",
          "height": 49,
          "referenced_widgets": [
            "ea5fa56f384f4b20bcdf949d36862866",
            "d729baa974024321932b124d230cd2ef",
            "d641f088bb2c4abc898194670d7aa107",
            "4dae317117af4cf6be414d0a7251efe7",
            "24fb7067be7744cab075bab1ea1dffa5",
            "7b73035fc30b4a5d8b55ba3b9e08b73e",
            "4a91d94a00194086bda305c24c118fa2",
            "b307734229054421beff1c2a780a56e8",
            "32177b788a5d42f2bca4727ff01eed09",
            "9d7cc7a60b2d4aebab00fce5ed4418d8",
            "98611dbb02f74b0f8fcabc7cc1f50e13"
          ]
        },
        "id": "y13HJLWhoyCo",
        "outputId": "6aa0b670-d9ab-4bcf-a285-65ed1f0d84a3"
      },
      "execution_count": null,
      "outputs": [
        {
          "output_type": "display_data",
          "data": {
            "text/plain": [
              "Map:   0%|          | 0/13395 [00:00<?, ? examples/s]"
            ],
            "application/vnd.jupyter.widget-view+json": {
              "version_major": 2,
              "version_minor": 0,
              "model_id": "ea5fa56f384f4b20bcdf949d36862866"
            }
          },
          "metadata": {}
        }
      ]
    },
    {
      "cell_type": "code",
      "source": [
        "ds_w_len.set_format(\"pandas\")\n",
        "ds_w_len[:].groupby([\"provider\", \"source\"]).agg(['mean', 'count'])"
      ],
      "metadata": {
        "colab": {
          "base_uri": "https://localhost:8080/",
          "height": 419
        },
        "id": "ixt6fBzOo6sx",
        "outputId": "8c68b4a6-7d38-4781-86de-6a8d68d28183"
      },
      "execution_count": null,
      "outputs": [
        {
          "output_type": "stream",
          "name": "stderr",
          "text": [
            "<ipython-input-65-08d70b6d2378>:2: FutureWarning: ['url', 'datetime', 'author', 'title', 'text'] did not aggregate successfully. If any error is raised this will raise in a future version of pandas. Drop these columns/ops to avoid this warning.\n",
            "  ds_w_len[:].groupby([\"provider\", \"source\"]).agg(['mean', 'count'])\n"
          ]
        },
        {
          "output_type": "execute_result",
          "data": {
            "text/plain": [
              "                                                                    len      \n",
              "                                                                   mean count\n",
              "provider            source                                                   \n",
              "Al Jazeera          site-live-news                           101.171975  3297\n",
              "Al Mayadeen         site-articles                           1196.256757    74\n",
              "BBC                 site-live-news                           129.027295   806\n",
              "                    site-tag(News)-search(israel)            569.427350   117\n",
              "                    site-tag(News)-search(israel-gaza war)   537.027778    72\n",
              "CNN                 site-live-news                           197.663165  1428\n",
              "The Times of Israel site-live-news                           127.901383  6581\n",
              "WAFA News Agency    site-occupation                          158.311765  1020"
            ],
            "text/html": [
              "\n",
              "  <div id=\"df-a1f75837-0537-4cab-ba39-f21115599e9e\" class=\"colab-df-container\">\n",
              "    <div>\n",
              "<style scoped>\n",
              "    .dataframe tbody tr th:only-of-type {\n",
              "        vertical-align: middle;\n",
              "    }\n",
              "\n",
              "    .dataframe tbody tr th {\n",
              "        vertical-align: top;\n",
              "    }\n",
              "\n",
              "    .dataframe thead tr th {\n",
              "        text-align: left;\n",
              "    }\n",
              "\n",
              "    .dataframe thead tr:last-of-type th {\n",
              "        text-align: right;\n",
              "    }\n",
              "</style>\n",
              "<table border=\"1\" class=\"dataframe\">\n",
              "  <thead>\n",
              "    <tr>\n",
              "      <th></th>\n",
              "      <th></th>\n",
              "      <th colspan=\"2\" halign=\"left\">len</th>\n",
              "    </tr>\n",
              "    <tr>\n",
              "      <th></th>\n",
              "      <th></th>\n",
              "      <th>mean</th>\n",
              "      <th>count</th>\n",
              "    </tr>\n",
              "    <tr>\n",
              "      <th>provider</th>\n",
              "      <th>source</th>\n",
              "      <th></th>\n",
              "      <th></th>\n",
              "    </tr>\n",
              "  </thead>\n",
              "  <tbody>\n",
              "    <tr>\n",
              "      <th>Al Jazeera</th>\n",
              "      <th>site-live-news</th>\n",
              "      <td>101.171975</td>\n",
              "      <td>3297</td>\n",
              "    </tr>\n",
              "    <tr>\n",
              "      <th>Al Mayadeen</th>\n",
              "      <th>site-articles</th>\n",
              "      <td>1196.256757</td>\n",
              "      <td>74</td>\n",
              "    </tr>\n",
              "    <tr>\n",
              "      <th rowspan=\"3\" valign=\"top\">BBC</th>\n",
              "      <th>site-live-news</th>\n",
              "      <td>129.027295</td>\n",
              "      <td>806</td>\n",
              "    </tr>\n",
              "    <tr>\n",
              "      <th>site-tag(News)-search(israel)</th>\n",
              "      <td>569.427350</td>\n",
              "      <td>117</td>\n",
              "    </tr>\n",
              "    <tr>\n",
              "      <th>site-tag(News)-search(israel-gaza war)</th>\n",
              "      <td>537.027778</td>\n",
              "      <td>72</td>\n",
              "    </tr>\n",
              "    <tr>\n",
              "      <th>CNN</th>\n",
              "      <th>site-live-news</th>\n",
              "      <td>197.663165</td>\n",
              "      <td>1428</td>\n",
              "    </tr>\n",
              "    <tr>\n",
              "      <th>The Times of Israel</th>\n",
              "      <th>site-live-news</th>\n",
              "      <td>127.901383</td>\n",
              "      <td>6581</td>\n",
              "    </tr>\n",
              "    <tr>\n",
              "      <th>WAFA News Agency</th>\n",
              "      <th>site-occupation</th>\n",
              "      <td>158.311765</td>\n",
              "      <td>1020</td>\n",
              "    </tr>\n",
              "  </tbody>\n",
              "</table>\n",
              "</div>\n",
              "    <div class=\"colab-df-buttons\">\n",
              "\n",
              "  <div class=\"colab-df-container\">\n",
              "    <button class=\"colab-df-convert\" onclick=\"convertToInteractive('df-a1f75837-0537-4cab-ba39-f21115599e9e')\"\n",
              "            title=\"Convert this dataframe to an interactive table.\"\n",
              "            style=\"display:none;\">\n",
              "\n",
              "  <svg xmlns=\"http://www.w3.org/2000/svg\" height=\"24px\" viewBox=\"0 -960 960 960\">\n",
              "    <path d=\"M120-120v-720h720v720H120Zm60-500h600v-160H180v160Zm220 220h160v-160H400v160Zm0 220h160v-160H400v160ZM180-400h160v-160H180v160Zm440 0h160v-160H620v160ZM180-180h160v-160H180v160Zm440 0h160v-160H620v160Z\"/>\n",
              "  </svg>\n",
              "    </button>\n",
              "\n",
              "  <style>\n",
              "    .colab-df-container {\n",
              "      display:flex;\n",
              "      gap: 12px;\n",
              "    }\n",
              "\n",
              "    .colab-df-convert {\n",
              "      background-color: #E8F0FE;\n",
              "      border: none;\n",
              "      border-radius: 50%;\n",
              "      cursor: pointer;\n",
              "      display: none;\n",
              "      fill: #1967D2;\n",
              "      height: 32px;\n",
              "      padding: 0 0 0 0;\n",
              "      width: 32px;\n",
              "    }\n",
              "\n",
              "    .colab-df-convert:hover {\n",
              "      background-color: #E2EBFA;\n",
              "      box-shadow: 0px 1px 2px rgba(60, 64, 67, 0.3), 0px 1px 3px 1px rgba(60, 64, 67, 0.15);\n",
              "      fill: #174EA6;\n",
              "    }\n",
              "\n",
              "    .colab-df-buttons div {\n",
              "      margin-bottom: 4px;\n",
              "    }\n",
              "\n",
              "    [theme=dark] .colab-df-convert {\n",
              "      background-color: #3B4455;\n",
              "      fill: #D2E3FC;\n",
              "    }\n",
              "\n",
              "    [theme=dark] .colab-df-convert:hover {\n",
              "      background-color: #434B5C;\n",
              "      box-shadow: 0px 1px 3px 1px rgba(0, 0, 0, 0.15);\n",
              "      filter: drop-shadow(0px 1px 2px rgba(0, 0, 0, 0.3));\n",
              "      fill: #FFFFFF;\n",
              "    }\n",
              "  </style>\n",
              "\n",
              "    <script>\n",
              "      const buttonEl =\n",
              "        document.querySelector('#df-a1f75837-0537-4cab-ba39-f21115599e9e button.colab-df-convert');\n",
              "      buttonEl.style.display =\n",
              "        google.colab.kernel.accessAllowed ? 'block' : 'none';\n",
              "\n",
              "      async function convertToInteractive(key) {\n",
              "        const element = document.querySelector('#df-a1f75837-0537-4cab-ba39-f21115599e9e');\n",
              "        const dataTable =\n",
              "          await google.colab.kernel.invokeFunction('convertToInteractive',\n",
              "                                                    [key], {});\n",
              "        if (!dataTable) return;\n",
              "\n",
              "        const docLinkHtml = 'Like what you see? Visit the ' +\n",
              "          '<a target=\"_blank\" href=https://colab.research.google.com/notebooks/data_table.ipynb>data table notebook</a>'\n",
              "          + ' to learn more about interactive tables.';\n",
              "        element.innerHTML = '';\n",
              "        dataTable['output_type'] = 'display_data';\n",
              "        await google.colab.output.renderOutput(dataTable, element);\n",
              "        const docLink = document.createElement('div');\n",
              "        docLink.innerHTML = docLinkHtml;\n",
              "        element.appendChild(docLink);\n",
              "      }\n",
              "    </script>\n",
              "  </div>\n",
              "\n",
              "\n",
              "<div id=\"df-57e183ba-1fc2-49dc-9615-bbaf1b9e8401\">\n",
              "  <button class=\"colab-df-quickchart\" onclick=\"quickchart('df-57e183ba-1fc2-49dc-9615-bbaf1b9e8401')\"\n",
              "            title=\"Suggest charts\"\n",
              "            style=\"display:none;\">\n",
              "\n",
              "<svg xmlns=\"http://www.w3.org/2000/svg\" height=\"24px\"viewBox=\"0 0 24 24\"\n",
              "     width=\"24px\">\n",
              "    <g>\n",
              "        <path d=\"M19 3H5c-1.1 0-2 .9-2 2v14c0 1.1.9 2 2 2h14c1.1 0 2-.9 2-2V5c0-1.1-.9-2-2-2zM9 17H7v-7h2v7zm4 0h-2V7h2v10zm4 0h-2v-4h2v4z\"/>\n",
              "    </g>\n",
              "</svg>\n",
              "  </button>\n",
              "\n",
              "<style>\n",
              "  .colab-df-quickchart {\n",
              "      --bg-color: #E8F0FE;\n",
              "      --fill-color: #1967D2;\n",
              "      --hover-bg-color: #E2EBFA;\n",
              "      --hover-fill-color: #174EA6;\n",
              "      --disabled-fill-color: #AAA;\n",
              "      --disabled-bg-color: #DDD;\n",
              "  }\n",
              "\n",
              "  [theme=dark] .colab-df-quickchart {\n",
              "      --bg-color: #3B4455;\n",
              "      --fill-color: #D2E3FC;\n",
              "      --hover-bg-color: #434B5C;\n",
              "      --hover-fill-color: #FFFFFF;\n",
              "      --disabled-bg-color: #3B4455;\n",
              "      --disabled-fill-color: #666;\n",
              "  }\n",
              "\n",
              "  .colab-df-quickchart {\n",
              "    background-color: var(--bg-color);\n",
              "    border: none;\n",
              "    border-radius: 50%;\n",
              "    cursor: pointer;\n",
              "    display: none;\n",
              "    fill: var(--fill-color);\n",
              "    height: 32px;\n",
              "    padding: 0;\n",
              "    width: 32px;\n",
              "  }\n",
              "\n",
              "  .colab-df-quickchart:hover {\n",
              "    background-color: var(--hover-bg-color);\n",
              "    box-shadow: 0 1px 2px rgba(60, 64, 67, 0.3), 0 1px 3px 1px rgba(60, 64, 67, 0.15);\n",
              "    fill: var(--button-hover-fill-color);\n",
              "  }\n",
              "\n",
              "  .colab-df-quickchart-complete:disabled,\n",
              "  .colab-df-quickchart-complete:disabled:hover {\n",
              "    background-color: var(--disabled-bg-color);\n",
              "    fill: var(--disabled-fill-color);\n",
              "    box-shadow: none;\n",
              "  }\n",
              "\n",
              "  .colab-df-spinner {\n",
              "    border: 2px solid var(--fill-color);\n",
              "    border-color: transparent;\n",
              "    border-bottom-color: var(--fill-color);\n",
              "    animation:\n",
              "      spin 1s steps(1) infinite;\n",
              "  }\n",
              "\n",
              "  @keyframes spin {\n",
              "    0% {\n",
              "      border-color: transparent;\n",
              "      border-bottom-color: var(--fill-color);\n",
              "      border-left-color: var(--fill-color);\n",
              "    }\n",
              "    20% {\n",
              "      border-color: transparent;\n",
              "      border-left-color: var(--fill-color);\n",
              "      border-top-color: var(--fill-color);\n",
              "    }\n",
              "    30% {\n",
              "      border-color: transparent;\n",
              "      border-left-color: var(--fill-color);\n",
              "      border-top-color: var(--fill-color);\n",
              "      border-right-color: var(--fill-color);\n",
              "    }\n",
              "    40% {\n",
              "      border-color: transparent;\n",
              "      border-right-color: var(--fill-color);\n",
              "      border-top-color: var(--fill-color);\n",
              "    }\n",
              "    60% {\n",
              "      border-color: transparent;\n",
              "      border-right-color: var(--fill-color);\n",
              "    }\n",
              "    80% {\n",
              "      border-color: transparent;\n",
              "      border-right-color: var(--fill-color);\n",
              "      border-bottom-color: var(--fill-color);\n",
              "    }\n",
              "    90% {\n",
              "      border-color: transparent;\n",
              "      border-bottom-color: var(--fill-color);\n",
              "    }\n",
              "  }\n",
              "</style>\n",
              "\n",
              "  <script>\n",
              "    async function quickchart(key) {\n",
              "      const quickchartButtonEl =\n",
              "        document.querySelector('#' + key + ' button');\n",
              "      quickchartButtonEl.disabled = true;  // To prevent multiple clicks.\n",
              "      quickchartButtonEl.classList.add('colab-df-spinner');\n",
              "      try {\n",
              "        const charts = await google.colab.kernel.invokeFunction(\n",
              "            'suggestCharts', [key], {});\n",
              "      } catch (error) {\n",
              "        console.error('Error during call to suggestCharts:', error);\n",
              "      }\n",
              "      quickchartButtonEl.classList.remove('colab-df-spinner');\n",
              "      quickchartButtonEl.classList.add('colab-df-quickchart-complete');\n",
              "    }\n",
              "    (() => {\n",
              "      let quickchartButtonEl =\n",
              "        document.querySelector('#df-57e183ba-1fc2-49dc-9615-bbaf1b9e8401 button');\n",
              "      quickchartButtonEl.style.display =\n",
              "        google.colab.kernel.accessAllowed ? 'block' : 'none';\n",
              "    })();\n",
              "  </script>\n",
              "</div>\n",
              "    </div>\n",
              "  </div>\n"
            ]
          },
          "metadata": {},
          "execution_count": 65
        }
      ]
    }
  ]
}