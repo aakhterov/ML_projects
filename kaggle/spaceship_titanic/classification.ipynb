{
 "cells": [
  {
   "cell_type": "code",
   "execution_count": 424,
   "metadata": {},
   "outputs": [],
   "source": [
    "import numpy as np\n",
    "import pandas as pd\n",
    "import xgboost as xgb\n",
    "from copy import deepcopy\n",
    "from sklearn.pipeline import Pipeline\n",
    "from sklearn.preprocessing import StandardScaler, OneHotEncoder\n",
    "from sklearn.svm import SVC\n",
    "from sklearn.model_selection import train_test_split, GridSearchCV\n",
    "from sklearn.metrics import classification_report\n",
    "from tensorflow.keras.models import Model\n",
    "from tensorflow.keras.layers import Input, Dense, Dropout, Activation\n",
    "from tensorflow.keras.losses import BinaryCrossentropy"
   ]
  },
  {
   "cell_type": "code",
   "execution_count": 2,
   "metadata": {},
   "outputs": [],
   "source": [
    "train_file = \"data/train.csv\""
   ]
  },
  {
   "cell_type": "markdown",
   "metadata": {},
   "source": [
    "### Load data and split it to tran and test"
   ]
  },
  {
   "cell_type": "code",
   "execution_count": 622,
   "metadata": {},
   "outputs": [],
   "source": [
    "df = pd.read_csv(train_file, sep=',')"
   ]
  },
  {
   "cell_type": "code",
   "execution_count": 623,
   "metadata": {},
   "outputs": [],
   "source": [
    "y = df.Transported.astype(\"int\")\n",
    "X = df.drop(columns=['Transported', 'Name', 'PassengerId', 'VIP'])"
   ]
  },
  {
   "cell_type": "code",
   "execution_count": 653,
   "metadata": {},
   "outputs": [
    {
     "name": "stdout",
     "output_type": "stream",
     "text": [
      "6954 6954 1739 1739\n"
     ]
    }
   ],
   "source": [
    "X_train, X_test, y_train, y_test = train_test_split(X, y, test_size=0.2)\n",
    "print(len(X_train), len(y_train), len(X_test), len(y_test))"
   ]
  },
  {
   "cell_type": "markdown",
   "metadata": {},
   "source": [
    "### Features selection"
   ]
  },
  {
   "cell_type": "code",
   "execution_count": 625,
   "metadata": {},
   "outputs": [],
   "source": [
    "cols_NaN_to_mode = [\"HomePlanet\", \"CryoSleep\", \"Cabin\", \"Destination\"]\n",
    "cols_NaN_to_mean = [\"Age\"]\n",
    "cols_NaN_to_zero = [\"RoomService\", \"FoodCourt\", \"ShoppingMall\", \"Spa\", \"VRDeck\"]"
   ]
  },
  {
   "cell_type": "code",
   "execution_count": 776,
   "metadata": {},
   "outputs": [],
   "source": [
    "# Implement classes for transformation of some colomns for using in Pipeline  "
   ]
  },
  {
   "cell_type": "code",
   "execution_count": 757,
   "metadata": {},
   "outputs": [],
   "source": [
    "class ReplaceNaNToMode:\n",
    "    \n",
    "    def __init__(self, columns):\n",
    "        self.columns = columns\n",
    "        self.modes = []\n",
    "        \n",
    "    def fit(self, X, y=None):\n",
    "        for i, col in enumerate(self.columns):\n",
    "            self.modes.append(X[col].mode()[0])\n",
    "        return self\n",
    "    \n",
    "    def transform(self, X, y=None):\n",
    "        X_copy = deepcopy(X)\n",
    "        for i, col in enumerate(self.columns):\n",
    "            X_copy[col].fillna(self.modes[i], inplace=True)\n",
    "        return X_copy\n",
    "    \n",
    "\n",
    "class ReplaceNaNToMean:\n",
    "    \n",
    "    def __init__(self, columns):\n",
    "        self.columns = columns\n",
    "        self.means = []\n",
    "        \n",
    "    def fit(self, X, y=None):\n",
    "        for i, col in enumerate(self.columns):\n",
    "            self.means.append(X[col].mean())\n",
    "        return self\n",
    "    \n",
    "    def transform(self, X, y=None):\n",
    "        X_copy = deepcopy(X)\n",
    "        for i, col in enumerate(self.columns):\n",
    "            X_copy[col].fillna(self.means[i], inplace=True)\n",
    "        return X_copy\n",
    "\n",
    "    \n",
    "class ReplaceNaNToZero:\n",
    "    \n",
    "    def __init__(self, columns):\n",
    "        self.columns = columns\n",
    "        \n",
    "    def fit(self, X, y=None):\n",
    "        return self\n",
    "    \n",
    "    def transform(self, X, y=None):\n",
    "        X_copy = deepcopy(X)\n",
    "        for i, col in enumerate(self.columns):\n",
    "            X_copy[col].fillna(0, inplace=True)\n",
    "        return X_copy\n",
    "\n",
    "    \n",
    "class OwnStandardScaler:\n",
    "    \n",
    "    def __init__(self, columns):\n",
    "        self.columns = columns\n",
    "        self.scaler = StandardScaler()\n",
    "        \n",
    "    def fit(self, X, y=None):\n",
    "        self.scaler.fit(X[self.columns])\n",
    "        return self\n",
    "    \n",
    "    def transform(self, X, y=None):\n",
    "        X_copy = deepcopy(X)\n",
    "        X_copy[self.columns] = self.scaler.transform(X_copy[self.columns])\n",
    "        return X_copy\n",
    "\n",
    "\n",
    "class SplitCabin:\n",
    "    \n",
    "    def __init__(self, column):\n",
    "        self.column = column\n",
    "        \n",
    "    def fit(self, X, y=None):\n",
    "        return self\n",
    "    \n",
    "    def transform(self, X, y=None):\n",
    "        X_copy = deepcopy(X)\n",
    "        df_cabin = X_copy[self.column].str.split(\"/\", expand=True)\n",
    "#         X[self.column+\"_Deck\"], X[self.column+\"_Num\"], X[self.column+\"_Side\"]  = df_cabin[0], df_cabin[1], df_cabin[2]\n",
    "        X_copy[self.column+\"_Deck\"], X_copy[self.column+\"_Side\"]  = df_cabin[0], df_cabin[2]\n",
    "        X_copy.drop(columns=['Cabin'], inplace=True)\n",
    "        return X_copy\n",
    "    \n",
    "\n",
    "class OwnOneHotEncoder:\n",
    "    \n",
    "    def __init__(self, columns):\n",
    "        self.columns = columns\n",
    "        self.encoder = OneHotEncoder(sparse=False, handle_unknown='ignore')\n",
    "        \n",
    "    def fit(self, X, y=None):\n",
    "        self.encoder.fit(X[self.columns])\n",
    "        return self\n",
    "    \n",
    "    def transform(self, X, y=None):\n",
    "        X_copy = deepcopy(X)\n",
    "        data = self.encoder.transform(X_copy[self.columns])\n",
    "        new_columns = []\n",
    "        for i, col in enumerate(self.columns):\n",
    "            new_columns += [f\"{col}_{(str(c).replace(' ','_'))}\" for c in self.encoder.categories_[i]]\n",
    "        new_df = pd.DataFrame(data, columns=new_columns)\n",
    "        X_copy = X_copy.drop(columns=self.columns)\n",
    "        X_copy.reset_index(inplace=True, drop=True)\n",
    "        X_copy = pd.concat((X_copy, new_df), axis=1)\n",
    "        return X_copy\n",
    "    \n",
    "    \n",
    "class CastType:\n",
    "    \n",
    "    def __init__(self, column_type_dict):\n",
    "        self.column_type_dict = column_type_dict\n",
    "        \n",
    "    def fit(self, X, y=None):\n",
    "        return self\n",
    "    \n",
    "    def transform(self, X, y=None):\n",
    "        X_copy = deepcopy(X)        \n",
    "        X_copy = X_copy.astype(self.column_type_dict)\n",
    "        return X_copy\n",
    "\n",
    "    \n",
    "class AddNewFeatures:\n",
    "    \n",
    "    def __init__(self):\n",
    "        pass\n",
    "        \n",
    "    def fit(self, X, y=None):\n",
    "        return self\n",
    "    \n",
    "    def transform(self, X, y=None):\n",
    "        X_copy = deepcopy(X)\n",
    "        X_copy[\"IsAmenities\"] = (X_copy[\"RoomService\"] + X_copy[\"FoodCourt\"] + X_copy[\"ShoppingMall\"] + \\\n",
    "        X_copy[\"Spa\"] +X_copy[\"VRDeck\"]) > 0\n",
    "        return X_copy "
   ]
  },
  {
   "cell_type": "code",
   "execution_count": 758,
   "metadata": {},
   "outputs": [
    {
     "name": "stdout",
     "output_type": "stream",
     "text": [
      "<class 'pandas.core.frame.DataFrame'>\n",
      "Int64Index: 6954 entries, 3559 to 8384\n",
      "Data columns (total 10 columns):\n",
      " #   Column        Non-Null Count  Dtype  \n",
      "---  ------        --------------  -----  \n",
      " 0   HomePlanet    6792 non-null   object \n",
      " 1   CryoSleep     6777 non-null   object \n",
      " 2   Cabin         6802 non-null   object \n",
      " 3   Destination   6808 non-null   object \n",
      " 4   Age           6815 non-null   float64\n",
      " 5   RoomService   6811 non-null   float64\n",
      " 6   FoodCourt     6803 non-null   float64\n",
      " 7   ShoppingMall  6786 non-null   float64\n",
      " 8   Spa           6807 non-null   float64\n",
      " 9   VRDeck        6795 non-null   float64\n",
      "dtypes: float64(6), object(4)\n",
      "memory usage: 597.6+ KB\n"
     ]
    }
   ],
   "source": [
    "X_train.info()"
   ]
  },
  {
   "cell_type": "markdown",
   "metadata": {},
   "source": [
    "### Make pipelines"
   ]
  },
  {
   "cell_type": "code",
   "execution_count": 764,
   "metadata": {},
   "outputs": [],
   "source": [
    "preprocessing_w_ohe = Pipeline([('replace_NaN_to_mode', ReplaceNaNToMode(cols_NaN_to_mode)), \n",
    "                                ('replace_NaN_to_mean', ReplaceNaNToMean(cols_NaN_to_mean)),\n",
    "                                ('replace_NaN_to_zero', ReplaceNaNToZero(cols_NaN_to_zero)),\n",
    "                                ('add_new_features', AddNewFeatures()),                                \n",
    "                                ('standard_scaler', OwnStandardScaler(['Age', 'RoomService', 'FoodCourt', \n",
    "                                                                       'ShoppingMall', 'Spa', 'VRDeck'])),\n",
    "                                ('split_cabin', SplitCabin(\"Cabin\")),\n",
    "                                ('one_hot_encoder', OwnOneHotEncoder(['HomePlanet', 'Destination', 'Cabin_Deck', 'Cabin_Side'])),\n",
    "                                ('cast_type', CastType({\"CryoSleep\": \"int\", \"IsAmenities\": \"int\"}))\n",
    "                               ])"
   ]
  },
  {
   "cell_type": "markdown",
   "metadata": {},
   "source": [
    "### SVM"
   ]
  },
  {
   "cell_type": "code",
   "execution_count": 750,
   "metadata": {},
   "outputs": [
    {
     "name": "stdout",
     "output_type": "stream",
     "text": [
      "Fitting 5 folds for each of 20 candidates, totalling 100 fits\n"
     ]
    },
    {
     "data": {
      "text/html": [
       "<style>#sk-container-id-48 {color: black;background-color: white;}#sk-container-id-48 pre{padding: 0;}#sk-container-id-48 div.sk-toggleable {background-color: white;}#sk-container-id-48 label.sk-toggleable__label {cursor: pointer;display: block;width: 100%;margin-bottom: 0;padding: 0.3em;box-sizing: border-box;text-align: center;}#sk-container-id-48 label.sk-toggleable__label-arrow:before {content: \"▸\";float: left;margin-right: 0.25em;color: #696969;}#sk-container-id-48 label.sk-toggleable__label-arrow:hover:before {color: black;}#sk-container-id-48 div.sk-estimator:hover label.sk-toggleable__label-arrow:before {color: black;}#sk-container-id-48 div.sk-toggleable__content {max-height: 0;max-width: 0;overflow: hidden;text-align: left;background-color: #f0f8ff;}#sk-container-id-48 div.sk-toggleable__content pre {margin: 0.2em;color: black;border-radius: 0.25em;background-color: #f0f8ff;}#sk-container-id-48 input.sk-toggleable__control:checked~div.sk-toggleable__content {max-height: 200px;max-width: 100%;overflow: auto;}#sk-container-id-48 input.sk-toggleable__control:checked~label.sk-toggleable__label-arrow:before {content: \"▾\";}#sk-container-id-48 div.sk-estimator input.sk-toggleable__control:checked~label.sk-toggleable__label {background-color: #d4ebff;}#sk-container-id-48 div.sk-label input.sk-toggleable__control:checked~label.sk-toggleable__label {background-color: #d4ebff;}#sk-container-id-48 input.sk-hidden--visually {border: 0;clip: rect(1px 1px 1px 1px);clip: rect(1px, 1px, 1px, 1px);height: 1px;margin: -1px;overflow: hidden;padding: 0;position: absolute;width: 1px;}#sk-container-id-48 div.sk-estimator {font-family: monospace;background-color: #f0f8ff;border: 1px dotted black;border-radius: 0.25em;box-sizing: border-box;margin-bottom: 0.5em;}#sk-container-id-48 div.sk-estimator:hover {background-color: #d4ebff;}#sk-container-id-48 div.sk-parallel-item::after {content: \"\";width: 100%;border-bottom: 1px solid gray;flex-grow: 1;}#sk-container-id-48 div.sk-label:hover label.sk-toggleable__label {background-color: #d4ebff;}#sk-container-id-48 div.sk-serial::before {content: \"\";position: absolute;border-left: 1px solid gray;box-sizing: border-box;top: 0;bottom: 0;left: 50%;z-index: 0;}#sk-container-id-48 div.sk-serial {display: flex;flex-direction: column;align-items: center;background-color: white;padding-right: 0.2em;padding-left: 0.2em;position: relative;}#sk-container-id-48 div.sk-item {position: relative;z-index: 1;}#sk-container-id-48 div.sk-parallel {display: flex;align-items: stretch;justify-content: center;background-color: white;position: relative;}#sk-container-id-48 div.sk-item::before, #sk-container-id-48 div.sk-parallel-item::before {content: \"\";position: absolute;border-left: 1px solid gray;box-sizing: border-box;top: 0;bottom: 0;left: 50%;z-index: -1;}#sk-container-id-48 div.sk-parallel-item {display: flex;flex-direction: column;z-index: 1;position: relative;background-color: white;}#sk-container-id-48 div.sk-parallel-item:first-child::after {align-self: flex-end;width: 50%;}#sk-container-id-48 div.sk-parallel-item:last-child::after {align-self: flex-start;width: 50%;}#sk-container-id-48 div.sk-parallel-item:only-child::after {width: 0;}#sk-container-id-48 div.sk-dashed-wrapped {border: 1px dashed gray;margin: 0 0.4em 0.5em 0.4em;box-sizing: border-box;padding-bottom: 0.4em;background-color: white;}#sk-container-id-48 div.sk-label label {font-family: monospace;font-weight: bold;display: inline-block;line-height: 1.2em;}#sk-container-id-48 div.sk-label-container {text-align: center;}#sk-container-id-48 div.sk-container {/* jupyter's `normalize.less` sets `[hidden] { display: none; }` but bootstrap.min.css set `[hidden] { display: none !important; }` so we also need the `!important` here to be able to override the default hidden behavior on the sphinx rendered scikit-learn.org. See: https://github.com/scikit-learn/scikit-learn/issues/21755 */display: inline-block !important;position: relative;}#sk-container-id-48 div.sk-text-repr-fallback {display: none;}</style><div id=\"sk-container-id-48\" class=\"sk-top-container\"><div class=\"sk-text-repr-fallback\"><pre>GridSearchCV(error_score=&#x27;raise&#x27;,\n",
       "             estimator=Pipeline(steps=[(&#x27;replace_NaN_to_mode&#x27;,\n",
       "                                        &lt;__main__.ReplaceNaNToMode object at 0x7f658c5c0d90&gt;),\n",
       "                                       (&#x27;replace_NaN_to_mean&#x27;,\n",
       "                                        &lt;__main__.ReplaceNaNToMean object at 0x7f658c5c0a30&gt;),\n",
       "                                       (&#x27;replace_NaN_to_zero&#x27;,\n",
       "                                        &lt;__main__.ReplaceNaNToZero object at 0x7f658c5c01c0&gt;),\n",
       "                                       (&#x27;add_new_features&#x27;,\n",
       "                                        &lt;__main__.AddNewFeatures object at 0x7f658c5c0430&gt;),...\n",
       "                                        &lt;__main__.OwnStandardScaler object at 0x7f658c5c04f0&gt;),\n",
       "                                       (&#x27;split_cabin&#x27;,\n",
       "                                        &lt;__main__.SplitCabin object at 0x7f65bc28f5b0&gt;),\n",
       "                                       (&#x27;one_hot_encoder&#x27;,\n",
       "                                        &lt;__main__.OwnOneHotEncoder object at 0x7f65ac661580&gt;),\n",
       "                                       (&#x27;cast_type&#x27;,\n",
       "                                        &lt;__main__.CastType object at 0x7f65bc4cb370&gt;),\n",
       "                                       (&#x27;svc&#x27;, SVC())]),\n",
       "             n_jobs=8,\n",
       "             param_grid={&#x27;svc__C&#x27;: [1, 5, 10, 15, 20],\n",
       "                         &#x27;svc__gamma&#x27;: [&#x27;scale&#x27;, &#x27;auto&#x27;],\n",
       "                         &#x27;svc__kernel&#x27;: [&#x27;rbf&#x27;, &#x27;sigmoid&#x27;]},\n",
       "             return_train_score=True, verbose=3)</pre><b>In a Jupyter environment, please rerun this cell to show the HTML representation or trust the notebook. <br />On GitHub, the HTML representation is unable to render, please try loading this page with nbviewer.org.</b></div><div class=\"sk-container\" hidden><div class=\"sk-item sk-dashed-wrapped\"><div class=\"sk-label-container\"><div class=\"sk-label sk-toggleable\"><input class=\"sk-toggleable__control sk-hidden--visually\" id=\"sk-estimator-id-391\" type=\"checkbox\" ><label for=\"sk-estimator-id-391\" class=\"sk-toggleable__label sk-toggleable__label-arrow\">GridSearchCV</label><div class=\"sk-toggleable__content\"><pre>GridSearchCV(error_score=&#x27;raise&#x27;,\n",
       "             estimator=Pipeline(steps=[(&#x27;replace_NaN_to_mode&#x27;,\n",
       "                                        &lt;__main__.ReplaceNaNToMode object at 0x7f658c5c0d90&gt;),\n",
       "                                       (&#x27;replace_NaN_to_mean&#x27;,\n",
       "                                        &lt;__main__.ReplaceNaNToMean object at 0x7f658c5c0a30&gt;),\n",
       "                                       (&#x27;replace_NaN_to_zero&#x27;,\n",
       "                                        &lt;__main__.ReplaceNaNToZero object at 0x7f658c5c01c0&gt;),\n",
       "                                       (&#x27;add_new_features&#x27;,\n",
       "                                        &lt;__main__.AddNewFeatures object at 0x7f658c5c0430&gt;),...\n",
       "                                        &lt;__main__.OwnStandardScaler object at 0x7f658c5c04f0&gt;),\n",
       "                                       (&#x27;split_cabin&#x27;,\n",
       "                                        &lt;__main__.SplitCabin object at 0x7f65bc28f5b0&gt;),\n",
       "                                       (&#x27;one_hot_encoder&#x27;,\n",
       "                                        &lt;__main__.OwnOneHotEncoder object at 0x7f65ac661580&gt;),\n",
       "                                       (&#x27;cast_type&#x27;,\n",
       "                                        &lt;__main__.CastType object at 0x7f65bc4cb370&gt;),\n",
       "                                       (&#x27;svc&#x27;, SVC())]),\n",
       "             n_jobs=8,\n",
       "             param_grid={&#x27;svc__C&#x27;: [1, 5, 10, 15, 20],\n",
       "                         &#x27;svc__gamma&#x27;: [&#x27;scale&#x27;, &#x27;auto&#x27;],\n",
       "                         &#x27;svc__kernel&#x27;: [&#x27;rbf&#x27;, &#x27;sigmoid&#x27;]},\n",
       "             return_train_score=True, verbose=3)</pre></div></div></div><div class=\"sk-parallel\"><div class=\"sk-parallel-item\"><div class=\"sk-item\"><div class=\"sk-label-container\"><div class=\"sk-label sk-toggleable\"><input class=\"sk-toggleable__control sk-hidden--visually\" id=\"sk-estimator-id-392\" type=\"checkbox\" ><label for=\"sk-estimator-id-392\" class=\"sk-toggleable__label sk-toggleable__label-arrow\">estimator: Pipeline</label><div class=\"sk-toggleable__content\"><pre>Pipeline(steps=[(&#x27;replace_NaN_to_mode&#x27;,\n",
       "                 &lt;__main__.ReplaceNaNToMode object at 0x7f658c5c0d90&gt;),\n",
       "                (&#x27;replace_NaN_to_mean&#x27;,\n",
       "                 &lt;__main__.ReplaceNaNToMean object at 0x7f658c5c0a30&gt;),\n",
       "                (&#x27;replace_NaN_to_zero&#x27;,\n",
       "                 &lt;__main__.ReplaceNaNToZero object at 0x7f658c5c01c0&gt;),\n",
       "                (&#x27;add_new_features&#x27;,\n",
       "                 &lt;__main__.AddNewFeatures object at 0x7f658c5c0430&gt;),\n",
       "                (&#x27;standard_scaler&#x27;,\n",
       "                 &lt;__main__.OwnStandardScaler object at 0x7f658c5c04f0&gt;),\n",
       "                (&#x27;split_cabin&#x27;, &lt;__main__.SplitCabin object at 0x7f65bc28f5b0&gt;),\n",
       "                (&#x27;one_hot_encoder&#x27;,\n",
       "                 &lt;__main__.OwnOneHotEncoder object at 0x7f65ac661580&gt;),\n",
       "                (&#x27;cast_type&#x27;, &lt;__main__.CastType object at 0x7f65bc4cb370&gt;),\n",
       "                (&#x27;svc&#x27;, SVC())])</pre></div></div></div><div class=\"sk-serial\"><div class=\"sk-item\"><div class=\"sk-serial\"><div class=\"sk-item\"><div class=\"sk-estimator sk-toggleable\"><input class=\"sk-toggleable__control sk-hidden--visually\" id=\"sk-estimator-id-393\" type=\"checkbox\" ><label for=\"sk-estimator-id-393\" class=\"sk-toggleable__label sk-toggleable__label-arrow\">ReplaceNaNToMode</label><div class=\"sk-toggleable__content\"><pre>&lt;__main__.ReplaceNaNToMode object at 0x7f658c5c0d90&gt;</pre></div></div></div><div class=\"sk-item\"><div class=\"sk-estimator sk-toggleable\"><input class=\"sk-toggleable__control sk-hidden--visually\" id=\"sk-estimator-id-394\" type=\"checkbox\" ><label for=\"sk-estimator-id-394\" class=\"sk-toggleable__label sk-toggleable__label-arrow\">ReplaceNaNToMean</label><div class=\"sk-toggleable__content\"><pre>&lt;__main__.ReplaceNaNToMean object at 0x7f658c5c0a30&gt;</pre></div></div></div><div class=\"sk-item\"><div class=\"sk-estimator sk-toggleable\"><input class=\"sk-toggleable__control sk-hidden--visually\" id=\"sk-estimator-id-395\" type=\"checkbox\" ><label for=\"sk-estimator-id-395\" class=\"sk-toggleable__label sk-toggleable__label-arrow\">ReplaceNaNToZero</label><div class=\"sk-toggleable__content\"><pre>&lt;__main__.ReplaceNaNToZero object at 0x7f658c5c01c0&gt;</pre></div></div></div><div class=\"sk-item\"><div class=\"sk-estimator sk-toggleable\"><input class=\"sk-toggleable__control sk-hidden--visually\" id=\"sk-estimator-id-396\" type=\"checkbox\" ><label for=\"sk-estimator-id-396\" class=\"sk-toggleable__label sk-toggleable__label-arrow\">AddNewFeatures</label><div class=\"sk-toggleable__content\"><pre>&lt;__main__.AddNewFeatures object at 0x7f658c5c0430&gt;</pre></div></div></div><div class=\"sk-item\"><div class=\"sk-estimator sk-toggleable\"><input class=\"sk-toggleable__control sk-hidden--visually\" id=\"sk-estimator-id-397\" type=\"checkbox\" ><label for=\"sk-estimator-id-397\" class=\"sk-toggleable__label sk-toggleable__label-arrow\">OwnStandardScaler</label><div class=\"sk-toggleable__content\"><pre>&lt;__main__.OwnStandardScaler object at 0x7f658c5c04f0&gt;</pre></div></div></div><div class=\"sk-item\"><div class=\"sk-estimator sk-toggleable\"><input class=\"sk-toggleable__control sk-hidden--visually\" id=\"sk-estimator-id-398\" type=\"checkbox\" ><label for=\"sk-estimator-id-398\" class=\"sk-toggleable__label sk-toggleable__label-arrow\">SplitCabin</label><div class=\"sk-toggleable__content\"><pre>&lt;__main__.SplitCabin object at 0x7f65bc28f5b0&gt;</pre></div></div></div><div class=\"sk-item\"><div class=\"sk-estimator sk-toggleable\"><input class=\"sk-toggleable__control sk-hidden--visually\" id=\"sk-estimator-id-399\" type=\"checkbox\" ><label for=\"sk-estimator-id-399\" class=\"sk-toggleable__label sk-toggleable__label-arrow\">OwnOneHotEncoder</label><div class=\"sk-toggleable__content\"><pre>&lt;__main__.OwnOneHotEncoder object at 0x7f65ac661580&gt;</pre></div></div></div><div class=\"sk-item\"><div class=\"sk-estimator sk-toggleable\"><input class=\"sk-toggleable__control sk-hidden--visually\" id=\"sk-estimator-id-400\" type=\"checkbox\" ><label for=\"sk-estimator-id-400\" class=\"sk-toggleable__label sk-toggleable__label-arrow\">CastType</label><div class=\"sk-toggleable__content\"><pre>&lt;__main__.CastType object at 0x7f65bc4cb370&gt;</pre></div></div></div><div class=\"sk-item\"><div class=\"sk-estimator sk-toggleable\"><input class=\"sk-toggleable__control sk-hidden--visually\" id=\"sk-estimator-id-401\" type=\"checkbox\" ><label for=\"sk-estimator-id-401\" class=\"sk-toggleable__label sk-toggleable__label-arrow\">SVC</label><div class=\"sk-toggleable__content\"><pre>SVC()</pre></div></div></div></div></div></div></div></div></div></div></div></div>"
      ],
      "text/plain": [
       "GridSearchCV(error_score='raise',\n",
       "             estimator=Pipeline(steps=[('replace_NaN_to_mode',\n",
       "                                        <__main__.ReplaceNaNToMode object at 0x7f658c5c0d90>),\n",
       "                                       ('replace_NaN_to_mean',\n",
       "                                        <__main__.ReplaceNaNToMean object at 0x7f658c5c0a30>),\n",
       "                                       ('replace_NaN_to_zero',\n",
       "                                        <__main__.ReplaceNaNToZero object at 0x7f658c5c01c0>),\n",
       "                                       ('add_new_features',\n",
       "                                        <__main__.AddNewFeatures object at 0x7f658c5c0430>),...\n",
       "                                        <__main__.OwnStandardScaler object at 0x7f658c5c04f0>),\n",
       "                                       ('split_cabin',\n",
       "                                        <__main__.SplitCabin object at 0x7f65bc28f5b0>),\n",
       "                                       ('one_hot_encoder',\n",
       "                                        <__main__.OwnOneHotEncoder object at 0x7f65ac661580>),\n",
       "                                       ('cast_type',\n",
       "                                        <__main__.CastType object at 0x7f65bc4cb370>),\n",
       "                                       ('svc', SVC())]),\n",
       "             n_jobs=8,\n",
       "             param_grid={'svc__C': [1, 5, 10, 15, 20],\n",
       "                         'svc__gamma': ['scale', 'auto'],\n",
       "                         'svc__kernel': ['rbf', 'sigmoid']},\n",
       "             return_train_score=True, verbose=3)"
      ]
     },
     "execution_count": 750,
     "metadata": {},
     "output_type": "execute_result"
    }
   ],
   "source": [
    "svm_pipeline = deepcopy(preprocessing_w_ohe)\n",
    "svm_pipeline.steps.append(('svc', SVC()))\n",
    "param_grid =  {\n",
    "    'svc__C': [1, 5, 10, 15, 20], \n",
    "    'svc__gamma': ['scale', 'auto'], \n",
    "    'svc__kernel': ['rbf', 'sigmoid']\n",
    "}\n",
    "gs = GridSearchCV(svm_pipeline, param_grid, n_jobs=8, return_train_score=True, error_score='raise', verbose=3)\n",
    "gs.fit(X_train, y_train)"
   ]
  },
  {
   "cell_type": "code",
   "execution_count": 751,
   "metadata": {},
   "outputs": [
    {
     "data": {
      "text/html": [
       "<style>#sk-container-id-49 {color: black;background-color: white;}#sk-container-id-49 pre{padding: 0;}#sk-container-id-49 div.sk-toggleable {background-color: white;}#sk-container-id-49 label.sk-toggleable__label {cursor: pointer;display: block;width: 100%;margin-bottom: 0;padding: 0.3em;box-sizing: border-box;text-align: center;}#sk-container-id-49 label.sk-toggleable__label-arrow:before {content: \"▸\";float: left;margin-right: 0.25em;color: #696969;}#sk-container-id-49 label.sk-toggleable__label-arrow:hover:before {color: black;}#sk-container-id-49 div.sk-estimator:hover label.sk-toggleable__label-arrow:before {color: black;}#sk-container-id-49 div.sk-toggleable__content {max-height: 0;max-width: 0;overflow: hidden;text-align: left;background-color: #f0f8ff;}#sk-container-id-49 div.sk-toggleable__content pre {margin: 0.2em;color: black;border-radius: 0.25em;background-color: #f0f8ff;}#sk-container-id-49 input.sk-toggleable__control:checked~div.sk-toggleable__content {max-height: 200px;max-width: 100%;overflow: auto;}#sk-container-id-49 input.sk-toggleable__control:checked~label.sk-toggleable__label-arrow:before {content: \"▾\";}#sk-container-id-49 div.sk-estimator input.sk-toggleable__control:checked~label.sk-toggleable__label {background-color: #d4ebff;}#sk-container-id-49 div.sk-label input.sk-toggleable__control:checked~label.sk-toggleable__label {background-color: #d4ebff;}#sk-container-id-49 input.sk-hidden--visually {border: 0;clip: rect(1px 1px 1px 1px);clip: rect(1px, 1px, 1px, 1px);height: 1px;margin: -1px;overflow: hidden;padding: 0;position: absolute;width: 1px;}#sk-container-id-49 div.sk-estimator {font-family: monospace;background-color: #f0f8ff;border: 1px dotted black;border-radius: 0.25em;box-sizing: border-box;margin-bottom: 0.5em;}#sk-container-id-49 div.sk-estimator:hover {background-color: #d4ebff;}#sk-container-id-49 div.sk-parallel-item::after {content: \"\";width: 100%;border-bottom: 1px solid gray;flex-grow: 1;}#sk-container-id-49 div.sk-label:hover label.sk-toggleable__label {background-color: #d4ebff;}#sk-container-id-49 div.sk-serial::before {content: \"\";position: absolute;border-left: 1px solid gray;box-sizing: border-box;top: 0;bottom: 0;left: 50%;z-index: 0;}#sk-container-id-49 div.sk-serial {display: flex;flex-direction: column;align-items: center;background-color: white;padding-right: 0.2em;padding-left: 0.2em;position: relative;}#sk-container-id-49 div.sk-item {position: relative;z-index: 1;}#sk-container-id-49 div.sk-parallel {display: flex;align-items: stretch;justify-content: center;background-color: white;position: relative;}#sk-container-id-49 div.sk-item::before, #sk-container-id-49 div.sk-parallel-item::before {content: \"\";position: absolute;border-left: 1px solid gray;box-sizing: border-box;top: 0;bottom: 0;left: 50%;z-index: -1;}#sk-container-id-49 div.sk-parallel-item {display: flex;flex-direction: column;z-index: 1;position: relative;background-color: white;}#sk-container-id-49 div.sk-parallel-item:first-child::after {align-self: flex-end;width: 50%;}#sk-container-id-49 div.sk-parallel-item:last-child::after {align-self: flex-start;width: 50%;}#sk-container-id-49 div.sk-parallel-item:only-child::after {width: 0;}#sk-container-id-49 div.sk-dashed-wrapped {border: 1px dashed gray;margin: 0 0.4em 0.5em 0.4em;box-sizing: border-box;padding-bottom: 0.4em;background-color: white;}#sk-container-id-49 div.sk-label label {font-family: monospace;font-weight: bold;display: inline-block;line-height: 1.2em;}#sk-container-id-49 div.sk-label-container {text-align: center;}#sk-container-id-49 div.sk-container {/* jupyter's `normalize.less` sets `[hidden] { display: none; }` but bootstrap.min.css set `[hidden] { display: none !important; }` so we also need the `!important` here to be able to override the default hidden behavior on the sphinx rendered scikit-learn.org. See: https://github.com/scikit-learn/scikit-learn/issues/21755 */display: inline-block !important;position: relative;}#sk-container-id-49 div.sk-text-repr-fallback {display: none;}</style><div id=\"sk-container-id-49\" class=\"sk-top-container\"><div class=\"sk-text-repr-fallback\"><pre>Pipeline(steps=[(&#x27;replace_NaN_to_mode&#x27;,\n",
       "                 &lt;__main__.ReplaceNaNToMode object at 0x7f658c5e4fa0&gt;),\n",
       "                (&#x27;replace_NaN_to_mean&#x27;,\n",
       "                 &lt;__main__.ReplaceNaNToMean object at 0x7f658c5e4340&gt;),\n",
       "                (&#x27;replace_NaN_to_zero&#x27;,\n",
       "                 &lt;__main__.ReplaceNaNToZero object at 0x7f658c5e4280&gt;),\n",
       "                (&#x27;add_new_features&#x27;,\n",
       "                 &lt;__main__.AddNewFeatures object at 0x7f658c5e4070&gt;),\n",
       "                (&#x27;standard_scaler&#x27;,\n",
       "                 &lt;__main__.OwnStandardScaler object at 0x7f658c5e4760&gt;),\n",
       "                (&#x27;split_cabin&#x27;, &lt;__main__.SplitCabin object at 0x7f658c5e4a60&gt;),\n",
       "                (&#x27;one_hot_encoder&#x27;,\n",
       "                 &lt;__main__.OwnOneHotEncoder object at 0x7f658c5e46a0&gt;),\n",
       "                (&#x27;cast_type&#x27;, &lt;__main__.CastType object at 0x7f658c5e4430&gt;),\n",
       "                (&#x27;svc&#x27;, SVC(C=5))])</pre><b>In a Jupyter environment, please rerun this cell to show the HTML representation or trust the notebook. <br />On GitHub, the HTML representation is unable to render, please try loading this page with nbviewer.org.</b></div><div class=\"sk-container\" hidden><div class=\"sk-item sk-dashed-wrapped\"><div class=\"sk-label-container\"><div class=\"sk-label sk-toggleable\"><input class=\"sk-toggleable__control sk-hidden--visually\" id=\"sk-estimator-id-402\" type=\"checkbox\" ><label for=\"sk-estimator-id-402\" class=\"sk-toggleable__label sk-toggleable__label-arrow\">Pipeline</label><div class=\"sk-toggleable__content\"><pre>Pipeline(steps=[(&#x27;replace_NaN_to_mode&#x27;,\n",
       "                 &lt;__main__.ReplaceNaNToMode object at 0x7f658c5e4fa0&gt;),\n",
       "                (&#x27;replace_NaN_to_mean&#x27;,\n",
       "                 &lt;__main__.ReplaceNaNToMean object at 0x7f658c5e4340&gt;),\n",
       "                (&#x27;replace_NaN_to_zero&#x27;,\n",
       "                 &lt;__main__.ReplaceNaNToZero object at 0x7f658c5e4280&gt;),\n",
       "                (&#x27;add_new_features&#x27;,\n",
       "                 &lt;__main__.AddNewFeatures object at 0x7f658c5e4070&gt;),\n",
       "                (&#x27;standard_scaler&#x27;,\n",
       "                 &lt;__main__.OwnStandardScaler object at 0x7f658c5e4760&gt;),\n",
       "                (&#x27;split_cabin&#x27;, &lt;__main__.SplitCabin object at 0x7f658c5e4a60&gt;),\n",
       "                (&#x27;one_hot_encoder&#x27;,\n",
       "                 &lt;__main__.OwnOneHotEncoder object at 0x7f658c5e46a0&gt;),\n",
       "                (&#x27;cast_type&#x27;, &lt;__main__.CastType object at 0x7f658c5e4430&gt;),\n",
       "                (&#x27;svc&#x27;, SVC(C=5))])</pre></div></div></div><div class=\"sk-serial\"><div class=\"sk-item\"><div class=\"sk-estimator sk-toggleable\"><input class=\"sk-toggleable__control sk-hidden--visually\" id=\"sk-estimator-id-403\" type=\"checkbox\" ><label for=\"sk-estimator-id-403\" class=\"sk-toggleable__label sk-toggleable__label-arrow\">ReplaceNaNToMode</label><div class=\"sk-toggleable__content\"><pre>&lt;__main__.ReplaceNaNToMode object at 0x7f658c5e4fa0&gt;</pre></div></div></div><div class=\"sk-item\"><div class=\"sk-estimator sk-toggleable\"><input class=\"sk-toggleable__control sk-hidden--visually\" id=\"sk-estimator-id-404\" type=\"checkbox\" ><label for=\"sk-estimator-id-404\" class=\"sk-toggleable__label sk-toggleable__label-arrow\">ReplaceNaNToMean</label><div class=\"sk-toggleable__content\"><pre>&lt;__main__.ReplaceNaNToMean object at 0x7f658c5e4340&gt;</pre></div></div></div><div class=\"sk-item\"><div class=\"sk-estimator sk-toggleable\"><input class=\"sk-toggleable__control sk-hidden--visually\" id=\"sk-estimator-id-405\" type=\"checkbox\" ><label for=\"sk-estimator-id-405\" class=\"sk-toggleable__label sk-toggleable__label-arrow\">ReplaceNaNToZero</label><div class=\"sk-toggleable__content\"><pre>&lt;__main__.ReplaceNaNToZero object at 0x7f658c5e4280&gt;</pre></div></div></div><div class=\"sk-item\"><div class=\"sk-estimator sk-toggleable\"><input class=\"sk-toggleable__control sk-hidden--visually\" id=\"sk-estimator-id-406\" type=\"checkbox\" ><label for=\"sk-estimator-id-406\" class=\"sk-toggleable__label sk-toggleable__label-arrow\">AddNewFeatures</label><div class=\"sk-toggleable__content\"><pre>&lt;__main__.AddNewFeatures object at 0x7f658c5e4070&gt;</pre></div></div></div><div class=\"sk-item\"><div class=\"sk-estimator sk-toggleable\"><input class=\"sk-toggleable__control sk-hidden--visually\" id=\"sk-estimator-id-407\" type=\"checkbox\" ><label for=\"sk-estimator-id-407\" class=\"sk-toggleable__label sk-toggleable__label-arrow\">OwnStandardScaler</label><div class=\"sk-toggleable__content\"><pre>&lt;__main__.OwnStandardScaler object at 0x7f658c5e4760&gt;</pre></div></div></div><div class=\"sk-item\"><div class=\"sk-estimator sk-toggleable\"><input class=\"sk-toggleable__control sk-hidden--visually\" id=\"sk-estimator-id-408\" type=\"checkbox\" ><label for=\"sk-estimator-id-408\" class=\"sk-toggleable__label sk-toggleable__label-arrow\">SplitCabin</label><div class=\"sk-toggleable__content\"><pre>&lt;__main__.SplitCabin object at 0x7f658c5e4a60&gt;</pre></div></div></div><div class=\"sk-item\"><div class=\"sk-estimator sk-toggleable\"><input class=\"sk-toggleable__control sk-hidden--visually\" id=\"sk-estimator-id-409\" type=\"checkbox\" ><label for=\"sk-estimator-id-409\" class=\"sk-toggleable__label sk-toggleable__label-arrow\">OwnOneHotEncoder</label><div class=\"sk-toggleable__content\"><pre>&lt;__main__.OwnOneHotEncoder object at 0x7f658c5e46a0&gt;</pre></div></div></div><div class=\"sk-item\"><div class=\"sk-estimator sk-toggleable\"><input class=\"sk-toggleable__control sk-hidden--visually\" id=\"sk-estimator-id-410\" type=\"checkbox\" ><label for=\"sk-estimator-id-410\" class=\"sk-toggleable__label sk-toggleable__label-arrow\">CastType</label><div class=\"sk-toggleable__content\"><pre>&lt;__main__.CastType object at 0x7f658c5e4430&gt;</pre></div></div></div><div class=\"sk-item\"><div class=\"sk-estimator sk-toggleable\"><input class=\"sk-toggleable__control sk-hidden--visually\" id=\"sk-estimator-id-411\" type=\"checkbox\" ><label for=\"sk-estimator-id-411\" class=\"sk-toggleable__label sk-toggleable__label-arrow\">SVC</label><div class=\"sk-toggleable__content\"><pre>SVC(C=5)</pre></div></div></div></div></div></div></div>"
      ],
      "text/plain": [
       "Pipeline(steps=[('replace_NaN_to_mode',\n",
       "                 <__main__.ReplaceNaNToMode object at 0x7f658c5e4fa0>),\n",
       "                ('replace_NaN_to_mean',\n",
       "                 <__main__.ReplaceNaNToMean object at 0x7f658c5e4340>),\n",
       "                ('replace_NaN_to_zero',\n",
       "                 <__main__.ReplaceNaNToZero object at 0x7f658c5e4280>),\n",
       "                ('add_new_features',\n",
       "                 <__main__.AddNewFeatures object at 0x7f658c5e4070>),\n",
       "                ('standard_scaler',\n",
       "                 <__main__.OwnStandardScaler object at 0x7f658c5e4760>),\n",
       "                ('split_cabin', <__main__.SplitCabin object at 0x7f658c5e4a60>),\n",
       "                ('one_hot_encoder',\n",
       "                 <__main__.OwnOneHotEncoder object at 0x7f658c5e46a0>),\n",
       "                ('cast_type', <__main__.CastType object at 0x7f658c5e4430>),\n",
       "                ('svc', SVC(C=5))])"
      ]
     },
     "execution_count": 751,
     "metadata": {},
     "output_type": "execute_result"
    }
   ],
   "source": [
    "gs.best_estimator_"
   ]
  },
  {
   "cell_type": "code",
   "execution_count": 766,
   "metadata": {},
   "outputs": [
    {
     "data": {
      "text/plain": [
       "0.8102357676825762"
      ]
     },
     "execution_count": 766,
     "metadata": {},
     "output_type": "execute_result"
    }
   ],
   "source": [
    "gs.score(X_test, y_test)"
   ]
  },
  {
   "cell_type": "markdown",
   "metadata": {},
   "source": [
    "### XGBoost"
   ]
  },
  {
   "cell_type": "code",
   "execution_count": 720,
   "metadata": {},
   "outputs": [],
   "source": [
    "xgb_pipeline = deepcopy(preprocessing_w_ohe)\n",
    "xgb_pipeline.steps.append(('xgb', xgb.XGBClassifier()))"
   ]
  },
  {
   "cell_type": "code",
   "execution_count": 721,
   "metadata": {},
   "outputs": [
    {
     "data": {
      "text/html": [
       "<style>#sk-container-id-45 {color: black;background-color: white;}#sk-container-id-45 pre{padding: 0;}#sk-container-id-45 div.sk-toggleable {background-color: white;}#sk-container-id-45 label.sk-toggleable__label {cursor: pointer;display: block;width: 100%;margin-bottom: 0;padding: 0.3em;box-sizing: border-box;text-align: center;}#sk-container-id-45 label.sk-toggleable__label-arrow:before {content: \"▸\";float: left;margin-right: 0.25em;color: #696969;}#sk-container-id-45 label.sk-toggleable__label-arrow:hover:before {color: black;}#sk-container-id-45 div.sk-estimator:hover label.sk-toggleable__label-arrow:before {color: black;}#sk-container-id-45 div.sk-toggleable__content {max-height: 0;max-width: 0;overflow: hidden;text-align: left;background-color: #f0f8ff;}#sk-container-id-45 div.sk-toggleable__content pre {margin: 0.2em;color: black;border-radius: 0.25em;background-color: #f0f8ff;}#sk-container-id-45 input.sk-toggleable__control:checked~div.sk-toggleable__content {max-height: 200px;max-width: 100%;overflow: auto;}#sk-container-id-45 input.sk-toggleable__control:checked~label.sk-toggleable__label-arrow:before {content: \"▾\";}#sk-container-id-45 div.sk-estimator input.sk-toggleable__control:checked~label.sk-toggleable__label {background-color: #d4ebff;}#sk-container-id-45 div.sk-label input.sk-toggleable__control:checked~label.sk-toggleable__label {background-color: #d4ebff;}#sk-container-id-45 input.sk-hidden--visually {border: 0;clip: rect(1px 1px 1px 1px);clip: rect(1px, 1px, 1px, 1px);height: 1px;margin: -1px;overflow: hidden;padding: 0;position: absolute;width: 1px;}#sk-container-id-45 div.sk-estimator {font-family: monospace;background-color: #f0f8ff;border: 1px dotted black;border-radius: 0.25em;box-sizing: border-box;margin-bottom: 0.5em;}#sk-container-id-45 div.sk-estimator:hover {background-color: #d4ebff;}#sk-container-id-45 div.sk-parallel-item::after {content: \"\";width: 100%;border-bottom: 1px solid gray;flex-grow: 1;}#sk-container-id-45 div.sk-label:hover label.sk-toggleable__label {background-color: #d4ebff;}#sk-container-id-45 div.sk-serial::before {content: \"\";position: absolute;border-left: 1px solid gray;box-sizing: border-box;top: 0;bottom: 0;left: 50%;z-index: 0;}#sk-container-id-45 div.sk-serial {display: flex;flex-direction: column;align-items: center;background-color: white;padding-right: 0.2em;padding-left: 0.2em;position: relative;}#sk-container-id-45 div.sk-item {position: relative;z-index: 1;}#sk-container-id-45 div.sk-parallel {display: flex;align-items: stretch;justify-content: center;background-color: white;position: relative;}#sk-container-id-45 div.sk-item::before, #sk-container-id-45 div.sk-parallel-item::before {content: \"\";position: absolute;border-left: 1px solid gray;box-sizing: border-box;top: 0;bottom: 0;left: 50%;z-index: -1;}#sk-container-id-45 div.sk-parallel-item {display: flex;flex-direction: column;z-index: 1;position: relative;background-color: white;}#sk-container-id-45 div.sk-parallel-item:first-child::after {align-self: flex-end;width: 50%;}#sk-container-id-45 div.sk-parallel-item:last-child::after {align-self: flex-start;width: 50%;}#sk-container-id-45 div.sk-parallel-item:only-child::after {width: 0;}#sk-container-id-45 div.sk-dashed-wrapped {border: 1px dashed gray;margin: 0 0.4em 0.5em 0.4em;box-sizing: border-box;padding-bottom: 0.4em;background-color: white;}#sk-container-id-45 div.sk-label label {font-family: monospace;font-weight: bold;display: inline-block;line-height: 1.2em;}#sk-container-id-45 div.sk-label-container {text-align: center;}#sk-container-id-45 div.sk-container {/* jupyter's `normalize.less` sets `[hidden] { display: none; }` but bootstrap.min.css set `[hidden] { display: none !important; }` so we also need the `!important` here to be able to override the default hidden behavior on the sphinx rendered scikit-learn.org. See: https://github.com/scikit-learn/scikit-learn/issues/21755 */display: inline-block !important;position: relative;}#sk-container-id-45 div.sk-text-repr-fallback {display: none;}</style><div id=\"sk-container-id-45\" class=\"sk-top-container\"><div class=\"sk-text-repr-fallback\"><pre>Pipeline(steps=[(&#x27;replace_NaN_to_mode&#x27;,\n",
       "                 &lt;__main__.ReplaceNaNToMode object at 0x7f65bc3c9ee0&gt;),\n",
       "                (&#x27;replace_NaN_to_mean&#x27;,\n",
       "                 &lt;__main__.ReplaceNaNToMean object at 0x7f65bc3c9580&gt;),\n",
       "                (&#x27;replace_NaN_to_zero&#x27;,\n",
       "                 &lt;__main__.ReplaceNaNToZero object at 0x7f65bc3c9ac0&gt;),\n",
       "                (&#x27;add_new_features&#x27;,\n",
       "                 &lt;__main__.AddNewFeatures object at 0x7f65bc3cc130&gt;),\n",
       "                (&#x27;standard_scaler&#x27;,\n",
       "                 &lt;__main__.OwnStandardSca...\n",
       "                               gamma=0, gpu_id=-1, grow_policy=&#x27;depthwise&#x27;,\n",
       "                               importance_type=None, interaction_constraints=&#x27;&#x27;,\n",
       "                               learning_rate=0.300000012, max_bin=256,\n",
       "                               max_cat_to_onehot=4, max_delta_step=0,\n",
       "                               max_depth=6, max_leaves=0, min_child_weight=1,\n",
       "                               missing=nan, monotone_constraints=&#x27;()&#x27;,\n",
       "                               n_estimators=100, n_jobs=0, num_parallel_tree=1,\n",
       "                               predictor=&#x27;auto&#x27;, random_state=0, reg_alpha=0,\n",
       "                               reg_lambda=1, ...))])</pre><b>In a Jupyter environment, please rerun this cell to show the HTML representation or trust the notebook. <br />On GitHub, the HTML representation is unable to render, please try loading this page with nbviewer.org.</b></div><div class=\"sk-container\" hidden><div class=\"sk-item sk-dashed-wrapped\"><div class=\"sk-label-container\"><div class=\"sk-label sk-toggleable\"><input class=\"sk-toggleable__control sk-hidden--visually\" id=\"sk-estimator-id-360\" type=\"checkbox\" ><label for=\"sk-estimator-id-360\" class=\"sk-toggleable__label sk-toggleable__label-arrow\">Pipeline</label><div class=\"sk-toggleable__content\"><pre>Pipeline(steps=[(&#x27;replace_NaN_to_mode&#x27;,\n",
       "                 &lt;__main__.ReplaceNaNToMode object at 0x7f65bc3c9ee0&gt;),\n",
       "                (&#x27;replace_NaN_to_mean&#x27;,\n",
       "                 &lt;__main__.ReplaceNaNToMean object at 0x7f65bc3c9580&gt;),\n",
       "                (&#x27;replace_NaN_to_zero&#x27;,\n",
       "                 &lt;__main__.ReplaceNaNToZero object at 0x7f65bc3c9ac0&gt;),\n",
       "                (&#x27;add_new_features&#x27;,\n",
       "                 &lt;__main__.AddNewFeatures object at 0x7f65bc3cc130&gt;),\n",
       "                (&#x27;standard_scaler&#x27;,\n",
       "                 &lt;__main__.OwnStandardSca...\n",
       "                               gamma=0, gpu_id=-1, grow_policy=&#x27;depthwise&#x27;,\n",
       "                               importance_type=None, interaction_constraints=&#x27;&#x27;,\n",
       "                               learning_rate=0.300000012, max_bin=256,\n",
       "                               max_cat_to_onehot=4, max_delta_step=0,\n",
       "                               max_depth=6, max_leaves=0, min_child_weight=1,\n",
       "                               missing=nan, monotone_constraints=&#x27;()&#x27;,\n",
       "                               n_estimators=100, n_jobs=0, num_parallel_tree=1,\n",
       "                               predictor=&#x27;auto&#x27;, random_state=0, reg_alpha=0,\n",
       "                               reg_lambda=1, ...))])</pre></div></div></div><div class=\"sk-serial\"><div class=\"sk-item\"><div class=\"sk-estimator sk-toggleable\"><input class=\"sk-toggleable__control sk-hidden--visually\" id=\"sk-estimator-id-361\" type=\"checkbox\" ><label for=\"sk-estimator-id-361\" class=\"sk-toggleable__label sk-toggleable__label-arrow\">ReplaceNaNToMode</label><div class=\"sk-toggleable__content\"><pre>&lt;__main__.ReplaceNaNToMode object at 0x7f65bc3c9ee0&gt;</pre></div></div></div><div class=\"sk-item\"><div class=\"sk-estimator sk-toggleable\"><input class=\"sk-toggleable__control sk-hidden--visually\" id=\"sk-estimator-id-362\" type=\"checkbox\" ><label for=\"sk-estimator-id-362\" class=\"sk-toggleable__label sk-toggleable__label-arrow\">ReplaceNaNToMean</label><div class=\"sk-toggleable__content\"><pre>&lt;__main__.ReplaceNaNToMean object at 0x7f65bc3c9580&gt;</pre></div></div></div><div class=\"sk-item\"><div class=\"sk-estimator sk-toggleable\"><input class=\"sk-toggleable__control sk-hidden--visually\" id=\"sk-estimator-id-363\" type=\"checkbox\" ><label for=\"sk-estimator-id-363\" class=\"sk-toggleable__label sk-toggleable__label-arrow\">ReplaceNaNToZero</label><div class=\"sk-toggleable__content\"><pre>&lt;__main__.ReplaceNaNToZero object at 0x7f65bc3c9ac0&gt;</pre></div></div></div><div class=\"sk-item\"><div class=\"sk-estimator sk-toggleable\"><input class=\"sk-toggleable__control sk-hidden--visually\" id=\"sk-estimator-id-364\" type=\"checkbox\" ><label for=\"sk-estimator-id-364\" class=\"sk-toggleable__label sk-toggleable__label-arrow\">AddNewFeatures</label><div class=\"sk-toggleable__content\"><pre>&lt;__main__.AddNewFeatures object at 0x7f65bc3cc130&gt;</pre></div></div></div><div class=\"sk-item\"><div class=\"sk-estimator sk-toggleable\"><input class=\"sk-toggleable__control sk-hidden--visually\" id=\"sk-estimator-id-365\" type=\"checkbox\" ><label for=\"sk-estimator-id-365\" class=\"sk-toggleable__label sk-toggleable__label-arrow\">OwnStandardScaler</label><div class=\"sk-toggleable__content\"><pre>&lt;__main__.OwnStandardScaler object at 0x7f65ac7d5370&gt;</pre></div></div></div><div class=\"sk-item\"><div class=\"sk-estimator sk-toggleable\"><input class=\"sk-toggleable__control sk-hidden--visually\" id=\"sk-estimator-id-366\" type=\"checkbox\" ><label for=\"sk-estimator-id-366\" class=\"sk-toggleable__label sk-toggleable__label-arrow\">SplitCabin</label><div class=\"sk-toggleable__content\"><pre>&lt;__main__.SplitCabin object at 0x7f65ac5500a0&gt;</pre></div></div></div><div class=\"sk-item\"><div class=\"sk-estimator sk-toggleable\"><input class=\"sk-toggleable__control sk-hidden--visually\" id=\"sk-estimator-id-367\" type=\"checkbox\" ><label for=\"sk-estimator-id-367\" class=\"sk-toggleable__label sk-toggleable__label-arrow\">OwnOneHotEncoder</label><div class=\"sk-toggleable__content\"><pre>&lt;__main__.OwnOneHotEncoder object at 0x7f65ac550130&gt;</pre></div></div></div><div class=\"sk-item\"><div class=\"sk-estimator sk-toggleable\"><input class=\"sk-toggleable__control sk-hidden--visually\" id=\"sk-estimator-id-368\" type=\"checkbox\" ><label for=\"sk-estimator-id-368\" class=\"sk-toggleable__label sk-toggleable__label-arrow\">CastType</label><div class=\"sk-toggleable__content\"><pre>&lt;__main__.CastType object at 0x7f65c4267d00&gt;</pre></div></div></div><div class=\"sk-item\"><div class=\"sk-estimator sk-toggleable\"><input class=\"sk-toggleable__control sk-hidden--visually\" id=\"sk-estimator-id-369\" type=\"checkbox\" ><label for=\"sk-estimator-id-369\" class=\"sk-toggleable__label sk-toggleable__label-arrow\">XGBClassifier</label><div class=\"sk-toggleable__content\"><pre>XGBClassifier(base_score=0.5, booster=&#x27;gbtree&#x27;, callbacks=None,\n",
       "              colsample_bylevel=1, colsample_bynode=1, colsample_bytree=1,\n",
       "              early_stopping_rounds=None, enable_categorical=False,\n",
       "              eval_metric=None, gamma=0, gpu_id=-1, grow_policy=&#x27;depthwise&#x27;,\n",
       "              importance_type=None, interaction_constraints=&#x27;&#x27;,\n",
       "              learning_rate=0.300000012, max_bin=256, max_cat_to_onehot=4,\n",
       "              max_delta_step=0, max_depth=6, max_leaves=0, min_child_weight=1,\n",
       "              missing=nan, monotone_constraints=&#x27;()&#x27;, n_estimators=100,\n",
       "              n_jobs=0, num_parallel_tree=1, predictor=&#x27;auto&#x27;, random_state=0,\n",
       "              reg_alpha=0, reg_lambda=1, ...)</pre></div></div></div></div></div></div></div>"
      ],
      "text/plain": [
       "Pipeline(steps=[('replace_NaN_to_mode',\n",
       "                 <__main__.ReplaceNaNToMode object at 0x7f65bc3c9ee0>),\n",
       "                ('replace_NaN_to_mean',\n",
       "                 <__main__.ReplaceNaNToMean object at 0x7f65bc3c9580>),\n",
       "                ('replace_NaN_to_zero',\n",
       "                 <__main__.ReplaceNaNToZero object at 0x7f65bc3c9ac0>),\n",
       "                ('add_new_features',\n",
       "                 <__main__.AddNewFeatures object at 0x7f65bc3cc130>),\n",
       "                ('standard_scaler',\n",
       "                 <__main__.OwnStandardSca...\n",
       "                               gamma=0, gpu_id=-1, grow_policy='depthwise',\n",
       "                               importance_type=None, interaction_constraints='',\n",
       "                               learning_rate=0.300000012, max_bin=256,\n",
       "                               max_cat_to_onehot=4, max_delta_step=0,\n",
       "                               max_depth=6, max_leaves=0, min_child_weight=1,\n",
       "                               missing=nan, monotone_constraints='()',\n",
       "                               n_estimators=100, n_jobs=0, num_parallel_tree=1,\n",
       "                               predictor='auto', random_state=0, reg_alpha=0,\n",
       "                               reg_lambda=1, ...))])"
      ]
     },
     "execution_count": 721,
     "metadata": {},
     "output_type": "execute_result"
    }
   ],
   "source": [
    "xgb_pipeline.fit(X_train, y_train)"
   ]
  },
  {
   "cell_type": "code",
   "execution_count": 722,
   "metadata": {},
   "outputs": [
    {
     "data": {
      "text/plain": [
       "0.8090856814261069"
      ]
     },
     "execution_count": 722,
     "metadata": {},
     "output_type": "execute_result"
    }
   ],
   "source": [
    "xgb_pipeline.score(X_test, y_test)"
   ]
  },
  {
   "cell_type": "markdown",
   "metadata": {},
   "source": [
    "### NN"
   ]
  },
  {
   "cell_type": "code",
   "execution_count": 777,
   "metadata": {},
   "outputs": [],
   "source": [
    "# Implement function for transformation dataset"
   ]
  },
  {
   "cell_type": "code",
   "execution_count": 734,
   "metadata": {},
   "outputs": [],
   "source": [
    "def preprocessing(X_train, X_test=None):\n",
    "    t = ReplaceNaNToMode(cols_NaN_to_mode)\n",
    "    t.fit(X_train)\n",
    "    X_tmp = t.transform(X_test if X_test is not None else X_train)\n",
    "\n",
    "    t = ReplaceNaNToMean(cols_NaN_to_mean)\n",
    "    t.fit(X_train)\n",
    "    X_tmp = t.transform(X_tmp)\n",
    "\n",
    "    t = ReplaceNaNToZero(cols_NaN_to_zero)\n",
    "    t.fit(X_train)\n",
    "    X_tmp = t.transform(X_tmp)\n",
    "\n",
    "    t = AddNewFeatures()\n",
    "    t.fit(X_tmp)\n",
    "    X_tmp = t.transform(X_tmp)\n",
    "\n",
    "    t = OwnStandardScaler(['Age', 'RoomService', 'FoodCourt',\n",
    "                           'ShoppingMall', 'Spa', 'VRDeck'])\n",
    "    t.fit(X_train)\n",
    "    X_tmp = t.transform(X_tmp)\n",
    "\n",
    "    sc = SplitCabin(\"Cabin\")\n",
    "    sc.fit(X_tmp)\n",
    "    X_tmp = sc.transform(X_tmp)\n",
    "\n",
    "    ohe = OwnOneHotEncoder(['HomePlanet', 'Destination', 'Cabin_Deck', 'Cabin_Side'])\n",
    "    ohe.fit(X_tmp)\n",
    "    X_tmp = ohe.transform(X_tmp)\n",
    "\n",
    "    ct = CastType({\"CryoSleep\": \"int\", \"IsAmenities\": \"int\"})\n",
    "    ct.fit(X_tmp)\n",
    "    X_tmp = ct.transform(X_tmp)\n",
    "    \n",
    "    return X_tmp"
   ]
  },
  {
   "cell_type": "code",
   "execution_count": 735,
   "metadata": {},
   "outputs": [
    {
     "name": "stdout",
     "output_type": "stream",
     "text": [
      "<class 'pandas.core.frame.DataFrame'>\n",
      "RangeIndex: 6954 entries, 0 to 6953\n",
      "Data columns (total 24 columns):\n",
      " #   Column                     Non-Null Count  Dtype  \n",
      "---  ------                     --------------  -----  \n",
      " 0   CryoSleep                  6954 non-null   int64  \n",
      " 1   Age                        6954 non-null   float64\n",
      " 2   RoomService                6954 non-null   float64\n",
      " 3   FoodCourt                  6954 non-null   float64\n",
      " 4   ShoppingMall               6954 non-null   float64\n",
      " 5   Spa                        6954 non-null   float64\n",
      " 6   VRDeck                     6954 non-null   float64\n",
      " 7   IsAmenities                6954 non-null   int64  \n",
      " 8   HomePlanet_Earth           6954 non-null   float64\n",
      " 9   HomePlanet_Europa          6954 non-null   float64\n",
      " 10  HomePlanet_Mars            6954 non-null   float64\n",
      " 11  Destination_55_Cancri_e    6954 non-null   float64\n",
      " 12  Destination_PSO_J318.5-22  6954 non-null   float64\n",
      " 13  Destination_TRAPPIST-1e    6954 non-null   float64\n",
      " 14  Cabin_Deck_A               6954 non-null   float64\n",
      " 15  Cabin_Deck_B               6954 non-null   float64\n",
      " 16  Cabin_Deck_C               6954 non-null   float64\n",
      " 17  Cabin_Deck_D               6954 non-null   float64\n",
      " 18  Cabin_Deck_E               6954 non-null   float64\n",
      " 19  Cabin_Deck_F               6954 non-null   float64\n",
      " 20  Cabin_Deck_G               6954 non-null   float64\n",
      " 21  Cabin_Deck_T               6954 non-null   float64\n",
      " 22  Cabin_Side_P               6954 non-null   float64\n",
      " 23  Cabin_Side_S               6954 non-null   float64\n",
      "dtypes: float64(22), int64(2)\n",
      "memory usage: 1.3 MB\n"
     ]
    }
   ],
   "source": [
    "X_train_preproc = preprocessing(X_train)\n",
    "X_test_preproc = preprocessing(X_train, X_test)\n",
    "X_train_preproc.info()"
   ]
  },
  {
   "cell_type": "code",
   "execution_count": 778,
   "metadata": {},
   "outputs": [],
   "source": [
    "# Define NN"
   ]
  },
  {
   "cell_type": "code",
   "execution_count": 723,
   "metadata": {},
   "outputs": [],
   "source": [
    "def SpaceShipTitanicNN(input_shape, name):\n",
    "    inputs = Input(input_shape)\n",
    "    X = Dense(units=128, activation='relu')(inputs)\n",
    "    X = Dense(units=1)(X)\n",
    "    X = Activation('sigmoid')(X)\n",
    "    model = Model(inputs=inputs, outputs=X, name=name)\n",
    "    return model"
   ]
  },
  {
   "cell_type": "code",
   "execution_count": 724,
   "metadata": {},
   "outputs": [],
   "source": [
    "feature_counts = X_train_preproc.shape[1]"
   ]
  },
  {
   "cell_type": "code",
   "execution_count": 732,
   "metadata": {},
   "outputs": [
    {
     "name": "stdout",
     "output_type": "stream",
     "text": [
      "Model: \"SpaceShipTitanicNN\"\n",
      "_________________________________________________________________\n",
      "Layer (type)                 Output Shape              Param #   \n",
      "=================================================================\n",
      "input_22 (InputLayer)        [(None, 24)]              0         \n",
      "_________________________________________________________________\n",
      "dense_55 (Dense)             (None, 128)               3200      \n",
      "_________________________________________________________________\n",
      "dense_56 (Dense)             (None, 1)                 129       \n",
      "_________________________________________________________________\n",
      "activation_21 (Activation)   (None, 1)                 0         \n",
      "=================================================================\n",
      "Total params: 3,329\n",
      "Trainable params: 3,329\n",
      "Non-trainable params: 0\n",
      "_________________________________________________________________\n"
     ]
    }
   ],
   "source": [
    "model = SpaceShipTitanicNN(input_shape=(feature_counts,), name=\"SpaceShipTitanicNN\")\n",
    "model.summary()"
   ]
  },
  {
   "cell_type": "code",
   "execution_count": 733,
   "metadata": {},
   "outputs": [],
   "source": [
    "model.compile(loss=BinaryCrossentropy(from_logits=True), optimizer=\"adam\", metrics=[\"accuracy\"])"
   ]
  },
  {
   "cell_type": "code",
   "execution_count": 736,
   "metadata": {},
   "outputs": [
    {
     "name": "stdout",
     "output_type": "stream",
     "text": [
      "Epoch 1/50\n",
      "109/109 [==============================] - 0s 2ms/step - loss: 0.6287 - accuracy: 0.6393 - val_loss: 0.4490 - val_accuracy: 0.7970\n",
      "Epoch 2/50\n",
      "109/109 [==============================] - 0s 1ms/step - loss: 0.4470 - accuracy: 0.7875 - val_loss: 0.4190 - val_accuracy: 0.8016\n",
      "Epoch 3/50\n",
      "109/109 [==============================] - 0s 1ms/step - loss: 0.4292 - accuracy: 0.7921 - val_loss: 0.4098 - val_accuracy: 0.8051\n",
      "Epoch 4/50\n",
      "109/109 [==============================] - 0s 1ms/step - loss: 0.4129 - accuracy: 0.8024 - val_loss: 0.4102 - val_accuracy: 0.8068\n",
      "Epoch 5/50\n",
      "109/109 [==============================] - 0s 1ms/step - loss: 0.4196 - accuracy: 0.7958 - val_loss: 0.4016 - val_accuracy: 0.8091\n",
      "Epoch 6/50\n",
      "109/109 [==============================] - 0s 1ms/step - loss: 0.4051 - accuracy: 0.8055 - val_loss: 0.4004 - val_accuracy: 0.8137\n",
      "Epoch 7/50\n",
      "109/109 [==============================] - 0s 1ms/step - loss: 0.4116 - accuracy: 0.8034 - val_loss: 0.3982 - val_accuracy: 0.8120\n",
      "Epoch 8/50\n",
      "109/109 [==============================] - 0s 1ms/step - loss: 0.3952 - accuracy: 0.8081 - val_loss: 0.3965 - val_accuracy: 0.8091\n",
      "Epoch 9/50\n",
      "109/109 [==============================] - 0s 1ms/step - loss: 0.4035 - accuracy: 0.8061 - val_loss: 0.3949 - val_accuracy: 0.8102\n",
      "Epoch 10/50\n",
      "109/109 [==============================] - 0s 1ms/step - loss: 0.4075 - accuracy: 0.7992 - val_loss: 0.3995 - val_accuracy: 0.8097\n",
      "Epoch 11/50\n",
      "109/109 [==============================] - 0s 1ms/step - loss: 0.3962 - accuracy: 0.8071 - val_loss: 0.3935 - val_accuracy: 0.8108\n",
      "Epoch 12/50\n",
      "109/109 [==============================] - 0s 1ms/step - loss: 0.3940 - accuracy: 0.8105 - val_loss: 0.3942 - val_accuracy: 0.8091\n",
      "Epoch 13/50\n",
      "109/109 [==============================] - 0s 1ms/step - loss: 0.4007 - accuracy: 0.8046 - val_loss: 0.3934 - val_accuracy: 0.8125\n",
      "Epoch 14/50\n",
      "109/109 [==============================] - 0s 1ms/step - loss: 0.3990 - accuracy: 0.8077 - val_loss: 0.3933 - val_accuracy: 0.8137\n",
      "Epoch 15/50\n",
      "109/109 [==============================] - 0s 1ms/step - loss: 0.3868 - accuracy: 0.8158 - val_loss: 0.3910 - val_accuracy: 0.8137\n",
      "Epoch 16/50\n",
      "109/109 [==============================] - 0s 1ms/step - loss: 0.3964 - accuracy: 0.8077 - val_loss: 0.3968 - val_accuracy: 0.8120\n",
      "Epoch 17/50\n",
      "109/109 [==============================] - 0s 1ms/step - loss: 0.3786 - accuracy: 0.8190 - val_loss: 0.3903 - val_accuracy: 0.8108\n",
      "Epoch 18/50\n",
      "109/109 [==============================] - 0s 1ms/step - loss: 0.3911 - accuracy: 0.8127 - val_loss: 0.3909 - val_accuracy: 0.8079\n",
      "Epoch 19/50\n",
      "109/109 [==============================] - 0s 1ms/step - loss: 0.3868 - accuracy: 0.8082 - val_loss: 0.3913 - val_accuracy: 0.8125\n",
      "Epoch 20/50\n",
      "109/109 [==============================] - 0s 1ms/step - loss: 0.3871 - accuracy: 0.8141 - val_loss: 0.3944 - val_accuracy: 0.8131\n",
      "Epoch 21/50\n",
      "109/109 [==============================] - 0s 1ms/step - loss: 0.3865 - accuracy: 0.8132 - val_loss: 0.3894 - val_accuracy: 0.8137\n",
      "Epoch 22/50\n",
      "109/109 [==============================] - 0s 1ms/step - loss: 0.3927 - accuracy: 0.8099 - val_loss: 0.3917 - val_accuracy: 0.8120\n",
      "Epoch 23/50\n",
      "109/109 [==============================] - 0s 1ms/step - loss: 0.3912 - accuracy: 0.8070 - val_loss: 0.3888 - val_accuracy: 0.8166\n",
      "Epoch 24/50\n",
      "109/109 [==============================] - 0s 1ms/step - loss: 0.3892 - accuracy: 0.8112 - val_loss: 0.3914 - val_accuracy: 0.8183\n",
      "Epoch 25/50\n",
      "109/109 [==============================] - 0s 1ms/step - loss: 0.3798 - accuracy: 0.8290 - val_loss: 0.3915 - val_accuracy: 0.8039\n",
      "Epoch 26/50\n",
      "109/109 [==============================] - 0s 1ms/step - loss: 0.3898 - accuracy: 0.8097 - val_loss: 0.3917 - val_accuracy: 0.8108\n",
      "Epoch 27/50\n",
      "109/109 [==============================] - 0s 1ms/step - loss: 0.3771 - accuracy: 0.8237 - val_loss: 0.3890 - val_accuracy: 0.8125\n",
      "Epoch 28/50\n",
      "109/109 [==============================] - 0s 1ms/step - loss: 0.3834 - accuracy: 0.8171 - val_loss: 0.3905 - val_accuracy: 0.8166\n",
      "Epoch 29/50\n",
      "109/109 [==============================] - 0s 1ms/step - loss: 0.3839 - accuracy: 0.8161 - val_loss: 0.3902 - val_accuracy: 0.8108\n",
      "Epoch 30/50\n",
      "109/109 [==============================] - 0s 1ms/step - loss: 0.3807 - accuracy: 0.8177 - val_loss: 0.3938 - val_accuracy: 0.8131\n",
      "Epoch 31/50\n",
      "109/109 [==============================] - 0s 1ms/step - loss: 0.3843 - accuracy: 0.8180 - val_loss: 0.3891 - val_accuracy: 0.8062\n",
      "Epoch 32/50\n",
      "109/109 [==============================] - 0s 1ms/step - loss: 0.3818 - accuracy: 0.8130 - val_loss: 0.3905 - val_accuracy: 0.8114\n",
      "Epoch 33/50\n",
      "109/109 [==============================] - 0s 1ms/step - loss: 0.3693 - accuracy: 0.8216 - val_loss: 0.3915 - val_accuracy: 0.8154\n",
      "Epoch 34/50\n",
      "109/109 [==============================] - 0s 1ms/step - loss: 0.3878 - accuracy: 0.8098 - val_loss: 0.3898 - val_accuracy: 0.8125\n",
      "Epoch 35/50\n",
      "109/109 [==============================] - 0s 1ms/step - loss: 0.3886 - accuracy: 0.8113 - val_loss: 0.3897 - val_accuracy: 0.8108\n",
      "Epoch 36/50\n",
      "109/109 [==============================] - 0s 1ms/step - loss: 0.3774 - accuracy: 0.8207 - val_loss: 0.3897 - val_accuracy: 0.8131\n",
      "Epoch 37/50\n",
      "109/109 [==============================] - 0s 1ms/step - loss: 0.3750 - accuracy: 0.8205 - val_loss: 0.3890 - val_accuracy: 0.8137\n",
      "Epoch 38/50\n",
      "109/109 [==============================] - 0s 1ms/step - loss: 0.3840 - accuracy: 0.8165 - val_loss: 0.3898 - val_accuracy: 0.8125\n",
      "Epoch 39/50\n",
      "109/109 [==============================] - 0s 1ms/step - loss: 0.3858 - accuracy: 0.8100 - val_loss: 0.3921 - val_accuracy: 0.8068\n",
      "Epoch 40/50\n",
      "109/109 [==============================] - 0s 1ms/step - loss: 0.3696 - accuracy: 0.8193 - val_loss: 0.3902 - val_accuracy: 0.8137\n",
      "Epoch 41/50\n",
      "109/109 [==============================] - 0s 1ms/step - loss: 0.3715 - accuracy: 0.8201 - val_loss: 0.3907 - val_accuracy: 0.8143\n",
      "Epoch 42/50\n",
      "109/109 [==============================] - 0s 1ms/step - loss: 0.3748 - accuracy: 0.8195 - val_loss: 0.3930 - val_accuracy: 0.8108\n",
      "Epoch 43/50\n",
      "109/109 [==============================] - 0s 1ms/step - loss: 0.3722 - accuracy: 0.8231 - val_loss: 0.3912 - val_accuracy: 0.8102\n",
      "Epoch 44/50\n",
      "109/109 [==============================] - 0s 1ms/step - loss: 0.3834 - accuracy: 0.8168 - val_loss: 0.3959 - val_accuracy: 0.8051\n",
      "Epoch 45/50\n",
      "109/109 [==============================] - 0s 1ms/step - loss: 0.3710 - accuracy: 0.8215 - val_loss: 0.3914 - val_accuracy: 0.8068\n",
      "Epoch 46/50\n",
      "109/109 [==============================] - 0s 1ms/step - loss: 0.3783 - accuracy: 0.8223 - val_loss: 0.3896 - val_accuracy: 0.8074\n",
      "Epoch 47/50\n",
      "109/109 [==============================] - 0s 1ms/step - loss: 0.3702 - accuracy: 0.8244 - val_loss: 0.3911 - val_accuracy: 0.8108\n",
      "Epoch 48/50\n",
      "109/109 [==============================] - 0s 1ms/step - loss: 0.3768 - accuracy: 0.8164 - val_loss: 0.3908 - val_accuracy: 0.8137\n",
      "Epoch 49/50\n",
      "109/109 [==============================] - 0s 1ms/step - loss: 0.3784 - accuracy: 0.8140 - val_loss: 0.3921 - val_accuracy: 0.8097\n",
      "Epoch 50/50\n",
      "109/109 [==============================] - 0s 1ms/step - loss: 0.3723 - accuracy: 0.8199 - val_loss: 0.3922 - val_accuracy: 0.8079\n"
     ]
    },
    {
     "data": {
      "text/plain": [
       "<tensorflow.python.keras.callbacks.History at 0x7f65ac343580>"
      ]
     },
     "execution_count": 736,
     "metadata": {},
     "output_type": "execute_result"
    }
   ],
   "source": [
    "model.fit(X_train_preproc.to_numpy(), y_train, epochs=50, batch_size=64, \n",
    "          validation_data=(X_test_preproc.to_numpy(), y_test))"
   ]
  },
  {
   "cell_type": "code",
   "execution_count": 737,
   "metadata": {},
   "outputs": [
    {
     "name": "stdout",
     "output_type": "stream",
     "text": [
      "55/55 [==============================] - 0s 667us/step - loss: 0.3922 - accuracy: 0.8079\n"
     ]
    },
    {
     "data": {
      "text/plain": [
       "[0.39219486713409424, 0.8079355955123901]"
      ]
     },
     "execution_count": 737,
     "metadata": {},
     "output_type": "execute_result"
    }
   ],
   "source": [
    "model.evaluate(X_test_preproc.to_numpy(), y_test)"
   ]
  },
  {
   "cell_type": "markdown",
   "metadata": {},
   "source": [
    "### Prediction"
   ]
  },
  {
   "cell_type": "code",
   "execution_count": 782,
   "metadata": {},
   "outputs": [],
   "source": [
    "# SVM is the best estimator"
   ]
  },
  {
   "cell_type": "code",
   "execution_count": 770,
   "metadata": {},
   "outputs": [],
   "source": [
    "final_model = gs.best_estimator_"
   ]
  },
  {
   "cell_type": "code",
   "execution_count": 771,
   "metadata": {},
   "outputs": [],
   "source": [
    "test_file = \"data/test.csv\"\n",
    "submission_file = \"data/submission.csv\"\n",
    "df_test_sub = pd.read_csv(test_file, sep=',')\n",
    "df_submission = df_test_sub[[\"PassengerId\"]]\n",
    "X_test_sub = df_test_sub.drop(columns=['Name', 'PassengerId', 'VIP'])"
   ]
  },
  {
   "cell_type": "code",
   "execution_count": 774,
   "metadata": {},
   "outputs": [],
   "source": [
    "y_predict = final_model.predict(X_test_sub)\n",
    "df_submission = df_submission.assign(Transported=y_predict.astype('bool'))\n",
    "df_submission.to_csv(submission_file, index=False)"
   ]
  },
  {
   "cell_type": "code",
   "execution_count": null,
   "metadata": {},
   "outputs": [],
   "source": [
    "# https://www.kaggle.com/competitions/spaceship-titanic/leaderboard# - Alexander Akhterov"
   ]
  },
  {
   "cell_type": "code",
   "execution_count": null,
   "metadata": {},
   "outputs": [],
   "source": [
    "# Predict for NN"
   ]
  },
  {
   "cell_type": "code",
   "execution_count": 549,
   "metadata": {},
   "outputs": [],
   "source": [
    "X_test_sub_preproc = preprocessing(X_train, X_test_sub)"
   ]
  },
  {
   "cell_type": "code",
   "execution_count": 560,
   "metadata": {},
   "outputs": [],
   "source": [
    "y_predict = model.predict(X_test_sub_preproc)\n",
    "y_predict = (y_predict>0.5).squeeze()"
   ]
  },
  {
   "cell_type": "code",
   "execution_count": 562,
   "metadata": {},
   "outputs": [],
   "source": [
    "df_submission = df_submission.assign(Transported=y_predict)\n",
    "df_submission.to_csv(submission_file, index=False)"
   ]
  }
 ],
 "metadata": {
  "kernelspec": {
   "display_name": "Python 3",
   "language": "python",
   "name": "python3"
  },
  "language_info": {
   "codemirror_mode": {
    "name": "ipython",
    "version": 3
   },
   "file_extension": ".py",
   "mimetype": "text/x-python",
   "name": "python",
   "nbconvert_exporter": "python",
   "pygments_lexer": "ipython3",
   "version": "3.8.10"
  }
 },
 "nbformat": 4,
 "nbformat_minor": 4
}
