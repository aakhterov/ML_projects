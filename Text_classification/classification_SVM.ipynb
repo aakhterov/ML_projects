{
 "cells": [
  {
   "cell_type": "code",
   "execution_count": 1,
   "metadata": {},
   "outputs": [],
   "source": [
    "import numpy as np\n",
    "from scipy.spatial import distance\n",
    "from sklearn.metrics import confusion_matrix, ConfusionMatrixDisplay\n",
    "import matplotlib.pyplot as plt\n",
    "from pprint import pprint\n",
    "from sklearn.model_selection import train_test_split\n",
    "from sklearn.svm import SVC\n",
    "from sklearn.model_selection import GridSearchCV\n",
    "from sklearn import metrics\n",
    "import joblib"
   ]
  },
  {
   "cell_type": "code",
   "execution_count": 4,
   "metadata": {},
   "outputs": [],
   "source": [
    "# Read word embedding"
   ]
  },
  {
   "cell_type": "code",
   "execution_count": 7,
   "metadata": {},
   "outputs": [],
   "source": [
    "words, vectors = [], []\n",
    "with open(\"data/metadata_norm_sentence_length_6_256_v2.tsv\", mode=\"r\") as words_file, \\\n",
    "open(\"data/vectors_norm_sentence_length_6_256_v2.tsv\", mode=\"r\") as vectors_file:\n",
    "    for word in words_file:\n",
    "        if not word[:-1]:\n",
    "            continue\n",
    "        words.append(word[:-1])\n",
    "    for vector in vectors_file:\n",
    "        if not vector[:-1]:\n",
    "            continue\n",
    "        vectors.append([float(vec) for vec in vector[:-1].split()]) \n",
    "\n",
    "embedding = {word: np.array(vectors[idx]) for idx, word in enumerate(words)}"
   ]
  },
  {
   "cell_type": "code",
   "execution_count": 5,
   "metadata": {},
   "outputs": [],
   "source": [
    "# Define variables"
   ]
  },
  {
   "cell_type": "code",
   "execution_count": 13,
   "metadata": {},
   "outputs": [],
   "source": [
    "UNK = '[UNK]'\n",
    "sentence_length = 8\n",
    "embedding_vectors_dim = 256"
   ]
  },
  {
   "cell_type": "code",
   "execution_count": 57,
   "metadata": {},
   "outputs": [],
   "source": [
    "# Read dataset from file, transform sentences to embedding and get dictionary \n",
    "# of the form: \n",
    "# {target_class_1: [embeddings_sentence_1, embeddings_sentence_2, ...], target_class_2: [...], ...}. \n",
    "# For getting vector from senetence we get element-wise average of words embedding: \n",
    "# embeddings_sentence_1 = (embedding_word_1 + embedding_word_2 +...)/number_of_words_in_the_sentence_1"
   ]
  },
  {
   "cell_type": "code",
   "execution_count": 15,
   "metadata": {},
   "outputs": [],
   "source": [
    "result = {}\n",
    "samples = {}\n",
    "filename = \"data/multiclassification_dataset_new.csv\"\n",
    "with open(filename, mode=\"r\") as file:\n",
    "    for line in file:\n",
    "        sample, class_ = line[:-1].split(\";\")\n",
    "        class_ = \"_\".join(class_.split())\n",
    "        if class_ not in result:\n",
    "            result[class_] = []\n",
    "            samples[class_] = []\n",
    "        samples[class_].append(sample)\n",
    "        sentence_vector = np.zeros((embedding_vectors_dim,))\n",
    "        words = sample.strip().split()[:sentence_length]\n",
    "        for word in words:\n",
    "            sentence_vector += embedding[word] if word in embedding else embedding[UNK]\n",
    "        if words:\n",
    "            sentence_vector /= len(words)        \n",
    "            result[class_].append(sentence_vector)"
   ]
  },
  {
   "cell_type": "code",
   "execution_count": 16,
   "metadata": {},
   "outputs": [
    {
     "data": {
      "text/plain": [
       "dict_keys(['connect_to_inet', 'no_internet', 'finance', 'support', 'consult'])"
      ]
     },
     "execution_count": 16,
     "metadata": {},
     "output_type": "execute_result"
    }
   ],
   "source": [
    "result.keys()"
   ]
  },
  {
   "cell_type": "code",
   "execution_count": 58,
   "metadata": {},
   "outputs": [
    {
     "data": {
      "text/plain": [
       "256"
      ]
     },
     "execution_count": 58,
     "metadata": {},
     "output_type": "execute_result"
    }
   ],
   "source": [
    "len(result['connect_to_inet'][0])"
   ]
  },
  {
   "cell_type": "code",
   "execution_count": 22,
   "metadata": {},
   "outputs": [
    {
     "name": "stdout",
     "output_type": "stream",
     "text": [
      "connect_to_inet: 593\n",
      "no_internet: 511\n",
      "finance: 1848\n",
      "support: 1871\n",
      "consult: 2163\n"
     ]
    }
   ],
   "source": [
    "for k,v in result.items():\n",
    "    print(f\"{k}: {(len(v))}\")"
   ]
  },
  {
   "cell_type": "code",
   "execution_count": 59,
   "metadata": {},
   "outputs": [],
   "source": [
    "# Define X and y from result"
   ]
  },
  {
   "cell_type": "code",
   "execution_count": 23,
   "metadata": {},
   "outputs": [],
   "source": [
    "X, y = [], []\n",
    "for class_, samples in result.items():\n",
    "    for sample in samples:\n",
    "        X.append(sample)\n",
    "        y.append(class_)"
   ]
  },
  {
   "cell_type": "code",
   "execution_count": 60,
   "metadata": {},
   "outputs": [],
   "source": [
    "# Split to train and test"
   ]
  },
  {
   "cell_type": "code",
   "execution_count": 24,
   "metadata": {},
   "outputs": [],
   "source": [
    "X = np.array(X)\n",
    "y = np.array(y)\n",
    "X_train, X_test, y_train, y_test = train_test_split(X, y, test_size=0.2)"
   ]
  },
  {
   "cell_type": "code",
   "execution_count": null,
   "metadata": {},
   "outputs": [],
   "source": []
  },
  {
   "cell_type": "markdown",
   "metadata": {},
   "source": [
    "### SVM"
   ]
  },
  {
   "cell_type": "code",
   "execution_count": 61,
   "metadata": {},
   "outputs": [],
   "source": [
    "# Choose the best parameters value with gridsearch"
   ]
  },
  {
   "cell_type": "code",
   "execution_count": 25,
   "metadata": {},
   "outputs": [
    {
     "data": {
      "text/plain": [
       "0.9055793991416309"
      ]
     },
     "execution_count": 25,
     "metadata": {},
     "output_type": "execute_result"
    }
   ],
   "source": [
    "param_grid =  {\n",
    "    'C': [1, 5, 10], \n",
    "    'gamma': ['scale', 'auto'], \n",
    "    'kernel': ['rbf', 'sigmoid'], \n",
    "    'class_weight': ['balanced', None],\n",
    "}\n",
    "svc = SVC()\n",
    "clf = GridSearchCV(svc, param_grid).fit(X_train, y_train)\n",
    "clf.score(X_test, y_test)"
   ]
  },
  {
   "cell_type": "code",
   "execution_count": 26,
   "metadata": {},
   "outputs": [
    {
     "data": {
      "text/plain": [
       "{'C': 5,\n",
       " 'break_ties': False,\n",
       " 'cache_size': 200,\n",
       " 'class_weight': None,\n",
       " 'coef0': 0.0,\n",
       " 'decision_function_shape': 'ovr',\n",
       " 'degree': 3,\n",
       " 'gamma': 'scale',\n",
       " 'kernel': 'rbf',\n",
       " 'max_iter': -1,\n",
       " 'probability': False,\n",
       " 'random_state': None,\n",
       " 'shrinking': True,\n",
       " 'tol': 0.001,\n",
       " 'verbose': False}"
      ]
     },
     "execution_count": 26,
     "metadata": {},
     "output_type": "execute_result"
    }
   ],
   "source": [
    "clf.best_estimator_.get_params()"
   ]
  },
  {
   "cell_type": "code",
   "execution_count": 27,
   "metadata": {},
   "outputs": [],
   "source": [
    "clf0 = clf.best_estimator_"
   ]
  },
  {
   "cell_type": "code",
   "execution_count": 32,
   "metadata": {},
   "outputs": [],
   "source": [
    "y_test_pred = clf0.predict(X_test)"
   ]
  },
  {
   "cell_type": "code",
   "execution_count": 62,
   "metadata": {},
   "outputs": [],
   "source": [
    "# Print base metrics"
   ]
  },
  {
   "cell_type": "code",
   "execution_count": 33,
   "metadata": {},
   "outputs": [
    {
     "name": "stdout",
     "output_type": "stream",
     "text": [
      "                 precision    recall  f1-score   support\n",
      "\n",
      "connect_to_inet       0.87      0.85      0.86       116\n",
      "        consult       0.88      0.92      0.90       433\n",
      "        finance       0.95      0.90      0.92       373\n",
      "    no_internet       0.78      0.85      0.81        80\n",
      "        support       0.93      0.93      0.93       396\n",
      "\n",
      "       accuracy                           0.91      1398\n",
      "      macro avg       0.88      0.89      0.89      1398\n",
      "   weighted avg       0.91      0.91      0.91      1398\n",
      "\n"
     ]
    }
   ],
   "source": [
    "print(metrics.classification_report(y_test_pred, y_test))"
   ]
  },
  {
   "cell_type": "code",
   "execution_count": 63,
   "metadata": {},
   "outputs": [],
   "source": [
    "# Print confusion matrix to see the most problematic classes"
   ]
  },
  {
   "cell_type": "code",
   "execution_count": 34,
   "metadata": {},
   "outputs": [],
   "source": [
    "def conf_matrix(y_true, y_pred, keys):\n",
    "    cm = confusion_matrix(y_true, y_pred, labels=list(keys))\n",
    "    fig = plt.figure(figsize=(10, 10))\n",
    "    ax = plt.axes()\n",
    "    disp = ConfusionMatrixDisplay(confusion_matrix=cm, display_labels=list(keys))\n",
    "    disp.plot(xticks_rotation=\"vertical\", ax=ax)"
   ]
  },
  {
   "cell_type": "code",
   "execution_count": 35,
   "metadata": {},
   "outputs": [
    {
     "data": {
      "image/png": "[encoded data removed]",
      "text/plain": [
       "<Figure size 720x720 with 2 Axes>"
      ]
     },
     "metadata": {
      "needs_background": "light"
     },
     "output_type": "display_data"
    }
   ],
   "source": [
    "conf_matrix(y_test, y_test_pred, set(y_test_pred))"
   ]
  },
  {
   "cell_type": "code",
   "execution_count": 64,
   "metadata": {},
   "outputs": [],
   "source": [
    "# The most problematic class is 'consult'. On 21 samples we made a mistake by predicting class 'support' and \n",
    "# on 23 samples we made a mistake by predicting class 'finance'. It may be due not-so-good dataset that has \n",
    "# human errors. "
   ]
  },
  {
   "cell_type": "code",
   "execution_count": 65,
   "metadata": {},
   "outputs": [],
   "source": [
    "# Save the model for future using"
   ]
  },
  {
   "cell_type": "code",
   "execution_count": 37,
   "metadata": {},
   "outputs": [
    {
     "data": {
      "text/plain": [
       "['multiclassification_5_category_update_256.sav']"
      ]
     },
     "execution_count": 37,
     "metadata": {},
     "output_type": "execute_result"
    }
   ],
   "source": [
    "filename = 'multiclassification_5_category_update_256.sav'\n",
    "joblib.dump(clf0, filename)"
   ]
  }
 ],
 "metadata": {
  "kernelspec": {
   "display_name": "Python 3",
   "language": "python",
   "name": "python3"
  },
  "language_info": {
   "codemirror_mode": {
    "name": "ipython",
    "version": 3
   },
   "file_extension": ".py",
   "mimetype": "text/x-python",
   "name": "python",
   "nbconvert_exporter": "python",
   "pygments_lexer": "ipython3",
   "version": "3.8.10"
  }
 },
 "nbformat": 4,
 "nbformat_minor": 4
}
