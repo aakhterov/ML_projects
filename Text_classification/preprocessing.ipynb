{
  "nbformat": 4,
  "nbformat_minor": 0,
  "metadata": {
    "colab": {
      "provenance": [],
      "mount_file_id": "1UQnP6eFCEhswJ_nJMXO7zgqlyjsHe6r1",
      "authorship_tag": "ABX9TyOhiwQEn4H16Bv5FkXjseDL",
      "include_colab_link": true
    },
    "kernelspec": {
      "name": "python3",
      "display_name": "Python 3"
    },
    "language_info": {
      "name": "python"
    }
  },
  "cells": [
    {
      "cell_type": "markdown",
      "metadata": {
        "id": "view-in-github",
        "colab_type": "text"
      },
      "source": [
        "<a href=\"https://colab.research.google.com/github/aakhterov/ML_projects/blob/master/Text_classification/preprocessing.ipynb\" target=\"_parent\"><img src=\"https://colab.research.google.com/assets/colab-badge.svg\" alt=\"Open In Colab\"/></a>"
      ]
    },
    {
      "cell_type": "code",
      "execution_count": 7,
      "metadata": {
        "id": "oHs7NDGR4z8T",
        "colab": {
          "base_uri": "https://localhost:8080/"
        },
        "outputId": "a9f7a451-f23e-48dc-dd36-eb2eba824a72"
      },
      "outputs": [
        {
          "output_type": "stream",
          "name": "stdout",
          "text": [
            "Drive already mounted at /content/drive; to attempt to forcibly remount, call drive.mount(\"/content/drive\", force_remount=True).\n"
          ]
        }
      ],
      "source": [
        "from google.colab import drive\n",
        "drive.mount('/content/drive')"
      ]
    },
    {
      "cell_type": "code",
      "source": [
        "# !pip install pymorphy2"
      ],
      "metadata": {
        "id": "68Uy1uJK5xh9"
      },
      "execution_count": 8,
      "outputs": []
    },
    {
      "cell_type": "code",
      "source": [
        "import json\n",
        "import re\n",
        "from pprint import pprint\n",
        "import pymorphy2\n",
        "morph = pymorphy2.MorphAnalyzer()"
      ],
      "metadata": {
        "id": "tFVHhHMK5uNB"
      },
      "execution_count": 9,
      "outputs": []
    },
    {
      "cell_type": "markdown",
      "source": [
        "#Load data"
      ],
      "metadata": {
        "id": "W19JciqxSSXp"
      }
    },
    {
      "cell_type": "code",
      "source": [
        "# Load conversations"
      ],
      "metadata": {
        "id": "2JCgwweY55v-"
      },
      "execution_count": 10,
      "outputs": []
    },
    {
      "cell_type": "code",
      "source": [
        "with open(\"/content/drive/MyDrive/Colab Notebooks/Data/samples.json\", mode=\"r\") as file:\n",
        "    dialogs_json = json.loads(file.read())"
      ],
      "metadata": {
        "id": "ZguNfeZV5-EQ"
      },
      "execution_count": 11,
      "outputs": []
    },
    {
      "cell_type": "code",
      "source": [
        "dialogs_json[\"50980\"]"
      ],
      "metadata": {
        "colab": {
          "base_uri": "https://localhost:8080/"
        },
        "id": "rgyaWNww78T-",
        "outputId": "ece50501-d076-4de4-e367-ef39972cf4cf"
      },
      "execution_count": 12,
      "outputs": [
        {
          "output_type": "execute_result",
          "data": {
            "text/plain": [
              "{'er': 245952,\n",
              " 'site': 159859,\n",
              " 'created_at': '2020-04-30 18:38:10',\n",
              " 'visitors_phrases': ['Здравствуйте!',\n",
              "  'Подскажите как добавить устройство к договору своему',\n",
              "  'С которого с Вами общаюсь да',\n",
              "  'Ноутбук возможно',\n",
              "  'Захожу с него в кабинет договора 111111',\n",
              "  'A1-B1-C1-D4-E4-F7',\n",
              "  'Спасибо',\n",
              "  '1 мб/с :('],\n",
              " 'agents_phrases': ['Здравствуйте!',\n",
              "  'Данное устройство уже было ранее зарегистрировано в сети ловит?',\n",
              "  'Ноутбук был ране у нас на другом договоре зарегистрирован? Если да то уточните номер договора.',\n",
              "  'Сергей уточните',\n",
              "  'Сейчас переведу устройство на действующий договор',\n",
              "  'Сергей',\n",
              "  'Скорость у городской сети до 10мбит в сек',\n",
              "  'Возможно',\n",
              "  'Спасибо']}"
            ]
          },
          "metadata": {},
          "execution_count": 12
        }
      ]
    },
    {
      "cell_type": "code",
      "source": [
        "# Load conversation themes"
      ],
      "metadata": {
        "id": "Njt9QxCG6a0I"
      },
      "execution_count": 13,
      "outputs": []
    },
    {
      "cell_type": "code",
      "source": [
        "er = {}\n",
        "with open(\"/content/drive/MyDrive/Colab Notebooks/Data/dialogs_table_employee_remarks.sql\", mode=\"r\") as file:\n",
        "    for line in file:\n",
        "        if line[0] == '(':\n",
        "            rec = line[1:-3].split(',')\n",
        "            er[int(rec[0])] = rec[1].strip(\" '\").replace(\"\\\\\",\"\").replace(\"\\\"\",\"\")\n",
        "pprint(er)"
      ],
      "metadata": {
        "colab": {
          "base_uri": "https://localhost:8080/"
        },
        "id": "ypfKfEHk7l5L",
        "outputId": "095b88a6-43c1-4b5d-f8fb-9dcdc00d8210"
      },
      "execution_count": 14,
      "outputs": [
        {
          "output_type": "stream",
          "name": "stdout",
          "text": [
            "{1: 'нет оценки',\n",
            " 236486: 'Заявка на подключение Интернет',\n",
            " 236487: 'Консультация по подключению Интернет',\n",
            " 236488: 'Консультация по КТВ',\n",
            " 236489: 'Финансовая консультация',\n",
            " 236490: 'Консультация по интерактивному телевидению',\n",
            " 236491: 'Не работает ЛК приложение – рекомендация по работе',\n",
            " 245949: 'ТТ Финансы',\n",
            " 245950: 'ТТ Клиентские',\n",
            " 245951: 'Общая проблема - информирование клиента',\n",
            " 245952: 'Не работает интернет – рекомендация по настройке',\n",
            " 245953: 'Смена тарифного плана',\n",
            " 245954: 'Инсталляция',\n",
            " 245955: 'Консультация по доп.услугам',\n",
            " 245956: 'Прочее',\n",
            " 246249: 'ТТ Телевидение',\n",
            " 246250: 'Не работает КТВ – рекомендация по настройке',\n",
            " 246251: 'Не работает Интерактивное ТВ – рекомендация по настройке',\n",
            " 246252: 'Не работают прочие услуги – рекомендация по работе',\n",
            " 247714: 'Возврат ДС/оборудования // Переоформление /расторжение договора'}\n"
          ]
        }
      ]
    },
    {
      "cell_type": "code",
      "source": [
        "# Grouping conversation topics to group related topics"
      ],
      "metadata": {
        "id": "zTZL5FBJ7pYW"
      },
      "execution_count": 15,
      "outputs": []
    },
    {
      "cell_type": "code",
      "source": [
        "categories_to_er = {\n",
        "    \"connect_to_inet\": [236486, 236487],\n",
        "    \"install\": [245954],\n",
        "    \"finance\": [236489, 245949],\n",
        "    \"no_LK\": [236491],\n",
        "    \"no_ITV\": [246251],\n",
        "    \"no_KTV\": [246250],\n",
        "    \"low_speed\": [245950],\n",
        "    \"no_internet\": [245952],\n",
        "    \"termination_return\": [247714],\n",
        "    \"tariff_changes\": [245953],\n",
        "    \"TV\": [246249],\n",
        "    \"KTV\": [236488],\n",
        "    \"ITV\": [236490],\n",
        "    \"additional\": [245955],\n",
        "#     \"other\": [245953, 246249, 236488, 236490, 245955]\n",
        "}\n",
        "er_to_categories = {}\n",
        "for category, value in categories_to_er.items():\n",
        "    er_to_categories = {**er_to_categories, **{er: category for er in value}}\n",
        "pprint(er_to_categories)"
      ],
      "metadata": {
        "colab": {
          "base_uri": "https://localhost:8080/"
        },
        "id": "MtIOwhnL7vGr",
        "outputId": "94225e34-00ac-4e18-c6d2-b2f932a03069"
      },
      "execution_count": 16,
      "outputs": [
        {
          "output_type": "stream",
          "name": "stdout",
          "text": [
            "{236486: 'connect_to_inet',\n",
            " 236487: 'connect_to_inet',\n",
            " 236488: 'KTV',\n",
            " 236489: 'finance',\n",
            " 236490: 'ITV',\n",
            " 236491: 'no_LK',\n",
            " 245949: 'finance',\n",
            " 245950: 'low_speed',\n",
            " 245952: 'no_internet',\n",
            " 245953: 'tariff_changes',\n",
            " 245954: 'install',\n",
            " 245955: 'additional',\n",
            " 246249: 'TV',\n",
            " 246250: 'no_KTV',\n",
            " 246251: 'no_ITV',\n",
            " 247714: 'termination_return'}\n"
          ]
        }
      ]
    },
    {
      "cell_type": "markdown",
      "source": [
        "#Preprocessing pipeline"
      ],
      "metadata": {
        "id": "pNGpPp9c9xAt"
      }
    },
    {
      "cell_type": "code",
      "source": [
        "# Bring the words associated with wi-fi to the same form"
      ],
      "metadata": {
        "id": "lgnCX2kL7vJ6"
      },
      "execution_count": 17,
      "outputs": []
    },
    {
      "cell_type": "code",
      "source": [
        "wifi_union = [(\"wi\", \"fi\"), (\"вай\", \"фай\")]\n",
        "wifi_naming = {\"wifi\": \"вайфай\", \"wi-fi\": \"вайфай\", \"вайфая\": \"вайфай\"}\n",
        "def wifi_preprocessing(phrase: str) -> str:\n",
        "    words = [word.replace(\"фая\", \"фай\") for word in phrase.split()]\n",
        "    i = 0\n",
        "    united_words = []\n",
        "    while i<len(words):\n",
        "        for pair in wifi_union:\n",
        "            if i < len(words)-1 and words[i] == pair[0] and words[i+1] == pair[1]:\n",
        "                united_words.append(words[i] + words[i+1])\n",
        "                i += 2\n",
        "                break\n",
        "        else:\n",
        "            united_words.append(words[i])\n",
        "            i += 1\n",
        "    words = [word if word not in wifi_naming else wifi_naming[word] for word in united_words]\n",
        "    result_phrase = \" \".join(words)\n",
        "    return result_phrase"
      ],
      "metadata": {
        "id": "VQZKoamo7vM3"
      },
      "execution_count": 18,
      "outputs": []
    },
    {
      "cell_type": "code",
      "source": [
        "# Remove links"
      ],
      "metadata": {
        "id": "8ch2XakX7vPP"
      },
      "execution_count": 19,
      "outputs": []
    },
    {
      "cell_type": "code",
      "source": [
        "def remove_links(text: str) -> str:\n",
        "    return re.sub(r'(www|http:|https:)+[^\\s]+[\\w]', '', text)"
      ],
      "metadata": {
        "id": "SMKivTd094_e"
      },
      "execution_count": 20,
      "outputs": []
    },
    {
      "cell_type": "code",
      "source": [
        "# Remove all expected digits, russian letters, space, ., ! and ?"
      ],
      "metadata": {
        "id": "6S_ah5ep95CG"
      },
      "execution_count": 21,
      "outputs": []
    },
    {
      "cell_type": "code",
      "source": [
        "def remove_punct_and_latin(text: str) -> str:\n",
        "    return re.sub(r'[^0-9А-ЯЁа-яё\\s.!?]', '', text)"
      ],
      "metadata": {
        "id": "XGRFzEPL-Bg4"
      },
      "execution_count": 22,
      "outputs": []
    },
    {
      "cell_type": "code",
      "source": [
        "# Replace digits by symbol #"
      ],
      "metadata": {
        "id": "FtgMQ7f6-Bj1"
      },
      "execution_count": 23,
      "outputs": []
    },
    {
      "cell_type": "code",
      "source": [
        "def replace_digits(text: str) -> str:\n",
        "    for length in range(10,0,-1):\n",
        "        pattern = r'\\d{' + str(length) + '}'\n",
        "        match = re.search(pattern, text)\n",
        "        if match:\n",
        "            text = re.sub(pattern, '#'*length, text)\n",
        "    return text"
      ],
      "metadata": {
        "id": "vOxHIKeU-Bm4"
      },
      "execution_count": 24,
      "outputs": []
    },
    {
      "cell_type": "code",
      "source": [
        "# Converting words to normal form"
      ],
      "metadata": {
        "id": "B9So5-kl-Bpq"
      },
      "execution_count": 25,
      "outputs": []
    },
    {
      "cell_type": "code",
      "source": [
        "exception_words = ['ловит', 'ловита', 'ловиту']\n",
        "def normalize(text: str) -> str:\n",
        "    normilized_sentence = []\n",
        "    for word in text.split():\n",
        "        if word not in exception_words:\n",
        "            word_forms = morph.parse(word)\n",
        "            if word_forms:\n",
        "                normilized_sentence.append(word_forms[0].normal_form)\n",
        "        else:\n",
        "            normilized_sentence.append(word)\n",
        "    return \" \".join(normilized_sentence)"
      ],
      "metadata": {
        "id": "HZVdLljJ-Iac"
      },
      "execution_count": 26,
      "outputs": []
    },
    {
      "cell_type": "code",
      "source": [
        "# Split phrase by sentences"
      ],
      "metadata": {
        "id": "NKrJ2tds-IeH"
      },
      "execution_count": 27,
      "outputs": []
    },
    {
      "cell_type": "code",
      "source": [
        "def split_by_sentence(separators, phrases):\n",
        "    tmp = phrases\n",
        "    for sep in separators:\n",
        "        result = []\n",
        "        for phrase in list(map(lambda x: x.split(sep), tmp)):\n",
        "            result += phrase\n",
        "        tmp = result\n",
        "    return [phrase.strip() for phrase in result if phrase.strip() != \"\"]"
      ],
      "metadata": {
        "id": "Eg3cQeAF-IhH"
      },
      "execution_count": 28,
      "outputs": []
    },
    {
      "cell_type": "code",
      "source": [
        "# Remove stop words"
      ],
      "metadata": {
        "id": "dmgRlIhr-Ij3"
      },
      "execution_count": 29,
      "outputs": []
    },
    {
      "cell_type": "code",
      "source": [
        "def remove_stop_words(text: str) -> str:\n",
        "    stop_words = ['здравствуйте', 'добрый день', 'доброе утро', 'доброй ночи', 'добрый вечер', 'привет', 'спасибо',\n",
        "                  'добрый утро', 'добрый ночи', 'досвидание', 'до свидание', 'всего хорошего', 'всего хороший']\n",
        "    for word in stop_words:\n",
        "        pattern = r'' + word + ''\n",
        "        text = re.sub(pattern, '', text)\n",
        "    return text"
      ],
      "metadata": {
        "id": "yjy18Rag-Til"
      },
      "execution_count": 30,
      "outputs": []
    },
    {
      "cell_type": "code",
      "source": [
        "# Make transformation"
      ],
      "metadata": {
        "id": "dIZVnk1D-Tlo"
      },
      "execution_count": 31,
      "outputs": []
    },
    {
      "cell_type": "code",
      "source": [
        "all_processing_phrases = []\n",
        "for _, value in dialogs_json.items():\n",
        "    phrases = value[\"visitors_phrases\"] + value[\"agents_phrases\"]\n",
        "    phrases = list(map(lambda x: remove_links(x), phrases))\n",
        "    phrases = list(map(lambda x: wifi_preprocessing(x), phrases))\n",
        "    phrases = list(map(lambda x: remove_punct_and_latin(x), phrases))\n",
        "    phrases = list(map(lambda x: replace_digits(x), phrases))\n",
        "    phrases = list(map(lambda x: x.lower(), phrases))\n",
        "    phrases = split_by_sentence(\".!?\", phrases)\n",
        "    phrases = list(map(lambda x: normalize(x), phrases))\n",
        "    phrases = list(map(lambda x: remove_stop_words(x), phrases))\n",
        "    phrases = [phrase.strip() for phrase in phrases if phrase.strip() !=\"\"]\n",
        "    all_processing_phrases += phrases"
      ],
      "metadata": {
        "id": "mKVtIQOi-ToF"
      },
      "execution_count": 32,
      "outputs": []
    },
    {
      "cell_type": "code",
      "source": [
        "len(all_processing_phrases)"
      ],
      "metadata": {
        "colab": {
          "base_uri": "https://localhost:8080/"
        },
        "id": "6qBriAKl-BsF",
        "outputId": "27b7daa3-8ac1-4db9-d5f7-7499f9571d38"
      },
      "execution_count": 33,
      "outputs": [
        {
          "output_type": "execute_result",
          "data": {
            "text/plain": [
              "52"
            ]
          },
          "metadata": {},
          "execution_count": 33
        }
      ]
    },
    {
      "cell_type": "code",
      "source": [
        "all_processing_phrases[:10]"
      ],
      "metadata": {
        "colab": {
          "base_uri": "https://localhost:8080/"
        },
        "id": "7gOKYR-g-iWb",
        "outputId": "56f08759-c064-44e7-a0c9-b1c5cc656154"
      },
      "execution_count": 34,
      "outputs": [
        {
          "output_type": "execute_result",
          "data": {
            "text/plain": [
              "['подсказать как добавить устройство к договор свой',\n",
              " 'с который с вы общаться да',\n",
              " 'ноутбук возможно',\n",
              " 'заходить с он в кабинет договор ######',\n",
              " '######',\n",
              " '# мбс',\n",
              " 'данный устройство уже быть ранее зарегистрировать в сеть ловит',\n",
              " 'ноутбук быть рана у мы на друг договор зарегистрировать',\n",
              " 'если да то уточнить номер договор',\n",
              " 'сергей уточнить']"
            ]
          },
          "metadata": {},
          "execution_count": 34
        }
      ]
    },
    {
      "cell_type": "markdown",
      "source": [
        "#Look at the length of the phrases"
      ],
      "metadata": {
        "id": "ZLUMMimTQ1D3"
      }
    },
    {
      "cell_type": "code",
      "source": [
        "from statistics import mean, quantiles\n",
        "import numpy as np"
      ],
      "metadata": {
        "id": "Q-NLhhM-Q1ge"
      },
      "execution_count": 35,
      "outputs": []
    },
    {
      "cell_type": "code",
      "source": [
        "# Get lengths"
      ],
      "metadata": {
        "id": "q0LGEzX-Tp6j"
      },
      "execution_count": 49,
      "outputs": []
    },
    {
      "cell_type": "code",
      "source": [
        "lens = [len(phrase.split()) for phrase in all_processing_phrases]"
      ],
      "metadata": {
        "id": "H1_HDiBpQ1n9"
      },
      "execution_count": 54,
      "outputs": []
    },
    {
      "cell_type": "code",
      "source": [
        "mean(lens)"
      ],
      "metadata": {
        "colab": {
          "base_uri": "https://localhost:8080/"
        },
        "id": "jSPQsOVwQ1rZ",
        "outputId": "81d86a9e-1f47-4934-de8d-4dcad49fa339"
      },
      "execution_count": 55,
      "outputs": [
        {
          "output_type": "execute_result",
          "data": {
            "text/plain": [
              "4.230769230769231"
            ]
          },
          "metadata": {},
          "execution_count": 55
        }
      ]
    },
    {
      "cell_type": "code",
      "source": [
        "quantiles(lens)"
      ],
      "metadata": {
        "colab": {
          "base_uri": "https://localhost:8080/"
        },
        "id": "hvynXxVRQ1uQ",
        "outputId": "5074a1c3-ea2c-4f55-8e79-5713e3b8db7d"
      },
      "execution_count": 56,
      "outputs": [
        {
          "output_type": "execute_result",
          "data": {
            "text/plain": [
              "[2.0, 4.0, 6.0]"
            ]
          },
          "metadata": {},
          "execution_count": 56
        }
      ]
    },
    {
      "cell_type": "code",
      "source": [
        "np.bincount(lens) # get distribution by lengths"
      ],
      "metadata": {
        "colab": {
          "base_uri": "https://localhost:8080/"
        },
        "id": "Li-MKPaJQ1xN",
        "outputId": "82d608e6-50cf-4ce3-8c1c-89a00c3a24e3"
      },
      "execution_count": 57,
      "outputs": [
        {
          "output_type": "execute_result",
          "data": {
            "text/plain": [
              "array([ 0,  9, 10,  3, 11,  2,  6,  4,  2,  3,  1,  1])"
            ]
          },
          "metadata": {},
          "execution_count": 57
        }
      ]
    },
    {
      "cell_type": "code",
      "source": [
        "# Let's look at the phrases with length = 1"
      ],
      "metadata": {
        "id": "fMxXq2XeUzfX"
      },
      "execution_count": 59,
      "outputs": []
    },
    {
      "cell_type": "code",
      "source": [
        "[phrase for phrase in all_processing_phrases if len(phrase.split()) == 1]"
      ],
      "metadata": {
        "colab": {
          "base_uri": "https://localhost:8080/"
        },
        "id": "K--H2HP5UAS2",
        "outputId": "98eeee1a-ec4d-40e6-ceeb-f83c3dd9dbb6"
      },
      "execution_count": 58,
      "outputs": [
        {
          "output_type": "execute_result",
          "data": {
            "text/plain": [
              "['######',\n",
              " 'сергей',\n",
              " 'возможно',\n",
              " 'да',\n",
              " 'да',\n",
              " 'понятно',\n",
              " '####',\n",
              " '######',\n",
              " 'уточнить']"
            ]
          },
          "metadata": {},
          "execution_count": 58
        }
      ]
    },
    {
      "cell_type": "code",
      "source": [
        "# These phrases are meaningless. We can remove them"
      ],
      "metadata": {
        "id": "r3XhQA-mUKW9"
      },
      "execution_count": 51,
      "outputs": []
    },
    {
      "cell_type": "markdown",
      "source": [
        "#Remove phrase with length 1"
      ],
      "metadata": {
        "id": "dLB9gSLuRuHm"
      }
    },
    {
      "cell_type": "code",
      "source": [
        "processing_phrases_more_one_word = [phrase for phrase in all_processing_phrases if len(phrase.split()) > 1]"
      ],
      "metadata": {
        "id": "NJGo-DPQRu0I"
      },
      "execution_count": 52,
      "outputs": []
    },
    {
      "cell_type": "code",
      "source": [
        "len(processing_phrases_more_one_word) # there were 749130 phrases in reality"
      ],
      "metadata": {
        "colab": {
          "base_uri": "https://localhost:8080/"
        },
        "id": "kZXpEA3oRu9l",
        "outputId": "7047dcf3-5d3c-4769-d8ff-65e81582be96"
      },
      "execution_count": 53,
      "outputs": [
        {
          "output_type": "execute_result",
          "data": {
            "text/plain": [
              "43"
            ]
          },
          "metadata": {},
          "execution_count": 53
        }
      ]
    }
  ]
}